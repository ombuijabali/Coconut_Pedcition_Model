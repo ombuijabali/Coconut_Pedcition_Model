{
  "nbformat": 4,
  "nbformat_minor": 0,
  "metadata": {
    "colab": {
      "provenance": [],
      "authorship_tag": "ABX9TyP1Az0DP90tR24alV2yVPOb",
      "include_colab_link": true
    },
    "kernelspec": {
      "name": "python3",
      "display_name": "Python 3"
    },
    "language_info": {
      "name": "python"
    }
  },
  "cells": [
    {
      "cell_type": "markdown",
      "metadata": {
        "id": "view-in-github",
        "colab_type": "text"
      },
      "source": [
        "<a href=\"https://colab.research.google.com/github/ombuijabali/web_scraping/blob/main/web_scraping.ipynb\" target=\"_parent\"><img src=\"https://colab.research.google.com/assets/colab-badge.svg\" alt=\"Open In Colab\"/></a>"
      ]
    },
    {
      "cell_type": "code",
      "execution_count": null,
      "metadata": {
        "id": "BiNUWneKh8GD"
      },
      "outputs": [],
      "source": [
        "import pandas as pd\n",
        "\n",
        "# Load your CSV file into a pandas DataFrame\n",
        "df = pd.read_csv('your_file.csv')\n",
        "\n",
        "# Define a function to extract latitude and longitude from the URL\n",
        "def extract_lat_lon(url):\n",
        "    # Split the URL by '!' and filter out parts that start with '3d' and '4d' for lat and lon\n",
        "    parts = url.split('!')\n",
        "    lat = None\n",
        "    lon = None\n",
        "    for part in parts:\n",
        "        if part.startswith('3d'):\n",
        "            lat = part[2:]\n",
        "        elif part.startswith('4d'):\n",
        "            lon = part[2:]\n",
        "    return lat, lon\n",
        "\n",
        "# Apply the function to each row in the DataFrame\n",
        "df[['LATITUDE', 'LONGITUDE']] = df.apply(lambda row: extract_lat_lon(row['LINK']), axis=1, result_type='expand')\n",
        "\n",
        "# Save the updated DataFrame back to a CSV file\n",
        "df.to_csv('updated_file.csv', index=False)\n"
      ]
    }
  ]
}