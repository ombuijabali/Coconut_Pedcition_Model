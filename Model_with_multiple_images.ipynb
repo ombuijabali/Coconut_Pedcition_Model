{
  "cells": [
    {
      "cell_type": "markdown",
      "metadata": {
        "id": "view-in-github",
        "colab_type": "text"
      },
      "source": [
        "<a href=\"https://colab.research.google.com/github/ombuijabali/Coconut_Pedcition_Model/blob/main/Model_with_multiple_images.ipynb\" target=\"_parent\"><img src=\"https://colab.research.google.com/assets/colab-badge.svg\" alt=\"Open In Colab\"/></a>"
      ]
    },
    {
      "cell_type": "markdown",
      "source": [
        "#Install package"
      ],
      "metadata": {
        "id": "Tf3geITQkiX8"
      }
    },
    {
      "cell_type": "code",
      "execution_count": 1,
      "metadata": {
        "colab": {
          "base_uri": "https://localhost:8080/"
        },
        "collapsed": true,
        "id": "Ym9-Gmfudqb5",
        "outputId": "448403f1-e968-4934-d992-7bbd2ea42628"
      },
      "outputs": [
        {
          "output_type": "stream",
          "name": "stdout",
          "text": [
            "Requirement already satisfied: geoai-py in /usr/local/lib/python3.11/dist-packages (0.5.4)\n",
            "Requirement already satisfied: albumentations in /usr/local/lib/python3.11/dist-packages (from geoai-py) (2.0.5)\n",
            "Requirement already satisfied: buildingregulariser in /usr/local/lib/python3.11/dist-packages (from geoai-py) (0.1.11)\n",
            "Requirement already satisfied: contextily in /usr/local/lib/python3.11/dist-packages (from geoai-py) (1.6.2)\n",
            "Requirement already satisfied: geopandas in /usr/local/lib/python3.11/dist-packages (from geoai-py) (1.0.1)\n",
            "Requirement already satisfied: huggingface_hub in /usr/local/lib/python3.11/dist-packages (from geoai-py) (0.30.1)\n",
            "Requirement already satisfied: jupyter-server-proxy in /usr/local/lib/python3.11/dist-packages (from geoai-py) (4.4.0)\n",
            "Requirement already satisfied: leafmap in /usr/local/lib/python3.11/dist-packages (from geoai-py) (0.43.5)\n",
            "Requirement already satisfied: localtileserver in /usr/local/lib/python3.11/dist-packages (from geoai-py) (0.10.6)\n",
            "Requirement already satisfied: mapclassify in /usr/local/lib/python3.11/dist-packages (from geoai-py) (2.8.1)\n",
            "Requirement already satisfied: maplibre in /usr/local/lib/python3.11/dist-packages (from geoai-py) (0.3.1)\n",
            "Requirement already satisfied: overturemaps in /usr/local/lib/python3.11/dist-packages (from geoai-py) (0.14.0)\n",
            "Requirement already satisfied: planetary-computer in /usr/local/lib/python3.11/dist-packages (from geoai-py) (1.0.0)\n",
            "Requirement already satisfied: pystac-client in /usr/local/lib/python3.11/dist-packages (from geoai-py) (0.8.6)\n",
            "Requirement already satisfied: rasterio in /usr/local/lib/python3.11/dist-packages (from geoai-py) (1.4.3)\n",
            "Requirement already satisfied: rioxarray in /usr/local/lib/python3.11/dist-packages (from geoai-py) (0.18.2)\n",
            "Requirement already satisfied: scikit-image in /usr/local/lib/python3.11/dist-packages (from geoai-py) (0.25.2)\n",
            "Requirement already satisfied: scikit-learn in /usr/local/lib/python3.11/dist-packages (from geoai-py) (1.6.1)\n",
            "Requirement already satisfied: torch in /usr/local/lib/python3.11/dist-packages (from geoai-py) (2.6.0+cu124)\n",
            "Requirement already satisfied: torchgeo in /usr/local/lib/python3.11/dist-packages (from geoai-py) (0.7.0)\n",
            "Requirement already satisfied: torchinfo in /usr/local/lib/python3.11/dist-packages (from geoai-py) (1.8.0)\n",
            "Requirement already satisfied: tqdm in /usr/local/lib/python3.11/dist-packages (from geoai-py) (4.67.1)\n",
            "Requirement already satisfied: transformers in /usr/local/lib/python3.11/dist-packages (from geoai-py) (4.50.3)\n",
            "Requirement already satisfied: numpy>=1.24.4 in /usr/local/lib/python3.11/dist-packages (from albumentations->geoai-py) (2.2.4)\n",
            "Requirement already satisfied: scipy>=1.10.0 in /usr/local/lib/python3.11/dist-packages (from albumentations->geoai-py) (1.15.2)\n",
            "Requirement already satisfied: PyYAML in /usr/local/lib/python3.11/dist-packages (from albumentations->geoai-py) (6.0.2)\n",
            "Requirement already satisfied: pydantic>=2.9.2 in /usr/local/lib/python3.11/dist-packages (from albumentations->geoai-py) (2.11.2)\n",
            "Requirement already satisfied: albucore==0.0.23 in /usr/local/lib/python3.11/dist-packages (from albumentations->geoai-py) (0.0.23)\n",
            "Requirement already satisfied: opencv-python-headless>=4.9.0.80 in /usr/local/lib/python3.11/dist-packages (from albumentations->geoai-py) (4.11.0.86)\n",
            "Requirement already satisfied: stringzilla>=3.10.4 in /usr/local/lib/python3.11/dist-packages (from albucore==0.0.23->albumentations->geoai-py) (3.12.3)\n",
            "Requirement already satisfied: simsimd>=5.9.2 in /usr/local/lib/python3.11/dist-packages (from albucore==0.0.23->albumentations->geoai-py) (6.2.1)\n",
            "Requirement already satisfied: pyogrio>=0.7.2 in /usr/local/lib/python3.11/dist-packages (from geopandas->geoai-py) (0.10.0)\n",
            "Requirement already satisfied: packaging in /usr/local/lib/python3.11/dist-packages (from geopandas->geoai-py) (24.2)\n",
            "Requirement already satisfied: pandas>=1.4.0 in /usr/local/lib/python3.11/dist-packages (from geopandas->geoai-py) (2.2.2)\n",
            "Requirement already satisfied: pyproj>=3.3.0 in /usr/local/lib/python3.11/dist-packages (from geopandas->geoai-py) (3.7.1)\n",
            "Requirement already satisfied: shapely>=2.0.0 in /usr/local/lib/python3.11/dist-packages (from geopandas->geoai-py) (2.1.0)\n",
            "Requirement already satisfied: geopy in /usr/local/lib/python3.11/dist-packages (from contextily->geoai-py) (2.4.1)\n",
            "Requirement already satisfied: matplotlib in /usr/local/lib/python3.11/dist-packages (from contextily->geoai-py) (3.10.0)\n",
            "Requirement already satisfied: mercantile in /usr/local/lib/python3.11/dist-packages (from contextily->geoai-py) (1.2.1)\n",
            "Requirement already satisfied: pillow in /usr/local/lib/python3.11/dist-packages (from contextily->geoai-py) (11.1.0)\n",
            "Requirement already satisfied: requests in /usr/local/lib/python3.11/dist-packages (from contextily->geoai-py) (2.32.3)\n",
            "Requirement already satisfied: joblib in /usr/local/lib/python3.11/dist-packages (from contextily->geoai-py) (1.4.2)\n",
            "Requirement already satisfied: xyzservices in /usr/local/lib/python3.11/dist-packages (from contextily->geoai-py) (2025.1.0)\n",
            "Requirement already satisfied: filelock in /usr/local/lib/python3.11/dist-packages (from huggingface_hub->geoai-py) (3.18.0)\n",
            "Requirement already satisfied: fsspec>=2023.5.0 in /usr/local/lib/python3.11/dist-packages (from huggingface_hub->geoai-py) (2025.3.2)\n",
            "Requirement already satisfied: typing-extensions>=3.7.4.3 in /usr/local/lib/python3.11/dist-packages (from huggingface_hub->geoai-py) (4.13.1)\n",
            "Requirement already satisfied: aiohttp in /usr/local/lib/python3.11/dist-packages (from jupyter-server-proxy->geoai-py) (3.11.15)\n",
            "Requirement already satisfied: jupyter-server>=1.24.0 in /usr/local/lib/python3.11/dist-packages (from jupyter-server-proxy->geoai-py) (2.15.0)\n",
            "Requirement already satisfied: simpervisor>=1.0.0 in /usr/local/lib/python3.11/dist-packages (from jupyter-server-proxy->geoai-py) (1.0.0)\n",
            "Requirement already satisfied: tornado>=6.1.0 in /usr/local/lib/python3.11/dist-packages (from jupyter-server-proxy->geoai-py) (6.4.2)\n",
            "Requirement already satisfied: traitlets>=5.1.0 in /usr/local/lib/python3.11/dist-packages (from jupyter-server-proxy->geoai-py) (5.7.1)\n",
            "Requirement already satisfied: anywidget in /usr/local/lib/python3.11/dist-packages (from leafmap->geoai-py) (0.9.18)\n",
            "Requirement already satisfied: bqplot in /usr/local/lib/python3.11/dist-packages (from leafmap->geoai-py) (0.12.44)\n",
            "Requirement already satisfied: colour in /usr/local/lib/python3.11/dist-packages (from leafmap->geoai-py) (0.1.5)\n",
            "Requirement already satisfied: duckdb in /usr/local/lib/python3.11/dist-packages (from leafmap->geoai-py) (1.2.1)\n",
            "Requirement already satisfied: folium in /usr/local/lib/python3.11/dist-packages (from leafmap->geoai-py) (0.19.5)\n",
            "Requirement already satisfied: gdown in /usr/local/lib/python3.11/dist-packages (from leafmap->geoai-py) (5.2.0)\n",
            "Requirement already satisfied: geojson in /usr/local/lib/python3.11/dist-packages (from leafmap->geoai-py) (3.2.0)\n",
            "Requirement already satisfied: ipyevents in /usr/local/lib/python3.11/dist-packages (from leafmap->geoai-py) (2.0.2)\n",
            "Requirement already satisfied: ipyfilechooser in /usr/local/lib/python3.11/dist-packages (from leafmap->geoai-py) (0.6.0)\n",
            "Requirement already satisfied: ipyleaflet in /usr/local/lib/python3.11/dist-packages (from leafmap->geoai-py) (0.19.2)\n",
            "Requirement already satisfied: ipyvuetify in /usr/local/lib/python3.11/dist-packages (from leafmap->geoai-py) (1.11.1)\n",
            "Requirement already satisfied: ipywidgets in /usr/local/lib/python3.11/dist-packages (from leafmap->geoai-py) (7.7.1)\n",
            "Requirement already satisfied: plotly in /usr/local/lib/python3.11/dist-packages (from leafmap->geoai-py) (5.24.1)\n",
            "Requirement already satisfied: psutil in /usr/local/lib/python3.11/dist-packages (from leafmap->geoai-py) (5.9.5)\n",
            "Requirement already satisfied: pyshp in /usr/local/lib/python3.11/dist-packages (from leafmap->geoai-py) (2.3.1)\n",
            "Requirement already satisfied: python-box in /usr/local/lib/python3.11/dist-packages (from leafmap->geoai-py) (7.3.2)\n",
            "Requirement already satisfied: scooby in /usr/local/lib/python3.11/dist-packages (from leafmap->geoai-py) (0.10.0)\n",
            "Requirement already satisfied: whiteboxgui in /usr/local/lib/python3.11/dist-packages (from leafmap->geoai-py) (2.3.0)\n",
            "Requirement already satisfied: click in /usr/local/lib/python3.11/dist-packages (from localtileserver->geoai-py) (8.1.8)\n",
            "Requirement already satisfied: flask<4,>=2.0.0 in /usr/local/lib/python3.11/dist-packages (from localtileserver->geoai-py) (3.1.0)\n",
            "Requirement already satisfied: Flask-Caching in /usr/local/lib/python3.11/dist-packages (from localtileserver->geoai-py) (2.3.1)\n",
            "Requirement already satisfied: flask-cors in /usr/local/lib/python3.11/dist-packages (from localtileserver->geoai-py) (5.0.1)\n",
            "Requirement already satisfied: flask-restx>=1.3.0 in /usr/local/lib/python3.11/dist-packages (from localtileserver->geoai-py) (1.3.0)\n",
            "Requirement already satisfied: rio-tiler in /usr/local/lib/python3.11/dist-packages (from localtileserver->geoai-py) (7.6.0)\n",
            "Requirement already satisfied: rio-cogeo in /usr/local/lib/python3.11/dist-packages (from localtileserver->geoai-py) (5.4.1)\n",
            "Requirement already satisfied: server-thread in /usr/local/lib/python3.11/dist-packages (from localtileserver->geoai-py) (0.3.0)\n",
            "Requirement already satisfied: werkzeug in /usr/local/lib/python3.11/dist-packages (from localtileserver->geoai-py) (3.1.3)\n",
            "Requirement already satisfied: networkx>=2.7 in /usr/local/lib/python3.11/dist-packages (from mapclassify->geoai-py) (3.4.2)\n",
            "Requirement already satisfied: threadpoolctl>=3.1.0 in /usr/local/lib/python3.11/dist-packages (from scikit-learn->geoai-py) (3.6.0)\n",
            "Requirement already satisfied: branca in /usr/local/lib/python3.11/dist-packages (from maplibre->geoai-py) (0.8.1)\n",
            "Requirement already satisfied: jinja2>=3.1.5 in /usr/local/lib/python3.11/dist-packages (from maplibre->geoai-py) (3.1.6)\n",
            "Requirement already satisfied: pyarrow>=15.0.2 in /usr/local/lib/python3.11/dist-packages (from overturemaps->geoai-py) (18.1.0)\n",
            "Requirement already satisfied: pystac>=1.0.0 in /usr/local/lib/python3.11/dist-packages (from planetary-computer->geoai-py) (1.12.2)\n",
            "Requirement already satisfied: pytz>=2020.5 in /usr/local/lib/python3.11/dist-packages (from planetary-computer->geoai-py) (2025.2)\n",
            "Requirement already satisfied: python-dotenv in /usr/local/lib/python3.11/dist-packages (from planetary-computer->geoai-py) (1.1.0)\n",
            "Requirement already satisfied: python-dateutil>=2.8.2 in /usr/local/lib/python3.11/dist-packages (from pystac-client->geoai-py) (2.8.2)\n",
            "Requirement already satisfied: affine in /usr/local/lib/python3.11/dist-packages (from rasterio->geoai-py) (2.4.0)\n",
            "Requirement already satisfied: attrs in /usr/local/lib/python3.11/dist-packages (from rasterio->geoai-py) (25.3.0)\n",
            "Requirement already satisfied: certifi in /usr/local/lib/python3.11/dist-packages (from rasterio->geoai-py) (2025.1.31)\n",
            "Requirement already satisfied: cligj>=0.5 in /usr/local/lib/python3.11/dist-packages (from rasterio->geoai-py) (0.7.2)\n",
            "Requirement already satisfied: click-plugins in /usr/local/lib/python3.11/dist-packages (from rasterio->geoai-py) (1.1.1)\n",
            "Requirement already satisfied: pyparsing in /usr/local/lib/python3.11/dist-packages (from rasterio->geoai-py) (3.2.3)\n",
            "Requirement already satisfied: xarray>=2024.7.0 in /usr/local/lib/python3.11/dist-packages (from rioxarray->geoai-py) (2025.1.2)\n",
            "Requirement already satisfied: imageio!=2.35.0,>=2.33 in /usr/local/lib/python3.11/dist-packages (from scikit-image->geoai-py) (2.37.0)\n",
            "Requirement already satisfied: tifffile>=2022.8.12 in /usr/local/lib/python3.11/dist-packages (from scikit-image->geoai-py) (2025.3.30)\n",
            "Requirement already satisfied: lazy-loader>=0.4 in /usr/local/lib/python3.11/dist-packages (from scikit-image->geoai-py) (0.4)\n",
            "Requirement already satisfied: nvidia-cuda-nvrtc-cu12==12.4.127 in /usr/local/lib/python3.11/dist-packages (from torch->geoai-py) (12.4.127)\n",
            "Requirement already satisfied: nvidia-cuda-runtime-cu12==12.4.127 in /usr/local/lib/python3.11/dist-packages (from torch->geoai-py) (12.4.127)\n",
            "Requirement already satisfied: nvidia-cuda-cupti-cu12==12.4.127 in /usr/local/lib/python3.11/dist-packages (from torch->geoai-py) (12.4.127)\n",
            "Requirement already satisfied: nvidia-cudnn-cu12==9.1.0.70 in /usr/local/lib/python3.11/dist-packages (from torch->geoai-py) (9.1.0.70)\n",
            "Requirement already satisfied: nvidia-cublas-cu12==12.4.5.8 in /usr/local/lib/python3.11/dist-packages (from torch->geoai-py) (12.4.5.8)\n",
            "Requirement already satisfied: nvidia-cufft-cu12==11.2.1.3 in /usr/local/lib/python3.11/dist-packages (from torch->geoai-py) (11.2.1.3)\n",
            "Requirement already satisfied: nvidia-curand-cu12==10.3.5.147 in /usr/local/lib/python3.11/dist-packages (from torch->geoai-py) (10.3.5.147)\n",
            "Requirement already satisfied: nvidia-cusolver-cu12==11.6.1.9 in /usr/local/lib/python3.11/dist-packages (from torch->geoai-py) (11.6.1.9)\n",
            "Requirement already satisfied: nvidia-cusparse-cu12==12.3.1.170 in /usr/local/lib/python3.11/dist-packages (from torch->geoai-py) (12.3.1.170)\n",
            "Requirement already satisfied: nvidia-cusparselt-cu12==0.6.2 in /usr/local/lib/python3.11/dist-packages (from torch->geoai-py) (0.6.2)\n",
            "Requirement already satisfied: nvidia-nccl-cu12==2.21.5 in /usr/local/lib/python3.11/dist-packages (from torch->geoai-py) (2.21.5)\n",
            "Requirement already satisfied: nvidia-nvtx-cu12==12.4.127 in /usr/local/lib/python3.11/dist-packages (from torch->geoai-py) (12.4.127)\n",
            "Requirement already satisfied: nvidia-nvjitlink-cu12==12.4.127 in /usr/local/lib/python3.11/dist-packages (from torch->geoai-py) (12.4.127)\n",
            "Requirement already satisfied: triton==3.2.0 in /usr/local/lib/python3.11/dist-packages (from torch->geoai-py) (3.2.0)\n",
            "Requirement already satisfied: sympy==1.13.1 in /usr/local/lib/python3.11/dist-packages (from torch->geoai-py) (1.13.1)\n",
            "Requirement already satisfied: mpmath<1.4,>=1.1.0 in /usr/local/lib/python3.11/dist-packages (from sympy==1.13.1->torch->geoai-py) (1.3.0)\n",
            "Requirement already satisfied: einops>=0.3 in /usr/local/lib/python3.11/dist-packages (from torchgeo->geoai-py) (0.8.1)\n",
            "Requirement already satisfied: fiona>=1.8.22 in /usr/local/lib/python3.11/dist-packages (from torchgeo->geoai-py) (1.10.1)\n",
            "Requirement already satisfied: kornia>=0.7.4 in /usr/local/lib/python3.11/dist-packages (from torchgeo->geoai-py) (0.8.0)\n",
            "Requirement already satisfied: lightly!=1.4.26,>=1.4.5 in /usr/local/lib/python3.11/dist-packages (from torchgeo->geoai-py) (1.5.19)\n",
            "Requirement already satisfied: lightning!=2.3.*,!=2.5.0,>=2 in /usr/local/lib/python3.11/dist-packages (from lightning[pytorch-extra]!=2.3.*,!=2.5.0,>=2->torchgeo->geoai-py) (2.5.1)\n",
            "Requirement already satisfied: rtree>=1.0.1 in /usr/local/lib/python3.11/dist-packages (from torchgeo->geoai-py) (1.4.0)\n",
            "Requirement already satisfied: segmentation-models-pytorch>=0.3.3 in /usr/local/lib/python3.11/dist-packages (from torchgeo->geoai-py) (0.4.0)\n",
            "Requirement already satisfied: timm>=0.9.2 in /usr/local/lib/python3.11/dist-packages (from torchgeo->geoai-py) (1.0.15)\n",
            "Requirement already satisfied: torchmetrics>=1.2 in /usr/local/lib/python3.11/dist-packages (from torchgeo->geoai-py) (1.7.1)\n",
            "Requirement already satisfied: torchvision>=0.15.1 in /usr/local/lib/python3.11/dist-packages (from torchgeo->geoai-py) (0.21.0+cu124)\n",
            "Requirement already satisfied: regex!=2019.12.17 in /usr/local/lib/python3.11/dist-packages (from transformers->geoai-py) (2024.11.6)\n",
            "Requirement already satisfied: tokenizers<0.22,>=0.21 in /usr/local/lib/python3.11/dist-packages (from transformers->geoai-py) (0.21.1)\n",
            "Requirement already satisfied: safetensors>=0.4.3 in /usr/local/lib/python3.11/dist-packages (from transformers->geoai-py) (0.5.3)\n",
            "Requirement already satisfied: itsdangerous>=2.2 in /usr/local/lib/python3.11/dist-packages (from flask<4,>=2.0.0->localtileserver->geoai-py) (2.2.0)\n",
            "Requirement already satisfied: blinker>=1.9 in /usr/local/lib/python3.11/dist-packages (from flask<4,>=2.0.0->localtileserver->geoai-py) (1.9.0)\n",
            "Requirement already satisfied: aniso8601>=0.82 in /usr/local/lib/python3.11/dist-packages (from flask-restx>=1.3.0->localtileserver->geoai-py) (10.0.0)\n",
            "Requirement already satisfied: jsonschema in /usr/local/lib/python3.11/dist-packages (from flask-restx>=1.3.0->localtileserver->geoai-py) (4.23.0)\n",
            "Requirement already satisfied: importlib-resources in /usr/local/lib/python3.11/dist-packages (from flask-restx>=1.3.0->localtileserver->geoai-py) (6.5.2)\n",
            "Requirement already satisfied: MarkupSafe>=2.0 in /usr/local/lib/python3.11/dist-packages (from jinja2>=3.1.5->maplibre->geoai-py) (3.0.2)\n",
            "Requirement already satisfied: anyio>=3.1.0 in /usr/local/lib/python3.11/dist-packages (from jupyter-server>=1.24.0->jupyter-server-proxy->geoai-py) (4.9.0)\n",
            "Requirement already satisfied: argon2-cffi>=21.1 in /usr/local/lib/python3.11/dist-packages (from jupyter-server>=1.24.0->jupyter-server-proxy->geoai-py) (23.1.0)\n",
            "Requirement already satisfied: jupyter-client>=7.4.4 in /usr/local/lib/python3.11/dist-packages (from jupyter-server>=1.24.0->jupyter-server-proxy->geoai-py) (7.4.9)\n",
            "Requirement already satisfied: jupyter-core!=5.0.*,>=4.12 in /usr/local/lib/python3.11/dist-packages (from jupyter-server>=1.24.0->jupyter-server-proxy->geoai-py) (5.7.2)\n",
            "Requirement already satisfied: jupyter-events>=0.11.0 in /usr/local/lib/python3.11/dist-packages (from jupyter-server>=1.24.0->jupyter-server-proxy->geoai-py) (0.12.0)\n",
            "Requirement already satisfied: jupyter-server-terminals>=0.4.4 in /usr/local/lib/python3.11/dist-packages (from jupyter-server>=1.24.0->jupyter-server-proxy->geoai-py) (0.5.3)\n",
            "Requirement already satisfied: nbconvert>=6.4.4 in /usr/local/lib/python3.11/dist-packages (from jupyter-server>=1.24.0->jupyter-server-proxy->geoai-py) (7.16.6)\n",
            "Requirement already satisfied: nbformat>=5.3.0 in /usr/local/lib/python3.11/dist-packages (from jupyter-server>=1.24.0->jupyter-server-proxy->geoai-py) (5.10.4)\n",
            "Requirement already satisfied: overrides>=5.0 in /usr/local/lib/python3.11/dist-packages (from jupyter-server>=1.24.0->jupyter-server-proxy->geoai-py) (7.7.0)\n",
            "Requirement already satisfied: prometheus-client>=0.9 in /usr/local/lib/python3.11/dist-packages (from jupyter-server>=1.24.0->jupyter-server-proxy->geoai-py) (0.21.1)\n",
            "Requirement already satisfied: pyzmq>=24 in /usr/local/lib/python3.11/dist-packages (from jupyter-server>=1.24.0->jupyter-server-proxy->geoai-py) (24.0.1)\n",
            "Requirement already satisfied: send2trash>=1.8.2 in /usr/local/lib/python3.11/dist-packages (from jupyter-server>=1.24.0->jupyter-server-proxy->geoai-py) (1.8.3)\n",
            "Requirement already satisfied: terminado>=0.8.3 in /usr/local/lib/python3.11/dist-packages (from jupyter-server>=1.24.0->jupyter-server-proxy->geoai-py) (0.18.1)\n",
            "Requirement already satisfied: websocket-client>=1.7 in /usr/local/lib/python3.11/dist-packages (from jupyter-server>=1.24.0->jupyter-server-proxy->geoai-py) (1.8.0)\n",
            "Requirement already satisfied: kornia_rs>=0.1.0 in /usr/local/lib/python3.11/dist-packages (from kornia>=0.7.4->torchgeo->geoai-py) (0.1.8)\n",
            "Requirement already satisfied: hydra-core>=1.0.0 in /usr/local/lib/python3.11/dist-packages (from lightly!=1.4.26,>=1.4.5->torchgeo->geoai-py) (1.3.2)\n",
            "Requirement already satisfied: lightly_utils~=0.0.0 in /usr/local/lib/python3.11/dist-packages (from lightly!=1.4.26,>=1.4.5->torchgeo->geoai-py) (0.0.2)\n",
            "Requirement already satisfied: six>=1.10 in /usr/local/lib/python3.11/dist-packages (from lightly!=1.4.26,>=1.4.5->torchgeo->geoai-py) (1.17.0)\n",
            "Requirement already satisfied: pytorch_lightning>=1.0.4 in /usr/local/lib/python3.11/dist-packages (from lightly!=1.4.26,>=1.4.5->torchgeo->geoai-py) (2.5.1)\n",
            "Requirement already satisfied: urllib3>=1.25.3 in /usr/local/lib/python3.11/dist-packages (from lightly!=1.4.26,>=1.4.5->torchgeo->geoai-py) (2.3.0)\n",
            "Requirement already satisfied: aenum>=3.1.11 in /usr/local/lib/python3.11/dist-packages (from lightly!=1.4.26,>=1.4.5->torchgeo->geoai-py) (3.1.15)\n",
            "Requirement already satisfied: lightning-utilities<2.0,>=0.10.0 in /usr/local/lib/python3.11/dist-packages (from lightning!=2.3.*,!=2.5.0,>=2->lightning[pytorch-extra]!=2.3.*,!=2.5.0,>=2->torchgeo->geoai-py) (0.14.3)\n",
            "Requirement already satisfied: jsonargparse<5.0,>=4.27.7 in /usr/local/lib/python3.11/dist-packages (from jsonargparse[signatures]<5.0,>=4.27.7; extra == \"pytorch-extra\"->lightning[pytorch-extra]!=2.3.*,!=2.5.0,>=2->torchgeo->geoai-py) (4.38.0)\n",
            "Requirement already satisfied: omegaconf<3.0,>=2.2.3 in /usr/local/lib/python3.11/dist-packages (from lightning[pytorch-extra]!=2.3.*,!=2.5.0,>=2->torchgeo->geoai-py) (2.3.0)\n",
            "Requirement already satisfied: rich<14.0,>=12.3.0 in /usr/local/lib/python3.11/dist-packages (from lightning[pytorch-extra]!=2.3.*,!=2.5.0,>=2->torchgeo->geoai-py) (13.9.4)\n",
            "Requirement already satisfied: tensorboardX<3.0,>=2.2 in /usr/local/lib/python3.11/dist-packages (from lightning[pytorch-extra]!=2.3.*,!=2.5.0,>=2->torchgeo->geoai-py) (2.6.2.2)\n",
            "Requirement already satisfied: bitsandbytes<1.0,>=0.45.2 in /usr/local/lib/python3.11/dist-packages (from lightning[pytorch-extra]!=2.3.*,!=2.5.0,>=2->torchgeo->geoai-py) (0.45.5)\n",
            "Requirement already satisfied: contourpy>=1.0.1 in /usr/local/lib/python3.11/dist-packages (from matplotlib->contextily->geoai-py) (1.3.1)\n",
            "Requirement already satisfied: cycler>=0.10 in /usr/local/lib/python3.11/dist-packages (from matplotlib->contextily->geoai-py) (0.12.1)\n",
            "Requirement already satisfied: fonttools>=4.22.0 in /usr/local/lib/python3.11/dist-packages (from matplotlib->contextily->geoai-py) (4.57.0)\n",
            "Requirement already satisfied: kiwisolver>=1.3.1 in /usr/local/lib/python3.11/dist-packages (from matplotlib->contextily->geoai-py) (1.4.8)\n",
            "Requirement already satisfied: tzdata>=2022.7 in /usr/local/lib/python3.11/dist-packages (from pandas>=1.4.0->geopandas->geoai-py) (2025.2)\n",
            "Requirement already satisfied: annotated-types>=0.6.0 in /usr/local/lib/python3.11/dist-packages (from pydantic>=2.9.2->albumentations->geoai-py) (0.7.0)\n",
            "Requirement already satisfied: pydantic-core==2.33.1 in /usr/local/lib/python3.11/dist-packages (from pydantic>=2.9.2->albumentations->geoai-py) (2.33.1)\n",
            "Requirement already satisfied: typing-inspection>=0.4.0 in /usr/local/lib/python3.11/dist-packages (from pydantic>=2.9.2->albumentations->geoai-py) (0.4.0)\n",
            "Requirement already satisfied: charset-normalizer<4,>=2 in /usr/local/lib/python3.11/dist-packages (from requests->contextily->geoai-py) (3.4.1)\n",
            "Requirement already satisfied: idna<4,>=2.5 in /usr/local/lib/python3.11/dist-packages (from requests->contextily->geoai-py) (3.10)\n",
            "Requirement already satisfied: efficientnet-pytorch>=0.6.1 in /usr/local/lib/python3.11/dist-packages (from segmentation-models-pytorch>=0.3.3->torchgeo->geoai-py) (0.7.1)\n",
            "Requirement already satisfied: pretrainedmodels>=0.7.1 in /usr/local/lib/python3.11/dist-packages (from segmentation-models-pytorch>=0.3.3->torchgeo->geoai-py) (0.7.4)\n",
            "Requirement already satisfied: aiohappyeyeballs>=2.3.0 in /usr/local/lib/python3.11/dist-packages (from aiohttp->jupyter-server-proxy->geoai-py) (2.6.1)\n",
            "Requirement already satisfied: aiosignal>=1.1.2 in /usr/local/lib/python3.11/dist-packages (from aiohttp->jupyter-server-proxy->geoai-py) (1.3.2)\n",
            "Requirement already satisfied: frozenlist>=1.1.1 in /usr/local/lib/python3.11/dist-packages (from aiohttp->jupyter-server-proxy->geoai-py) (1.5.0)\n",
            "Requirement already satisfied: multidict<7.0,>=4.5 in /usr/local/lib/python3.11/dist-packages (from aiohttp->jupyter-server-proxy->geoai-py) (6.3.2)\n",
            "Requirement already satisfied: propcache>=0.2.0 in /usr/local/lib/python3.11/dist-packages (from aiohttp->jupyter-server-proxy->geoai-py) (0.3.1)\n",
            "Requirement already satisfied: yarl<2.0,>=1.17.0 in /usr/local/lib/python3.11/dist-packages (from aiohttp->jupyter-server-proxy->geoai-py) (1.18.3)\n",
            "Requirement already satisfied: psygnal>=0.8.1 in /usr/local/lib/python3.11/dist-packages (from anywidget->leafmap->geoai-py) (0.12.0)\n",
            "Requirement already satisfied: ipykernel>=4.5.1 in /usr/local/lib/python3.11/dist-packages (from ipywidgets->leafmap->geoai-py) (6.17.1)\n",
            "Requirement already satisfied: ipython-genutils~=0.2.0 in /usr/local/lib/python3.11/dist-packages (from ipywidgets->leafmap->geoai-py) (0.2.0)\n",
            "Requirement already satisfied: widgetsnbextension~=3.6.0 in /usr/local/lib/python3.11/dist-packages (from ipywidgets->leafmap->geoai-py) (3.6.10)\n",
            "Requirement already satisfied: ipython>=4.0.0 in /usr/local/lib/python3.11/dist-packages (from ipywidgets->leafmap->geoai-py) (7.34.0)\n",
            "Requirement already satisfied: jupyterlab-widgets>=1.0.0 in /usr/local/lib/python3.11/dist-packages (from ipywidgets->leafmap->geoai-py) (3.0.13)\n",
            "Requirement already satisfied: traittypes>=0.0.6 in /usr/local/lib/python3.11/dist-packages (from bqplot->leafmap->geoai-py) (0.2.1)\n",
            "Requirement already satisfied: cachelib>=0.9.0 in /usr/local/lib/python3.11/dist-packages (from Flask-Caching->localtileserver->geoai-py) (0.13.0)\n",
            "Requirement already satisfied: beautifulsoup4 in /usr/local/lib/python3.11/dist-packages (from gdown->leafmap->geoai-py) (4.13.3)\n",
            "Requirement already satisfied: geographiclib<3,>=1.52 in /usr/local/lib/python3.11/dist-packages (from geopy->contextily->geoai-py) (2.0)\n",
            "Requirement already satisfied: jupyter-leaflet<0.20,>=0.19 in /usr/local/lib/python3.11/dist-packages (from ipyleaflet->leafmap->geoai-py) (0.19.2)\n",
            "Requirement already satisfied: ipyvue<2,>=1.7 in /usr/local/lib/python3.11/dist-packages (from ipyvuetify->leafmap->geoai-py) (1.11.2)\n",
            "Requirement already satisfied: tenacity>=6.2.0 in /usr/local/lib/python3.11/dist-packages (from plotly->leafmap->geoai-py) (9.1.2)\n",
            "Requirement already satisfied: morecantile<7.0,>=5.0 in /usr/local/lib/python3.11/dist-packages (from rio-cogeo->localtileserver->geoai-py) (6.2.0)\n",
            "Requirement already satisfied: cachetools in /usr/local/lib/python3.11/dist-packages (from rio-tiler->localtileserver->geoai-py) (5.5.2)\n",
            "Requirement already satisfied: color-operations in /usr/local/lib/python3.11/dist-packages (from rio-tiler->localtileserver->geoai-py) (0.2.0)\n",
            "Requirement already satisfied: httpx in /usr/local/lib/python3.11/dist-packages (from rio-tiler->localtileserver->geoai-py) (0.28.1)\n",
            "Requirement already satisfied: numexpr in /usr/local/lib/python3.11/dist-packages (from rio-tiler->localtileserver->geoai-py) (2.10.2)\n",
            "Requirement already satisfied: uvicorn in /usr/local/lib/python3.11/dist-packages (from server-thread->localtileserver->geoai-py) (0.34.0)\n",
            "Requirement already satisfied: ipytree in /usr/local/lib/python3.11/dist-packages (from whiteboxgui->leafmap->geoai-py) (0.2.2)\n",
            "Requirement already satisfied: whitebox in /usr/local/lib/python3.11/dist-packages (from whiteboxgui->leafmap->geoai-py) (2.3.6)\n",
            "Requirement already satisfied: sniffio>=1.1 in /usr/local/lib/python3.11/dist-packages (from anyio>=3.1.0->jupyter-server>=1.24.0->jupyter-server-proxy->geoai-py) (1.3.1)\n",
            "Requirement already satisfied: argon2-cffi-bindings in /usr/local/lib/python3.11/dist-packages (from argon2-cffi>=21.1->jupyter-server>=1.24.0->jupyter-server-proxy->geoai-py) (21.2.0)\n",
            "Requirement already satisfied: antlr4-python3-runtime==4.9.* in /usr/local/lib/python3.11/dist-packages (from hydra-core>=1.0.0->lightly!=1.4.26,>=1.4.5->torchgeo->geoai-py) (4.9.3)\n",
            "Requirement already satisfied: debugpy>=1.0 in /usr/local/lib/python3.11/dist-packages (from ipykernel>=4.5.1->ipywidgets->leafmap->geoai-py) (1.8.0)\n",
            "Requirement already satisfied: matplotlib-inline>=0.1 in /usr/local/lib/python3.11/dist-packages (from ipykernel>=4.5.1->ipywidgets->leafmap->geoai-py) (0.1.7)\n",
            "Requirement already satisfied: nest-asyncio in /usr/local/lib/python3.11/dist-packages (from ipykernel>=4.5.1->ipywidgets->leafmap->geoai-py) (1.6.0)\n",
            "Requirement already satisfied: setuptools>=18.5 in /usr/local/lib/python3.11/dist-packages (from ipython>=4.0.0->ipywidgets->leafmap->geoai-py) (75.2.0)\n",
            "Requirement already satisfied: jedi>=0.16 in /usr/local/lib/python3.11/dist-packages (from ipython>=4.0.0->ipywidgets->leafmap->geoai-py) (0.19.2)\n",
            "Requirement already satisfied: decorator in /usr/local/lib/python3.11/dist-packages (from ipython>=4.0.0->ipywidgets->leafmap->geoai-py) (4.4.2)\n",
            "Requirement already satisfied: pickleshare in /usr/local/lib/python3.11/dist-packages (from ipython>=4.0.0->ipywidgets->leafmap->geoai-py) (0.7.5)\n",
            "Requirement already satisfied: prompt-toolkit!=3.0.0,!=3.0.1,<3.1.0,>=2.0.0 in /usr/local/lib/python3.11/dist-packages (from ipython>=4.0.0->ipywidgets->leafmap->geoai-py) (3.0.50)\n",
            "Requirement already satisfied: pygments in /usr/local/lib/python3.11/dist-packages (from ipython>=4.0.0->ipywidgets->leafmap->geoai-py) (2.18.0)\n",
            "Requirement already satisfied: backcall in /usr/local/lib/python3.11/dist-packages (from ipython>=4.0.0->ipywidgets->leafmap->geoai-py) (0.2.0)\n",
            "Requirement already satisfied: pexpect>4.3 in /usr/local/lib/python3.11/dist-packages (from ipython>=4.0.0->ipywidgets->leafmap->geoai-py) (4.9.0)\n",
            "Requirement already satisfied: docstring-parser>=0.15 in /usr/local/lib/python3.11/dist-packages (from jsonargparse[signatures]<5.0,>=4.27.7; extra == \"pytorch-extra\"->lightning[pytorch-extra]!=2.3.*,!=2.5.0,>=2->torchgeo->geoai-py) (0.16)\n",
            "Requirement already satisfied: typeshed-client>=2.1.0 in /usr/local/lib/python3.11/dist-packages (from jsonargparse[signatures]<5.0,>=4.27.7; extra == \"pytorch-extra\"->lightning[pytorch-extra]!=2.3.*,!=2.5.0,>=2->torchgeo->geoai-py) (2.7.0)\n",
            "Requirement already satisfied: jsonschema-specifications>=2023.03.6 in /usr/local/lib/python3.11/dist-packages (from jsonschema->flask-restx>=1.3.0->localtileserver->geoai-py) (2024.10.1)\n",
            "Requirement already satisfied: referencing>=0.28.4 in /usr/local/lib/python3.11/dist-packages (from jsonschema->flask-restx>=1.3.0->localtileserver->geoai-py) (0.36.2)\n",
            "Requirement already satisfied: rpds-py>=0.7.1 in /usr/local/lib/python3.11/dist-packages (from jsonschema->flask-restx>=1.3.0->localtileserver->geoai-py) (0.24.0)\n",
            "Requirement already satisfied: entrypoints in /usr/local/lib/python3.11/dist-packages (from jupyter-client>=7.4.4->jupyter-server>=1.24.0->jupyter-server-proxy->geoai-py) (0.4)\n",
            "Requirement already satisfied: platformdirs>=2.5 in /usr/local/lib/python3.11/dist-packages (from jupyter-core!=5.0.*,>=4.12->jupyter-server>=1.24.0->jupyter-server-proxy->geoai-py) (4.3.7)\n",
            "Requirement already satisfied: python-json-logger>=2.0.4 in /usr/local/lib/python3.11/dist-packages (from jupyter-events>=0.11.0->jupyter-server>=1.24.0->jupyter-server-proxy->geoai-py) (3.3.0)\n",
            "Requirement already satisfied: rfc3339-validator in /usr/local/lib/python3.11/dist-packages (from jupyter-events>=0.11.0->jupyter-server>=1.24.0->jupyter-server-proxy->geoai-py) (0.1.4)\n",
            "Requirement already satisfied: rfc3986-validator>=0.1.1 in /usr/local/lib/python3.11/dist-packages (from jupyter-events>=0.11.0->jupyter-server>=1.24.0->jupyter-server-proxy->geoai-py) (0.1.1)\n",
            "Requirement already satisfied: bleach!=5.0.0 in /usr/local/lib/python3.11/dist-packages (from bleach[css]!=5.0.0->nbconvert>=6.4.4->jupyter-server>=1.24.0->jupyter-server-proxy->geoai-py) (6.2.0)\n",
            "Requirement already satisfied: defusedxml in /usr/local/lib/python3.11/dist-packages (from nbconvert>=6.4.4->jupyter-server>=1.24.0->jupyter-server-proxy->geoai-py) (0.7.1)\n",
            "Requirement already satisfied: jupyterlab-pygments in /usr/local/lib/python3.11/dist-packages (from nbconvert>=6.4.4->jupyter-server>=1.24.0->jupyter-server-proxy->geoai-py) (0.3.0)\n",
            "Requirement already satisfied: mistune<4,>=2.0.3 in /usr/local/lib/python3.11/dist-packages (from nbconvert>=6.4.4->jupyter-server>=1.24.0->jupyter-server-proxy->geoai-py) (3.1.3)\n",
            "Requirement already satisfied: nbclient>=0.5.0 in /usr/local/lib/python3.11/dist-packages (from nbconvert>=6.4.4->jupyter-server>=1.24.0->jupyter-server-proxy->geoai-py) (0.10.2)\n",
            "Requirement already satisfied: pandocfilters>=1.4.1 in /usr/local/lib/python3.11/dist-packages (from nbconvert>=6.4.4->jupyter-server>=1.24.0->jupyter-server-proxy->geoai-py) (1.5.1)\n",
            "Requirement already satisfied: fastjsonschema>=2.15 in /usr/local/lib/python3.11/dist-packages (from nbformat>=5.3.0->jupyter-server>=1.24.0->jupyter-server-proxy->geoai-py) (2.21.1)\n",
            "Requirement already satisfied: munch in /usr/local/lib/python3.11/dist-packages (from pretrainedmodels>=0.7.1->segmentation-models-pytorch>=0.3.3->torchgeo->geoai-py) (4.0.0)\n",
            "Requirement already satisfied: markdown-it-py>=2.2.0 in /usr/local/lib/python3.11/dist-packages (from rich<14.0,>=12.3.0->lightning[pytorch-extra]!=2.3.*,!=2.5.0,>=2->torchgeo->geoai-py) (3.0.0)\n",
            "Requirement already satisfied: protobuf>=3.20 in /usr/local/lib/python3.11/dist-packages (from tensorboardX<3.0,>=2.2->lightning[pytorch-extra]!=2.3.*,!=2.5.0,>=2->torchgeo->geoai-py) (5.29.4)\n",
            "Requirement already satisfied: ptyprocess in /usr/local/lib/python3.11/dist-packages (from terminado>=0.8.3->jupyter-server>=1.24.0->jupyter-server-proxy->geoai-py) (0.7.0)\n",
            "Requirement already satisfied: notebook>=4.4.1 in /usr/local/lib/python3.11/dist-packages (from widgetsnbextension~=3.6.0->ipywidgets->leafmap->geoai-py) (6.5.7)\n",
            "Requirement already satisfied: soupsieve>1.2 in /usr/local/lib/python3.11/dist-packages (from beautifulsoup4->gdown->leafmap->geoai-py) (2.6)\n",
            "Requirement already satisfied: httpcore==1.* in /usr/local/lib/python3.11/dist-packages (from httpx->rio-tiler->localtileserver->geoai-py) (1.0.7)\n",
            "Requirement already satisfied: h11<0.15,>=0.13 in /usr/local/lib/python3.11/dist-packages (from httpcore==1.*->httpx->rio-tiler->localtileserver->geoai-py) (0.14.0)\n",
            "Requirement already satisfied: PySocks!=1.5.7,>=1.5.6 in /usr/local/lib/python3.11/dist-packages (from requests[socks]->gdown->leafmap->geoai-py) (1.7.1)\n",
            "Requirement already satisfied: webencodings in /usr/local/lib/python3.11/dist-packages (from bleach!=5.0.0->bleach[css]!=5.0.0->nbconvert>=6.4.4->jupyter-server>=1.24.0->jupyter-server-proxy->geoai-py) (0.5.1)\n",
            "Requirement already satisfied: tinycss2<1.5,>=1.1.0 in /usr/local/lib/python3.11/dist-packages (from bleach[css]!=5.0.0->nbconvert>=6.4.4->jupyter-server>=1.24.0->jupyter-server-proxy->geoai-py) (1.4.0)\n",
            "Requirement already satisfied: parso<0.9.0,>=0.8.4 in /usr/local/lib/python3.11/dist-packages (from jedi>=0.16->ipython>=4.0.0->ipywidgets->leafmap->geoai-py) (0.8.4)\n",
            "Requirement already satisfied: fqdn in /usr/local/lib/python3.11/dist-packages (from jsonschema[format-nongpl]>=4.18.0->jupyter-events>=0.11.0->jupyter-server>=1.24.0->jupyter-server-proxy->geoai-py) (1.5.1)\n",
            "Requirement already satisfied: isoduration in /usr/local/lib/python3.11/dist-packages (from jsonschema[format-nongpl]>=4.18.0->jupyter-events>=0.11.0->jupyter-server>=1.24.0->jupyter-server-proxy->geoai-py) (20.11.0)\n",
            "Requirement already satisfied: jsonpointer>1.13 in /usr/local/lib/python3.11/dist-packages (from jsonschema[format-nongpl]>=4.18.0->jupyter-events>=0.11.0->jupyter-server>=1.24.0->jupyter-server-proxy->geoai-py) (3.0.0)\n",
            "Requirement already satisfied: uri-template in /usr/local/lib/python3.11/dist-packages (from jsonschema[format-nongpl]>=4.18.0->jupyter-events>=0.11.0->jupyter-server>=1.24.0->jupyter-server-proxy->geoai-py) (1.3.0)\n",
            "Requirement already satisfied: webcolors>=24.6.0 in /usr/local/lib/python3.11/dist-packages (from jsonschema[format-nongpl]>=4.18.0->jupyter-events>=0.11.0->jupyter-server>=1.24.0->jupyter-server-proxy->geoai-py) (24.11.1)\n",
            "Requirement already satisfied: mdurl~=0.1 in /usr/local/lib/python3.11/dist-packages (from markdown-it-py>=2.2.0->rich<14.0,>=12.3.0->lightning[pytorch-extra]!=2.3.*,!=2.5.0,>=2->torchgeo->geoai-py) (0.1.2)\n",
            "Requirement already satisfied: nbclassic>=0.4.7 in /usr/local/lib/python3.11/dist-packages (from notebook>=4.4.1->widgetsnbextension~=3.6.0->ipywidgets->leafmap->geoai-py) (1.2.0)\n",
            "Requirement already satisfied: wcwidth in /usr/local/lib/python3.11/dist-packages (from prompt-toolkit!=3.0.0,!=3.0.1,<3.1.0,>=2.0.0->ipython>=4.0.0->ipywidgets->leafmap->geoai-py) (0.2.13)\n",
            "Requirement already satisfied: cffi>=1.0.1 in /usr/local/lib/python3.11/dist-packages (from argon2-cffi-bindings->argon2-cffi>=21.1->jupyter-server>=1.24.0->jupyter-server-proxy->geoai-py) (1.17.1)\n",
            "Requirement already satisfied: pycparser in /usr/local/lib/python3.11/dist-packages (from cffi>=1.0.1->argon2-cffi-bindings->argon2-cffi>=21.1->jupyter-server>=1.24.0->jupyter-server-proxy->geoai-py) (2.22)\n",
            "Requirement already satisfied: notebook-shim>=0.2.3 in /usr/local/lib/python3.11/dist-packages (from nbclassic>=0.4.7->notebook>=4.4.1->widgetsnbextension~=3.6.0->ipywidgets->leafmap->geoai-py) (0.2.4)\n",
            "Requirement already satisfied: arrow>=0.15.0 in /usr/local/lib/python3.11/dist-packages (from isoduration->jsonschema[format-nongpl]>=4.18.0->jupyter-events>=0.11.0->jupyter-server>=1.24.0->jupyter-server-proxy->geoai-py) (1.3.0)\n",
            "Requirement already satisfied: types-python-dateutil>=2.8.10 in /usr/local/lib/python3.11/dist-packages (from arrow>=0.15.0->isoduration->jsonschema[format-nongpl]>=4.18.0->jupyter-events>=0.11.0->jupyter-server>=1.24.0->jupyter-server-proxy->geoai-py) (2.9.0.20241206)\n"
          ]
        }
      ],
      "source": [
        "!pip install geoai-py"
      ]
    },
    {
      "cell_type": "markdown",
      "source": [
        "#Import libraries"
      ],
      "metadata": {
        "id": "9RGiKUulkeol"
      }
    },
    {
      "cell_type": "code",
      "source": [
        "import torch\n",
        "torch.cuda.is_available()\n",
        "import os\n",
        "import hashlib\n",
        "import json\n",
        "import geoai\n",
        "import shutil"
      ],
      "metadata": {
        "id": "4pRiOgvjjxKm"
      },
      "execution_count": 2,
      "outputs": []
    },
    {
      "cell_type": "markdown",
      "source": [
        "Define directories"
      ],
      "metadata": {
        "id": "jz8FzfF9SEXG"
      }
    },
    {
      "cell_type": "code",
      "source": [
        "out_folder = \"/content/drive/MyDrive/Ombui/output\"\n",
        "model_dir = f\"{out_folder}/models\"\n",
        "hash_file = os.path.join(model_dir, \"data_hashes.json\")\n",
        "model_path = os.path.join(model_dir, \"mask_rcnn_trained.pth\")"
      ],
      "metadata": {
        "id": "YJOjWhabSCWx"
      },
      "execution_count": 3,
      "outputs": []
    },
    {
      "cell_type": "markdown",
      "source": [
        "# List of training raster and vector files (Add more as needed)"
      ],
      "metadata": {
        "id": "9DokwXL8j2R2"
      }
    },
    {
      "cell_type": "code",
      "execution_count": 4,
      "metadata": {
        "id": "uA1CoTdldqqI",
        "collapsed": true
      },
      "outputs": [],
      "source": [
        "\n",
        "train_raster_urls = [\n",
        "    \"https://huggingface.co/datasets/giswqs/geospatial/resolve/main/naip_train.tif\",\n",
        "    \"https://huggingface.co/datasets/construmgis/geospatial/resolve/main/reproject1.tif\",\n",
        "    \"https://huggingface.co/datasets/construmgis/geospatial/resolve/main/reproject2.tif\"\n",
        "]\n",
        "train_vector_urls = [\n",
        "    \"https://huggingface.co/datasets/giswqs/geospatial/resolve/main/naip_train_buildings.geojson\",\n",
        "    \"https://huggingface.co/datasets/construmgis/geospatial/resolve/main/reproject1.geojson\",\n",
        "    \"https://huggingface.co/datasets/construmgis/geospatial/resolve/main/reproject2.geojson\"\n",
        "    ]\n",
        "\n",
        "test_raster_url = (\n",
        "    \"https://huggingface.co/datasets/giswqs/geospatial/resolve/main/naip_test.tif\"\n",
        ")"
      ]
    },
    {
      "cell_type": "markdown",
      "source": [
        "Function to compute file hash"
      ],
      "metadata": {
        "id": "Xhbe_9XBSOud"
      }
    },
    {
      "cell_type": "code",
      "source": [
        "def compute_file_hash(filepath):\n",
        "    \"\"\"Returns SHA256 hash of a file.\"\"\"\n",
        "    hasher = hashlib.sha256()\n",
        "    with open(filepath, \"rb\") as f:\n",
        "        while chunk := f.read(8192):\n",
        "            hasher.update(chunk)\n",
        "    return hasher.hexdigest()"
      ],
      "metadata": {
        "id": "mc4SBakiSMrO"
      },
      "execution_count": 5,
      "outputs": []
    },
    {
      "cell_type": "markdown",
      "source": [
        "Function to check if training data has changed"
      ],
      "metadata": {
        "id": "hhSPlnrOSV9F"
      }
    },
    {
      "cell_type": "code",
      "source": [
        "def has_training_data_changed(train_raster_paths, train_vector_paths):\n",
        "    \"\"\"Checks if the training data has changed by comparing file hashes.\"\"\"\n",
        "    current_hashes = {fp: compute_file_hash(fp) for fp in train_raster_paths + train_vector_paths}\n",
        "\n",
        "    if not os.path.exists(hash_file):\n",
        "        return True  # No previous hash file, assume new data\n",
        "\n",
        "    with open(hash_file, \"r\") as f:\n",
        "        previous_hashes = json.load(f)\n",
        "\n",
        "    return previous_hashes != current_hashes  # Returns True if data has changed"
      ],
      "metadata": {
        "id": "NVJ7x4bUSRU9"
      },
      "execution_count": 6,
      "outputs": []
    },
    {
      "cell_type": "markdown",
      "source": [
        "# Download all files"
      ],
      "metadata": {
        "id": "8vMjwAAvj7Od"
      }
    },
    {
      "cell_type": "code",
      "source": [
        "train_raster_paths = [geoai.download_file(url) for url in train_raster_urls]\n",
        "train_vector_paths = [geoai.download_file(url) for url in train_vector_urls]\n",
        "test_raster_path = geoai.download_file(test_raster_url)"
      ],
      "metadata": {
        "colab": {
          "base_uri": "https://localhost:8080/"
        },
        "id": "hDcf3wLojVNa",
        "outputId": "2c4deb34-b14f-4fad-d33a-3d63eb094c99",
        "collapsed": true
      },
      "execution_count": 7,
      "outputs": [
        {
          "output_type": "stream",
          "name": "stderr",
          "text": [
            "naip_train.tif: 100%|██████████| 12.1M/12.1M [00:00<00:00, 54.2MB/s]\n",
            "reproject1.tif: 100%|██████████| 3.52M/3.52M [00:00<00:00, 32.2MB/s]\n",
            "reproject2.tif: 100%|██████████| 112M/112M [00:03<00:00, 29.4MB/s]\n",
            "naip_train_buildings.geojson: 100%|██████████| 456k/456k [00:00<00:00, 2.76MB/s]\n",
            "reproject1.geojson: 100%|██████████| 44.7k/44.7k [00:00<00:00, 41.3MB/s]\n",
            "reproject2.geojson: 100%|██████████| 8.61k/8.61k [00:00<00:00, 20.6MB/s]\n",
            "naip_test.tif: 100%|██████████| 19.7M/19.7M [00:00<00:00, 33.8MB/s]\n"
          ]
        }
      ]
    },
    {
      "cell_type": "markdown",
      "source": [
        "# View first vector over a raster (optional)"
      ],
      "metadata": {
        "id": "6ukwlcizj__t"
      }
    },
    {
      "cell_type": "code",
      "source": [
        "geoai.view_vector_interactive(train_vector_paths[0], tiles=train_raster_urls[0])\n",
        "geoai.view_raster(test_raster_url)"
      ],
      "metadata": {
        "colab": {
          "base_uri": "https://localhost:8080/",
          "height": 622
        },
        "id": "b4-KWfqBjVRD",
        "outputId": "4ac77887-8adf-477c-e8ea-332998fd8817",
        "collapsed": true
      },
      "execution_count": 8,
      "outputs": [
        {
          "output_type": "execute_result",
          "data": {
            "text/plain": [
              "<leafmap.foliumap.Map at 0x7e3741033fd0>"
            ],
            "text/html": [
              "<iframe srcdoc=\"&lt;!DOCTYPE html&gt;\n",
              "&lt;html&gt;\n",
              "&lt;head&gt;\n",
              "    \n",
              "    &lt;meta http-equiv=&quot;content-type&quot; content=&quot;text/html; charset=UTF-8&quot; /&gt;\n",
              "    \n",
              "        &lt;script&gt;\n",
              "            L_NO_TOUCH = false;\n",
              "            L_DISABLE_3D = false;\n",
              "        &lt;/script&gt;\n",
              "    \n",
              "    &lt;style&gt;html, body {width: 100%;height: 100%;margin: 0;padding: 0;}&lt;/style&gt;\n",
              "    &lt;style&gt;#map {position:absolute;top:0;bottom:0;right:0;left:0;}&lt;/style&gt;\n",
              "    &lt;script src=&quot;https://cdn.jsdelivr.net/npm/leaflet@1.9.3/dist/leaflet.js&quot;&gt;&lt;/script&gt;\n",
              "    &lt;script src=&quot;https://code.jquery.com/jquery-3.7.1.min.js&quot;&gt;&lt;/script&gt;\n",
              "    &lt;script src=&quot;https://cdn.jsdelivr.net/npm/bootstrap@5.2.2/dist/js/bootstrap.bundle.min.js&quot;&gt;&lt;/script&gt;\n",
              "    &lt;script src=&quot;https://cdnjs.cloudflare.com/ajax/libs/Leaflet.awesome-markers/2.0.2/leaflet.awesome-markers.js&quot;&gt;&lt;/script&gt;\n",
              "    &lt;link rel=&quot;stylesheet&quot; href=&quot;https://cdn.jsdelivr.net/npm/leaflet@1.9.3/dist/leaflet.css&quot;/&gt;\n",
              "    &lt;link rel=&quot;stylesheet&quot; href=&quot;https://cdn.jsdelivr.net/npm/bootstrap@5.2.2/dist/css/bootstrap.min.css&quot;/&gt;\n",
              "    &lt;link rel=&quot;stylesheet&quot; href=&quot;https://netdna.bootstrapcdn.com/bootstrap/3.0.0/css/bootstrap-glyphicons.css&quot;/&gt;\n",
              "    &lt;link rel=&quot;stylesheet&quot; href=&quot;https://cdn.jsdelivr.net/npm/@fortawesome/fontawesome-free@6.2.0/css/all.min.css&quot;/&gt;\n",
              "    &lt;link rel=&quot;stylesheet&quot; href=&quot;https://cdnjs.cloudflare.com/ajax/libs/Leaflet.awesome-markers/2.0.2/leaflet.awesome-markers.css&quot;/&gt;\n",
              "    &lt;link rel=&quot;stylesheet&quot; href=&quot;https://cdn.jsdelivr.net/gh/python-visualization/folium/folium/templates/leaflet.awesome.rotate.min.css&quot;/&gt;\n",
              "    \n",
              "            &lt;meta name=&quot;viewport&quot; content=&quot;width=device-width,\n",
              "                initial-scale=1.0, maximum-scale=1.0, user-scalable=no&quot; /&gt;\n",
              "            &lt;style&gt;\n",
              "                #map_fdbec5df2aa69945ead89166bc4ec70f {\n",
              "                    position: relative;\n",
              "                    width: 100.0%;\n",
              "                    height: 100.0%;\n",
              "                    left: 0.0%;\n",
              "                    top: 0.0%;\n",
              "                }\n",
              "                .leaflet-container { font-size: 1rem; }\n",
              "            &lt;/style&gt;\n",
              "        \n",
              "    &lt;script src=&quot;https://cdn.jsdelivr.net/npm/leaflet.fullscreen@3.0.0/Control.FullScreen.min.js&quot;&gt;&lt;/script&gt;\n",
              "    &lt;link rel=&quot;stylesheet&quot; href=&quot;https://cdn.jsdelivr.net/npm/leaflet.fullscreen@3.0.0/Control.FullScreen.css&quot;/&gt;\n",
              "    &lt;script src=&quot;https://cdnjs.cloudflare.com/ajax/libs/leaflet.draw/1.0.2/leaflet.draw.js&quot;&gt;&lt;/script&gt;\n",
              "    &lt;link rel=&quot;stylesheet&quot; href=&quot;https://cdnjs.cloudflare.com/ajax/libs/leaflet.draw/1.0.2/leaflet.draw.css&quot;/&gt;\n",
              "    &lt;script src=&quot;https://cdn.jsdelivr.net/gh/ljagis/leaflet-measure@2.1.7/dist/leaflet-measure.min.js&quot;&gt;&lt;/script&gt;\n",
              "    &lt;link rel=&quot;stylesheet&quot; href=&quot;https://cdn.jsdelivr.net/gh/ljagis/leaflet-measure@2.1.7/dist/leaflet-measure.min.css&quot;/&gt;\n",
              "    &lt;script src=&quot;https://unpkg.com/leaflet-control-geocoder/dist/Control.Geocoder.js&quot;&gt;&lt;/script&gt;\n",
              "    &lt;link rel=&quot;stylesheet&quot; href=&quot;https://unpkg.com/leaflet-control-geocoder/dist/Control.Geocoder.css&quot;/&gt;\n",
              "&lt;/head&gt;\n",
              "&lt;body&gt;\n",
              "    \n",
              "    \n",
              "            &lt;div class=&quot;folium-map&quot; id=&quot;map_fdbec5df2aa69945ead89166bc4ec70f&quot; &gt;&lt;/div&gt;\n",
              "        \n",
              "&lt;/body&gt;\n",
              "&lt;script&gt;\n",
              "    \n",
              "    \n",
              "            var map_fdbec5df2aa69945ead89166bc4ec70f = L.map(\n",
              "                &quot;map_fdbec5df2aa69945ead89166bc4ec70f&quot;,\n",
              "                {\n",
              "                    center: [20.0, 0.0],\n",
              "                    crs: L.CRS.EPSG3857,\n",
              "                    ...{\n",
              "  &quot;zoom&quot;: 2,\n",
              "  &quot;zoomControl&quot;: true,\n",
              "  &quot;preferCanvas&quot;: false,\n",
              "  &quot;drawExport&quot;: false,\n",
              "  &quot;layersControl&quot;: true,\n",
              "}\n",
              "\n",
              "                }\n",
              "            );\n",
              "            L.control.scale().addTo(map_fdbec5df2aa69945ead89166bc4ec70f);\n",
              "\n",
              "            \n",
              "\n",
              "        \n",
              "    \n",
              "            var tile_layer_69b1b68201247b1a0a8849d9e15768c7 = L.tileLayer(\n",
              "                &quot;https://tile.openstreetmap.org/{z}/{x}/{y}.png&quot;,\n",
              "                {\n",
              "  &quot;minZoom&quot;: 0,\n",
              "  &quot;maxZoom&quot;: 24,\n",
              "  &quot;maxNativeZoom&quot;: 24,\n",
              "  &quot;noWrap&quot;: false,\n",
              "  &quot;attribution&quot;: &quot;\\u0026copy; \\u003ca href=\\&quot;https://www.openstreetmap.org/copyright\\&quot;\\u003eOpenStreetMap\\u003c/a\\u003e contributors&quot;,\n",
              "  &quot;subdomains&quot;: &quot;abc&quot;,\n",
              "  &quot;detectRetina&quot;: false,\n",
              "  &quot;tms&quot;: false,\n",
              "  &quot;opacity&quot;: 1,\n",
              "}\n",
              "\n",
              "            );\n",
              "        \n",
              "    \n",
              "            tile_layer_69b1b68201247b1a0a8849d9e15768c7.addTo(map_fdbec5df2aa69945ead89166bc4ec70f);\n",
              "        \n",
              "    \n",
              "            L.control.fullscreen(\n",
              "                {\n",
              "  &quot;position&quot;: &quot;topleft&quot;,\n",
              "  &quot;title&quot;: &quot;Full Screen&quot;,\n",
              "  &quot;titleCancel&quot;: &quot;Exit Full Screen&quot;,\n",
              "  &quot;forceSeparateButton&quot;: false,\n",
              "}\n",
              "            ).addTo(map_fdbec5df2aa69945ead89166bc4ec70f);\n",
              "        \n",
              "    \n",
              "            var options = {\n",
              "              position: &quot;topleft&quot;,\n",
              "              draw: {},\n",
              "              edit: {},\n",
              "            }\n",
              "                // FeatureGroup is to store editable layers.\n",
              "                var drawnItems_draw_control_1d0418f0aa7bba446550c5b87b8ca355 =\n",
              "                    new L.featureGroup().addTo(\n",
              "                        map_fdbec5df2aa69945ead89166bc4ec70f\n",
              "                    );\n",
              "\n",
              "            options.edit.featureGroup = drawnItems_draw_control_1d0418f0aa7bba446550c5b87b8ca355;\n",
              "            var draw_control_1d0418f0aa7bba446550c5b87b8ca355 = new L.Control.Draw(\n",
              "                options\n",
              "            ).addTo( map_fdbec5df2aa69945ead89166bc4ec70f );\n",
              "            map_fdbec5df2aa69945ead89166bc4ec70f.on(L.Draw.Event.CREATED, function(e) {\n",
              "                var layer = e.layer,\n",
              "                    type = e.layerType;\n",
              "                var coords = JSON.stringify(layer.toGeoJSON());\n",
              "                layer.on(&#x27;click&#x27;, function() {\n",
              "                    alert(coords);\n",
              "                    console.log(coords);\n",
              "                });\n",
              "                drawnItems_draw_control_1d0418f0aa7bba446550c5b87b8ca355.addLayer(layer);\n",
              "            });\n",
              "            map_fdbec5df2aa69945ead89166bc4ec70f.on(&#x27;draw:created&#x27;, function(e) {\n",
              "                drawnItems_draw_control_1d0418f0aa7bba446550c5b87b8ca355.addLayer(e.layer);\n",
              "            });\n",
              "\n",
              "            \n",
              "        \n",
              "    \n",
              "            var measure_control_a9de61f2bfc156b706dbf11dfa6afccd = new L.Control.Measure(\n",
              "                {\n",
              "  &quot;position&quot;: &quot;bottomleft&quot;,\n",
              "  &quot;primaryLengthUnit&quot;: &quot;meters&quot;,\n",
              "  &quot;secondaryLengthUnit&quot;: &quot;miles&quot;,\n",
              "  &quot;primaryAreaUnit&quot;: &quot;sqmeters&quot;,\n",
              "  &quot;secondaryAreaUnit&quot;: &quot;acres&quot;,\n",
              "});\n",
              "            map_fdbec5df2aa69945ead89166bc4ec70f.addControl(measure_control_a9de61f2bfc156b706dbf11dfa6afccd);\n",
              "\n",
              "            // Workaround for using this plugin with Leaflet&gt;=1.8.0\n",
              "            // https://github.com/ljagis/leaflet-measure/issues/171\n",
              "            L.Control.Measure.include({\n",
              "                _setCaptureMarkerIcon: function () {\n",
              "                    // disable autopan\n",
              "                    this._captureMarker.options.autoPanOnFocus = false;\n",
              "                    // default function\n",
              "                    this._captureMarker.setIcon(\n",
              "                        L.divIcon({\n",
              "                            iconSize: this._map.getSize().multiplyBy(2)\n",
              "                        })\n",
              "                    );\n",
              "                },\n",
              "            });\n",
              "\n",
              "        \n",
              "    \n",
              "\n",
              "            var geocoderOpts_geocoder_ab87b512281108c85f75dea695e04a32 = {\n",
              "  &quot;collapsed&quot;: true,\n",
              "  &quot;position&quot;: &quot;topleft&quot;,\n",
              "  &quot;defaultMarkGeocode&quot;: true,\n",
              "  &quot;zoom&quot;: 11,\n",
              "  &quot;provider&quot;: &quot;nominatim&quot;,\n",
              "  &quot;providerOptions&quot;: {\n",
              "},\n",
              "};\n",
              "\n",
              "            // note: geocoder name should start with lowercase\n",
              "            var geocoderName_geocoder_ab87b512281108c85f75dea695e04a32 = geocoderOpts_geocoder_ab87b512281108c85f75dea695e04a32[&quot;provider&quot;];\n",
              "\n",
              "            var customGeocoder_geocoder_ab87b512281108c85f75dea695e04a32 = L.Control.Geocoder[ geocoderName_geocoder_ab87b512281108c85f75dea695e04a32 ](\n",
              "                geocoderOpts_geocoder_ab87b512281108c85f75dea695e04a32[&#x27;providerOptions&#x27;]\n",
              "            );\n",
              "            geocoderOpts_geocoder_ab87b512281108c85f75dea695e04a32[&quot;geocoder&quot;] = customGeocoder_geocoder_ab87b512281108c85f75dea695e04a32;\n",
              "\n",
              "            L.Control.geocoder(\n",
              "                geocoderOpts_geocoder_ab87b512281108c85f75dea695e04a32\n",
              "            ).on(&#x27;markgeocode&#x27;, function(e) {\n",
              "                var zoom = geocoderOpts_geocoder_ab87b512281108c85f75dea695e04a32[&#x27;zoom&#x27;] || map_fdbec5df2aa69945ead89166bc4ec70f.getZoom();\n",
              "                map_fdbec5df2aa69945ead89166bc4ec70f.setView(e.geocode.center, zoom);\n",
              "            }).addTo(map_fdbec5df2aa69945ead89166bc4ec70f);\n",
              "\n",
              "        \n",
              "    \n",
              "            map_fdbec5df2aa69945ead89166bc4ec70f.fitBounds(\n",
              "                [[20, 0], [20, 0]],\n",
              "                {&quot;maxZoom&quot;: 2}\n",
              "            );\n",
              "        \n",
              "    \n",
              "            var tile_layer_3fde426551c5bc33b3640479d9a19ae2 = L.tileLayer(\n",
              "                &quot;https://titiler.xyz/cog/tiles/WebMercatorQuad/{z}/{x}/{y}@1x?url=https%3A%2F%2Fhuggingface.co%2Fdatasets%2Fgiswqs%2Fgeospatial%2Fresolve%2Fmain%2Fnaip_test.tif\\u0026bidx=1\\u0026bidx=2\\u0026bidx=3&quot;,\n",
              "                {\n",
              "  &quot;minZoom&quot;: 0,\n",
              "  &quot;maxZoom&quot;: 30,\n",
              "  &quot;maxNativeZoom&quot;: 30,\n",
              "  &quot;noWrap&quot;: false,\n",
              "  &quot;attribution&quot;: &quot;TiTiler&quot;,\n",
              "  &quot;subdomains&quot;: &quot;abc&quot;,\n",
              "  &quot;detectRetina&quot;: false,\n",
              "  &quot;tms&quot;: false,\n",
              "  &quot;opacity&quot;: 1.0,\n",
              "}\n",
              "\n",
              "            );\n",
              "        \n",
              "    \n",
              "            tile_layer_3fde426551c5bc33b3640479d9a19ae2.addTo(map_fdbec5df2aa69945ead89166bc4ec70f);\n",
              "        \n",
              "    \n",
              "            map_fdbec5df2aa69945ead89166bc4ec70f.fitBounds(\n",
              "                [[47.64277828744407, -117.6039857669145], [47.650188919438484, -117.57688661080043]],\n",
              "                {}\n",
              "            );\n",
              "        \n",
              "    \n",
              "            var layer_control_2acdfc1c9c8d9ae1c09fe866dedaabe6_layers = {\n",
              "                base_layers : {\n",
              "                    &quot;openstreetmap&quot; : tile_layer_69b1b68201247b1a0a8849d9e15768c7,\n",
              "                },\n",
              "                overlays :  {\n",
              "                    &quot;Raster&quot; : tile_layer_3fde426551c5bc33b3640479d9a19ae2,\n",
              "                },\n",
              "            };\n",
              "            let layer_control_2acdfc1c9c8d9ae1c09fe866dedaabe6 = L.control.layers(\n",
              "                layer_control_2acdfc1c9c8d9ae1c09fe866dedaabe6_layers.base_layers,\n",
              "                layer_control_2acdfc1c9c8d9ae1c09fe866dedaabe6_layers.overlays,\n",
              "                {\n",
              "  &quot;position&quot;: &quot;topright&quot;,\n",
              "  &quot;collapsed&quot;: true,\n",
              "  &quot;autoZIndex&quot;: true,\n",
              "}\n",
              "            ).addTo(map_fdbec5df2aa69945ead89166bc4ec70f);\n",
              "\n",
              "        \n",
              "&lt;/script&gt;\n",
              "&lt;/html&gt;\" width=\"100%\" height=\"600\"style=\"border:none !important;\" \"allowfullscreen\" \"webkitallowfullscreen\" \"mozallowfullscreen\"></iframe>"
            ]
          },
          "metadata": {},
          "execution_count": 8
        }
      ]
    },
    {
      "cell_type": "markdown",
      "source": [
        "# Export tiles from multiple raster/vector pairs"
      ],
      "metadata": {
        "id": "1jLhPpKakBrE"
      }
    },
    {
      "cell_type": "code",
      "source": [
        "for train_raster, train_vector in zip(train_raster_paths, train_vector_paths):\n",
        "    geoai.export_geotiff_tiles(\n",
        "        in_raster=train_raster,\n",
        "        out_folder=out_folder,\n",
        "        in_class_data=train_vector,\n",
        "        tile_size=512,\n",
        "        stride=256,\n",
        "        buffer_radius=0,\n",
        "    )"
      ],
      "metadata": {
        "colab": {
          "base_uri": "https://localhost:8080/"
        },
        "id": "D0z1-HmnjVYC",
        "outputId": "12ccb6df-e5a1-428c-eda4-cb3d57806ee2",
        "collapsed": true
      },
      "execution_count": 9,
      "outputs": [
        {
          "output_type": "stream",
          "name": "stdout",
          "text": [
            "\n",
            "Raster info for naip_train.tif:\n",
            "  CRS: EPSG:26911\n",
            "  Dimensions: 2503 x 1126\n",
            "  Resolution: (0.5999999999999953, 0.5999999999996691)\n",
            "  Bands: 4\n",
            "  Bounds: BoundingBox(left=454780.8, bottom=5277567.0, right=456282.6, top=5278242.6)\n",
            "Loaded 722 features from naip_train_buildings.geojson\n",
            "Vector CRS: EPSG:4326\n",
            "Reprojecting features from EPSG:4326 to EPSG:26911\n",
            "Found 6 unique classes: ['apartments' None 'terrace' 'detached' 'house' 'shed']\n"
          ]
        },
        {
          "output_type": "stream",
          "name": "stderr",
          "text": [
            "Generated: 36, With features: 36: 100%|██████████| 36/36 [01:03<00:00,  1.75s/it]\n"
          ]
        },
        {
          "output_type": "stream",
          "name": "stdout",
          "text": [
            "\n",
            "------- Export Summary -------\n",
            "Total tiles exported: 36\n",
            "Tiles with features: 36 (100.0%)\n",
            "Average feature pixels per tile: 45966.3\n",
            "Output saved to: /content/drive/MyDrive/Ombui/output\n",
            "\n",
            "------- Georeference Verification -------\n",
            "\n",
            "Raster info for reproject1.tif:\n",
            "  CRS: EPSG:26915\n",
            "  Dimensions: 1180 x 780\n",
            "  Resolution: (0.26040991525426194, 0.2604098717950714)\n",
            "  Bands: 4\n",
            "  Bounds: BoundingBox(left=269642.8991, bottom=3291203.3059, right=269950.1828, top=3291406.4256)\n",
            "Loaded 102 features from reproject1.geojson\n",
            "Vector CRS: EPSG:26915\n",
            "WARNING: 'class' not found in vector data. Using default class ID 1.\n"
          ]
        },
        {
          "output_type": "stream",
          "name": "stderr",
          "text": [
            "Generated: 12, With features: 12: 100%|██████████| 12/12 [00:02<00:00,  5.69it/s]\n"
          ]
        },
        {
          "output_type": "stream",
          "name": "stdout",
          "text": [
            "\n",
            "------- Export Summary -------\n",
            "Total tiles exported: 12\n",
            "Tiles with features: 12 (100.0%)\n",
            "Average feature pixels per tile: 67793.0\n",
            "Output saved to: /content/drive/MyDrive/Ombui/output\n",
            "\n",
            "------- Georeference Verification -------\n",
            "\n",
            "Raster info for reproject2.tif:\n",
            "  CRS: EPSG:26915\n",
            "  Dimensions: 8452 x 4619\n",
            "  Resolution: (0.0648530170373901, 0.0648530201342632)\n",
            "  Bands: 3\n",
            "  Bounds: BoundingBox(left=265336.7508, bottom=3285532.5448, right=265884.8885, top=3285832.1009)\n",
            "Loaded 18 features from reproject2.geojson\n",
            "Vector CRS: EPSG:26915\n",
            "WARNING: 'class' not found in vector data. Using default class ID 1.\n"
          ]
        },
        {
          "output_type": "stream",
          "name": "stderr",
          "text": [
            "Generated: 594, With features: 307: 100%|██████████| 594/594 [03:23<00:00,  2.92it/s]"
          ]
        },
        {
          "output_type": "stream",
          "name": "stdout",
          "text": [
            "\n",
            "------- Export Summary -------\n",
            "Total tiles exported: 594\n",
            "Tiles with features: 307 (51.7%)\n",
            "Average feature pixels per tile: 82232.3\n",
            "Output saved to: /content/drive/MyDrive/Ombui/output\n",
            "\n",
            "------- Georeference Verification -------\n"
          ]
        },
        {
          "output_type": "stream",
          "name": "stderr",
          "text": [
            "\n"
          ]
        }
      ]
    },
    {
      "cell_type": "markdown",
      "source": [
        "# Train the model with multiple images"
      ],
      "metadata": {
        "id": "G1r4n6-lkCZ9"
      }
    },
    {
      "cell_type": "code",
      "source": [
        "# Step 1: Check if model exists (first time or not)\n",
        "is_first_run = not os.path.exists(model_path)\n",
        "model_exists = not is_first_run\n",
        "\n",
        "# Step 2: Compute training hashes\n",
        "current_hashes = {fp: compute_file_hash(fp) for fp in train_raster_paths + train_vector_paths}\n",
        "previous_hashes = {}\n",
        "\n",
        "if os.path.exists(hash_file):\n",
        "    with open(hash_file, \"r\") as f:\n",
        "        previous_hashes = json.load(f)\n",
        "\n",
        "# Step 3: Determine if data has changed\n",
        "has_new_data = current_hashes != previous_hashes\n",
        "\n",
        "# Step 4: Train only if needed or first run\n",
        "if is_first_run or has_new_data:\n",
        "    print(\"Preparing to train the model...\")\n",
        "\n",
        "    # Before training, check if image and label count matches\n",
        "    num_images = len(os.listdir(f\"{out_folder}/images\"))\n",
        "    num_labels = len(os.listdir(f\"{out_folder}/labels\"))\n",
        "\n",
        "    if num_images == 0 or num_labels == 0:\n",
        "        raise ValueError(\"No training data found in images or labels folders.\")\n",
        "\n",
        "    if num_images != num_labels:\n",
        "        raise ValueError(f\"Image-label mismatch: {num_images} images vs {num_labels} labels\")\n",
        "\n",
        "    print(\"Training model (first time run)\" if is_first_run else \"Training model due to new data...\")\n",
        "\n",
        "    geoai.train_MaskRCNN_model(\n",
        "        images_dir=f\"{out_folder}/images\",\n",
        "        labels_dir=f\"{out_folder}/labels\",\n",
        "        output_dir=model_dir,\n",
        "        num_channels=3,\n",
        "        pretrained=True,\n",
        "        batch_size=4,\n",
        "        num_epochs=10,\n",
        "        learning_rate=0.0005,\n",
        "        val_split=0.2,\n",
        "        pretrained_model_path=model_path if model_exists else None\n",
        "    )\n",
        "\n",
        "    # Check if training output exists\n",
        "    trained_model_path = os.path.join(model_dir, \"best_model.pth\")\n",
        "    if os.path.exists(trained_model_path):\n",
        "        shutil.copy(trained_model_path, model_path)\n",
        "        with open(hash_file, \"w\") as f:\n",
        "            json.dump(current_hashes, f)\n",
        "        print(f\"Model saved to {model_path}\")\n",
        "    else:\n",
        "        raise FileNotFoundError(\"Training failed — 'best_model.pth' was not created.\")\n",
        "else:\n",
        "    print(f\"Using existing trained model from {model_path}\")"
      ],
      "metadata": {
        "colab": {
          "base_uri": "https://localhost:8080/"
        },
        "id": "geYk5ArojVa1",
        "outputId": "f6502e32-e185-4e24-afe9-0d872c9e12ec",
        "collapsed": true
      },
      "execution_count": 10,
      "outputs": [
        {
          "output_type": "stream",
          "name": "stdout",
          "text": [
            "Preparing to train the model...\n",
            "Training model (first time run)\n",
            "Using device: cuda\n",
            "Found 594 image files and 594 label files\n",
            "Training on 475 images, validating on 119 images\n"
          ]
        },
        {
          "output_type": "stream",
          "name": "stderr",
          "text": [
            "Downloading: \"https://download.pytorch.org/models/maskrcnn_resnet50_fpn_coco-bf2d0c1e.pth\" to /root/.cache/torch/hub/checkpoints/maskrcnn_resnet50_fpn_coco-bf2d0c1e.pth\n",
            "100%|██████████| 170M/170M [00:01<00:00, 148MB/s]\n"
          ]
        },
        {
          "output_type": "stream",
          "name": "stdout",
          "text": [
            "Epoch: 0, Batch: 0/119, Loss: 2.4950, Time: 6.26s\n",
            "Epoch: 0, Batch: 10/119, Loss: 0.8767, Time: 8.02s\n",
            "Epoch: 0, Batch: 20/119, Loss: 0.4677, Time: 8.25s\n",
            "Epoch: 0, Batch: 30/119, Loss: 0.8192, Time: 7.77s\n",
            "Epoch: 0, Batch: 40/119, Loss: 0.5139, Time: 8.06s\n",
            "Epoch: 0, Batch: 50/119, Loss: 0.3352, Time: 7.94s\n",
            "Epoch: 0, Batch: 60/119, Loss: 0.6592, Time: 8.19s\n",
            "Epoch: 0, Batch: 70/119, Loss: 0.5648, Time: 8.19s\n",
            "Epoch: 0, Batch: 80/119, Loss: 0.4459, Time: 8.22s\n",
            "Epoch: 0, Batch: 90/119, Loss: 0.2490, Time: 8.47s\n",
            "Epoch: 0, Batch: 100/119, Loss: 0.3302, Time: 8.45s\n",
            "Epoch: 0, Batch: 110/119, Loss: 0.5959, Time: 8.75s\n",
            "Epoch 1/10: Train Loss: 0.6384, Val Loss: inf, Val IoU: 0.3175\n",
            "Saving best model with IoU: 0.3175\n",
            "Epoch: 1, Batch: 0/119, Loss: 1.1133, Time: 2.47s\n",
            "Epoch: 1, Batch: 10/119, Loss: 0.2772, Time: 8.88s\n",
            "Epoch: 1, Batch: 20/119, Loss: 0.4053, Time: 8.70s\n",
            "Epoch: 1, Batch: 30/119, Loss: 0.1578, Time: 8.61s\n",
            "Epoch: 1, Batch: 40/119, Loss: 0.4483, Time: 8.51s\n",
            "Epoch: 1, Batch: 50/119, Loss: 0.3822, Time: 8.67s\n",
            "Epoch: 1, Batch: 60/119, Loss: 0.0160, Time: 8.46s\n",
            "Epoch: 1, Batch: 70/119, Loss: 0.5253, Time: 8.73s\n",
            "Epoch: 1, Batch: 80/119, Loss: 0.0115, Time: 8.67s\n",
            "Epoch: 1, Batch: 90/119, Loss: 0.3036, Time: 8.42s\n",
            "Epoch: 1, Batch: 100/119, Loss: 0.4629, Time: 8.71s\n",
            "Epoch: 1, Batch: 110/119, Loss: 0.7414, Time: 8.52s\n",
            "Epoch 2/10: Train Loss: 0.3711, Val Loss: inf, Val IoU: 0.3445\n",
            "Saving best model with IoU: 0.3445\n",
            "Epoch: 2, Batch: 0/119, Loss: 0.3994, Time: 3.94s\n",
            "Epoch: 2, Batch: 10/119, Loss: 0.2900, Time: 12.49s\n",
            "Epoch: 2, Batch: 20/119, Loss: 0.1163, Time: 8.79s\n",
            "Epoch: 2, Batch: 30/119, Loss: 0.0925, Time: 8.54s\n",
            "Epoch: 2, Batch: 40/119, Loss: 0.2815, Time: 8.87s\n",
            "Epoch: 2, Batch: 50/119, Loss: 0.2366, Time: 8.71s\n",
            "Epoch: 2, Batch: 60/119, Loss: 0.1698, Time: 8.50s\n",
            "Epoch: 2, Batch: 70/119, Loss: 0.2253, Time: 8.69s\n",
            "Epoch: 2, Batch: 80/119, Loss: 0.0929, Time: 8.38s\n",
            "Epoch: 2, Batch: 90/119, Loss: 0.3583, Time: 8.72s\n",
            "Epoch: 2, Batch: 100/119, Loss: 0.2189, Time: 8.61s\n",
            "Epoch: 2, Batch: 110/119, Loss: 0.3075, Time: 8.63s\n",
            "Epoch 3/10: Train Loss: 0.2868, Val Loss: inf, Val IoU: 0.4609\n",
            "Saving best model with IoU: 0.4609\n",
            "Epoch: 3, Batch: 0/119, Loss: 0.1564, Time: 3.70s\n",
            "Epoch: 3, Batch: 10/119, Loss: 0.3297, Time: 8.61s\n",
            "Epoch: 3, Batch: 20/119, Loss: 0.2761, Time: 10.29s\n",
            "Epoch: 3, Batch: 30/119, Loss: 0.4616, Time: 8.76s\n",
            "Epoch: 3, Batch: 40/119, Loss: 0.3192, Time: 8.56s\n",
            "Epoch: 3, Batch: 50/119, Loss: 0.5769, Time: 8.62s\n",
            "Epoch: 3, Batch: 60/119, Loss: 0.0942, Time: 8.76s\n",
            "Epoch: 3, Batch: 70/119, Loss: 0.2025, Time: 8.45s\n",
            "Epoch: 3, Batch: 80/119, Loss: 0.2157, Time: 8.74s\n",
            "Epoch: 3, Batch: 90/119, Loss: 0.1888, Time: 8.56s\n",
            "Epoch: 3, Batch: 100/119, Loss: 0.0379, Time: 8.59s\n",
            "Epoch: 3, Batch: 110/119, Loss: 0.2792, Time: 8.79s\n",
            "Epoch 4/10: Train Loss: 0.2426, Val Loss: inf, Val IoU: 0.4771\n",
            "Saving best model with IoU: 0.4771\n",
            "Epoch: 4, Batch: 0/119, Loss: 0.1235, Time: 2.08s\n",
            "Epoch: 4, Batch: 10/119, Loss: 0.1806, Time: 8.71s\n",
            "Epoch: 4, Batch: 20/119, Loss: 0.1194, Time: 9.72s\n",
            "Epoch: 4, Batch: 30/119, Loss: 0.3656, Time: 8.95s\n",
            "Epoch: 4, Batch: 40/119, Loss: 0.2099, Time: 8.71s\n",
            "Epoch: 4, Batch: 50/119, Loss: 0.0184, Time: 8.42s\n",
            "Epoch: 4, Batch: 60/119, Loss: 0.0929, Time: 8.80s\n",
            "Epoch: 4, Batch: 70/119, Loss: 0.4087, Time: 8.67s\n",
            "Epoch: 4, Batch: 80/119, Loss: 0.2105, Time: 8.46s\n",
            "Epoch: 4, Batch: 90/119, Loss: 0.1760, Time: 8.64s\n",
            "Epoch: 4, Batch: 100/119, Loss: 0.0925, Time: 8.43s\n",
            "Epoch: 4, Batch: 110/119, Loss: 0.1581, Time: 8.74s\n",
            "Epoch 5/10: Train Loss: 0.2014, Val Loss: inf, Val IoU: 0.5780\n",
            "Saving best model with IoU: 0.5780\n",
            "Epoch: 5, Batch: 0/119, Loss: 0.1326, Time: 3.05s\n",
            "Epoch: 5, Batch: 10/119, Loss: 0.1458, Time: 8.47s\n",
            "Epoch: 5, Batch: 20/119, Loss: 0.1401, Time: 10.30s\n",
            "Epoch: 5, Batch: 30/119, Loss: 0.1422, Time: 8.73s\n",
            "Epoch: 5, Batch: 40/119, Loss: 0.3635, Time: 8.52s\n",
            "Epoch: 5, Batch: 50/119, Loss: 0.1024, Time: 8.63s\n",
            "Epoch: 5, Batch: 60/119, Loss: 0.1723, Time: 8.56s\n",
            "Epoch: 5, Batch: 70/119, Loss: 0.3733, Time: 8.71s\n",
            "Epoch: 5, Batch: 80/119, Loss: 0.1444, Time: 8.57s\n",
            "Epoch: 5, Batch: 90/119, Loss: 0.1516, Time: 8.46s\n",
            "Epoch: 5, Batch: 100/119, Loss: 0.1400, Time: 8.69s\n",
            "Epoch: 5, Batch: 110/119, Loss: 0.0714, Time: 8.71s\n",
            "Epoch 6/10: Train Loss: 0.1811, Val Loss: inf, Val IoU: 0.5899\n",
            "Saving best model with IoU: 0.5899\n",
            "Epoch: 6, Batch: 0/119, Loss: 0.2535, Time: 2.10s\n",
            "Epoch: 6, Batch: 10/119, Loss: 0.1942, Time: 8.89s\n",
            "Epoch: 6, Batch: 20/119, Loss: 0.1180, Time: 9.49s\n",
            "Epoch: 6, Batch: 30/119, Loss: 0.1356, Time: 8.41s\n",
            "Epoch: 6, Batch: 40/119, Loss: 0.1275, Time: 8.71s\n",
            "Epoch: 6, Batch: 50/119, Loss: 0.3492, Time: 8.57s\n",
            "Epoch: 6, Batch: 60/119, Loss: 0.1330, Time: 8.51s\n",
            "Epoch: 6, Batch: 70/119, Loss: 0.1174, Time: 8.59s\n",
            "Epoch: 6, Batch: 80/119, Loss: 0.1008, Time: 8.41s\n",
            "Epoch: 6, Batch: 90/119, Loss: 0.0650, Time: 8.64s\n",
            "Epoch: 6, Batch: 100/119, Loss: 0.1346, Time: 8.73s\n",
            "Epoch: 6, Batch: 110/119, Loss: 0.2054, Time: 8.49s\n",
            "Epoch 7/10: Train Loss: 0.1616, Val Loss: inf, Val IoU: 0.6126\n",
            "Saving best model with IoU: 0.6126\n",
            "Epoch: 7, Batch: 0/119, Loss: 0.0133, Time: 2.17s\n",
            "Epoch: 7, Batch: 10/119, Loss: 0.0699, Time: 8.49s\n",
            "Epoch: 7, Batch: 20/119, Loss: 0.0982, Time: 10.34s\n",
            "Epoch: 7, Batch: 30/119, Loss: 0.1198, Time: 8.77s\n",
            "Epoch: 7, Batch: 40/119, Loss: 0.1446, Time: 8.46s\n",
            "Epoch: 7, Batch: 50/119, Loss: 0.1609, Time: 8.78s\n",
            "Epoch: 7, Batch: 60/119, Loss: 0.2991, Time: 8.67s\n",
            "Epoch: 7, Batch: 70/119, Loss: 0.1326, Time: 8.39s\n",
            "Epoch: 7, Batch: 80/119, Loss: 0.1586, Time: 8.69s\n",
            "Epoch: 7, Batch: 90/119, Loss: 0.0786, Time: 8.49s\n",
            "Epoch: 7, Batch: 100/119, Loss: 0.1581, Time: 8.65s\n",
            "Epoch: 7, Batch: 110/119, Loss: 0.0324, Time: 8.77s\n",
            "Epoch 8/10: Train Loss: 0.1578, Val Loss: inf, Val IoU: 0.6963\n",
            "Saving best model with IoU: 0.6963\n",
            "Epoch: 8, Batch: 0/119, Loss: 0.3001, Time: 1.99s\n",
            "Epoch: 8, Batch: 10/119, Loss: 0.1382, Time: 8.63s\n",
            "Epoch: 8, Batch: 20/119, Loss: 0.1104, Time: 9.12s\n",
            "Epoch: 8, Batch: 30/119, Loss: 0.6817, Time: 8.91s\n",
            "Epoch: 8, Batch: 40/119, Loss: 0.0778, Time: 8.71s\n",
            "Epoch: 8, Batch: 50/119, Loss: 0.0905, Time: 8.48s\n",
            "Epoch: 8, Batch: 60/119, Loss: 0.0141, Time: 8.56s\n",
            "Epoch: 8, Batch: 70/119, Loss: 0.2489, Time: 8.58s\n",
            "Epoch: 8, Batch: 80/119, Loss: 0.0115, Time: 8.57s\n",
            "Epoch: 8, Batch: 90/119, Loss: 0.0413, Time: 8.83s\n",
            "Epoch: 8, Batch: 100/119, Loss: 0.1721, Time: 8.83s\n",
            "Epoch: 8, Batch: 110/119, Loss: 0.0723, Time: 8.44s\n",
            "Epoch 9/10: Train Loss: 0.1563, Val Loss: inf, Val IoU: 0.6210\n",
            "Epoch: 9, Batch: 0/119, Loss: 0.0824, Time: 2.00s\n",
            "Epoch: 9, Batch: 10/119, Loss: 0.1244, Time: 9.04s\n",
            "Epoch: 9, Batch: 20/119, Loss: 0.3173, Time: 8.95s\n",
            "Epoch: 9, Batch: 30/119, Loss: 0.1220, Time: 8.50s\n",
            "Epoch: 9, Batch: 40/119, Loss: 0.0572, Time: 8.69s\n",
            "Epoch: 9, Batch: 50/119, Loss: 0.1320, Time: 8.60s\n",
            "Epoch: 9, Batch: 60/119, Loss: 0.0973, Time: 8.48s\n",
            "Epoch: 9, Batch: 70/119, Loss: 0.0841, Time: 8.65s\n",
            "Epoch: 9, Batch: 80/119, Loss: 0.0048, Time: 8.50s\n",
            "Epoch: 9, Batch: 90/119, Loss: 0.2032, Time: 8.90s\n",
            "Epoch: 9, Batch: 100/119, Loss: 0.1027, Time: 8.74s\n",
            "Epoch: 9, Batch: 110/119, Loss: 0.0397, Time: 8.41s\n",
            "Epoch 10/10: Train Loss: 0.1317, Val Loss: inf, Val IoU: 0.6900\n",
            "Final Evaluation - Loss: inf, IoU: 0.6963\n",
            "Training complete! Trained model saved to /content/drive/MyDrive/Ombui/output/models\n",
            "Model saved to /content/drive/MyDrive/Ombui/output/models/mask_rcnn_trained.pth\n"
          ]
        }
      ]
    },
    {
      "cell_type": "markdown",
      "source": [
        "# Object detection on test raster"
      ],
      "metadata": {
        "id": "Ph4GiJMUkDNE"
      }
    },
    {
      "cell_type": "code",
      "source": [
        "masks_path = \"naip_test_prediction.tif\"\n",
        "model_path = f\"{out_folder}/models/best_model.pth\"\n",
        "\n",
        "geoai.object_detection(\n",
        "    test_raster_path,\n",
        "    masks_path,\n",
        "    model_path,\n",
        "    window_size=512,\n",
        "    overlap=256,\n",
        "    confidence_threshold=0.5,\n",
        "    batch_size=4,\n",
        "    num_channels=3,\n",
        ")"
      ],
      "metadata": {
        "id": "gjUj3fxzjVd0",
        "colab": {
          "base_uri": "https://localhost:8080/"
        },
        "outputId": "3d53b7f7-b799-4045-ae95-cfd969452162"
      },
      "execution_count": 11,
      "outputs": [
        {
          "output_type": "stream",
          "name": "stdout",
          "text": [
            "Processing 65 windows with size 512x512 and overlap 256...\n"
          ]
        },
        {
          "output_type": "stream",
          "name": "stderr",
          "text": [
            "84it [00:09,  8.99it/s]"
          ]
        },
        {
          "output_type": "stream",
          "name": "stdout",
          "text": [
            "Inference completed in 9.38 seconds\n",
            "Saved prediction to naip_test_prediction.tif\n"
          ]
        },
        {
          "output_type": "stream",
          "name": "stderr",
          "text": [
            "\n"
          ]
        }
      ]
    },
    {
      "cell_type": "markdown",
      "source": [
        "# Convert predicted masks to GeoJSON"
      ],
      "metadata": {
        "id": "7usiKidakD5F"
      }
    },
    {
      "cell_type": "code",
      "source": [
        "output_path = \"naip_test_prediction.geojson\"\n",
        "gdf = geoai.orthogonalize(masks_path, output_path, epsilon=2)"
      ],
      "metadata": {
        "id": "P_vXj35MjVgw",
        "colab": {
          "base_uri": "https://localhost:8080/"
        },
        "outputId": "330df0e8-b729-43c0-e067-eb247a3559f5"
      },
      "execution_count": 12,
      "outputs": [
        {
          "output_type": "stream",
          "name": "stdout",
          "text": [
            "Processing 31 features...\n"
          ]
        },
        {
          "output_type": "stream",
          "name": "stderr",
          "text": [
            "Converting features: 100%|██████████| 31/31 [00:01<00:00, 30.28shape/s]"
          ]
        },
        {
          "output_type": "stream",
          "name": "stdout",
          "text": [
            "Saving to naip_test_prediction.geojson...\n",
            "Done!\n"
          ]
        },
        {
          "output_type": "stream",
          "name": "stderr",
          "text": [
            "\n"
          ]
        }
      ]
    },
    {
      "cell_type": "markdown",
      "source": [
        "# View results"
      ],
      "metadata": {
        "id": "QJ2gOfy5kEx2"
      }
    },
    {
      "cell_type": "code",
      "source": [
        "geoai.view_vector_interactive(output_path, tiles=test_raster_url)"
      ],
      "metadata": {
        "id": "UIF_8kDPjVkF",
        "colab": {
          "base_uri": "https://localhost:8080/",
          "height": 685
        },
        "outputId": "a3c4ae08-2fc9-4c14-cbb3-d7b31e53b2ec"
      },
      "execution_count": 13,
      "outputs": [
        {
          "output_type": "execute_result",
          "data": {
            "text/plain": [
              "<folium.folium.Map at 0x7e3738d10d50>"
            ],
            "text/html": [
              "<div style=\"width:100%;\"><div style=\"position:relative;width:100%;height:0;padding-bottom:60%;\"><span style=\"color:#565656\">Make this Notebook Trusted to load map: File -> Trust Notebook</span><iframe srcdoc=\"&lt;!DOCTYPE html&gt;\n",
              "&lt;html&gt;\n",
              "&lt;head&gt;\n",
              "    \n",
              "    &lt;meta http-equiv=&quot;content-type&quot; content=&quot;text/html; charset=UTF-8&quot; /&gt;\n",
              "    \n",
              "        &lt;script&gt;\n",
              "            L_NO_TOUCH = false;\n",
              "            L_DISABLE_3D = false;\n",
              "        &lt;/script&gt;\n",
              "    \n",
              "    &lt;style&gt;html, body {width: 100%;height: 100%;margin: 0;padding: 0;}&lt;/style&gt;\n",
              "    &lt;style&gt;#map {position:absolute;top:0;bottom:0;right:0;left:0;}&lt;/style&gt;\n",
              "    &lt;script src=&quot;https://cdn.jsdelivr.net/npm/leaflet@1.9.3/dist/leaflet.js&quot;&gt;&lt;/script&gt;\n",
              "    &lt;script src=&quot;https://code.jquery.com/jquery-3.7.1.min.js&quot;&gt;&lt;/script&gt;\n",
              "    &lt;script src=&quot;https://cdn.jsdelivr.net/npm/bootstrap@5.2.2/dist/js/bootstrap.bundle.min.js&quot;&gt;&lt;/script&gt;\n",
              "    &lt;script src=&quot;https://cdnjs.cloudflare.com/ajax/libs/Leaflet.awesome-markers/2.0.2/leaflet.awesome-markers.js&quot;&gt;&lt;/script&gt;\n",
              "    &lt;link rel=&quot;stylesheet&quot; href=&quot;https://cdn.jsdelivr.net/npm/leaflet@1.9.3/dist/leaflet.css&quot;/&gt;\n",
              "    &lt;link rel=&quot;stylesheet&quot; href=&quot;https://cdn.jsdelivr.net/npm/bootstrap@5.2.2/dist/css/bootstrap.min.css&quot;/&gt;\n",
              "    &lt;link rel=&quot;stylesheet&quot; href=&quot;https://netdna.bootstrapcdn.com/bootstrap/3.0.0/css/bootstrap-glyphicons.css&quot;/&gt;\n",
              "    &lt;link rel=&quot;stylesheet&quot; href=&quot;https://cdn.jsdelivr.net/npm/@fortawesome/fontawesome-free@6.2.0/css/all.min.css&quot;/&gt;\n",
              "    &lt;link rel=&quot;stylesheet&quot; href=&quot;https://cdnjs.cloudflare.com/ajax/libs/Leaflet.awesome-markers/2.0.2/leaflet.awesome-markers.css&quot;/&gt;\n",
              "    &lt;link rel=&quot;stylesheet&quot; href=&quot;https://cdn.jsdelivr.net/gh/python-visualization/folium/folium/templates/leaflet.awesome.rotate.min.css&quot;/&gt;\n",
              "    \n",
              "            &lt;meta name=&quot;viewport&quot; content=&quot;width=device-width,\n",
              "                initial-scale=1.0, maximum-scale=1.0, user-scalable=no&quot; /&gt;\n",
              "            &lt;style&gt;\n",
              "                #map_1d4635f8e08fe1cc75d550d53584f429 {\n",
              "                    position: relative;\n",
              "                    width: 100.0%;\n",
              "                    height: 100.0%;\n",
              "                    left: 0.0%;\n",
              "                    top: 0.0%;\n",
              "                }\n",
              "                .leaflet-container { font-size: 1rem; }\n",
              "            &lt;/style&gt;\n",
              "        \n",
              "    \n",
              "                    &lt;style&gt;\n",
              "                        .foliumtooltip {\n",
              "                            \n",
              "                        }\n",
              "                       .foliumtooltip table{\n",
              "                            margin: auto;\n",
              "                        }\n",
              "                        .foliumtooltip tr{\n",
              "                            text-align: left;\n",
              "                        }\n",
              "                        .foliumtooltip th{\n",
              "                            padding: 2px; padding-right: 8px;\n",
              "                        }\n",
              "                    &lt;/style&gt;\n",
              "            \n",
              "    &lt;script src=&quot;https://cdn.jsdelivr.net/npm/leaflet.fullscreen@3.0.0/Control.FullScreen.min.js&quot;&gt;&lt;/script&gt;\n",
              "    &lt;link rel=&quot;stylesheet&quot; href=&quot;https://cdn.jsdelivr.net/npm/leaflet.fullscreen@3.0.0/Control.FullScreen.css&quot;/&gt;\n",
              "&lt;/head&gt;\n",
              "&lt;body&gt;\n",
              "    \n",
              "    \n",
              "            &lt;div class=&quot;folium-map&quot; id=&quot;map_1d4635f8e08fe1cc75d550d53584f429&quot; &gt;&lt;/div&gt;\n",
              "        \n",
              "&lt;/body&gt;\n",
              "&lt;script&gt;\n",
              "    \n",
              "    \n",
              "            var map_1d4635f8e08fe1cc75d550d53584f429 = L.map(\n",
              "                &quot;map_1d4635f8e08fe1cc75d550d53584f429&quot;,\n",
              "                {\n",
              "                    center: [47.64670607106102, -117.59041695703286],\n",
              "                    crs: L.CRS.EPSG3857,\n",
              "                    ...{\n",
              "  &quot;zoom&quot;: 10,\n",
              "  &quot;zoomControl&quot;: true,\n",
              "  &quot;preferCanvas&quot;: false,\n",
              "}\n",
              "\n",
              "                }\n",
              "            );\n",
              "            L.control.scale().addTo(map_1d4635f8e08fe1cc75d550d53584f429);\n",
              "\n",
              "            \n",
              "\n",
              "        \n",
              "    \n",
              "            var tile_layer_43f2c62279db9c12e6943e457344f8a9 = L.tileLayer(\n",
              "                &quot;https://titiler.xyz/cog/tiles/WebMercatorQuad/{z}/{x}/{y}@1x?url=https%3A%2F%2Fhuggingface.co%2Fdatasets%2Fgiswqs%2Fgeospatial%2Fresolve%2Fmain%2Fnaip_test.tif\\u0026bidx=1\\u0026bidx=2\\u0026bidx=3&quot;,\n",
              "                {\n",
              "  &quot;minZoom&quot;: 0,\n",
              "  &quot;maxZoom&quot;: 30,\n",
              "  &quot;maxNativeZoom&quot;: 30,\n",
              "  &quot;noWrap&quot;: false,\n",
              "  &quot;attribution&quot;: &quot;TiTiler&quot;,\n",
              "  &quot;subdomains&quot;: &quot;abc&quot;,\n",
              "  &quot;detectRetina&quot;: false,\n",
              "  &quot;tms&quot;: false,\n",
              "  &quot;opacity&quot;: 1,\n",
              "}\n",
              "\n",
              "            );\n",
              "        \n",
              "    \n",
              "            tile_layer_43f2c62279db9c12e6943e457344f8a9.addTo(map_1d4635f8e08fe1cc75d550d53584f429);\n",
              "        \n",
              "    \n",
              "            map_1d4635f8e08fe1cc75d550d53584f429.fitBounds(\n",
              "                [[47.64278379747941, -117.6039208087929], [47.65062834464262, -117.5769131052728]],\n",
              "                {}\n",
              "            );\n",
              "        \n",
              "    \n",
              "        function geo_json_f8d1b711359930c80c08e9e447a65b75_styler(feature) {\n",
              "            switch(feature.id) {\n",
              "                default:\n",
              "                    return {&quot;fillOpacity&quot;: 0.5, &quot;weight&quot;: 2};\n",
              "            }\n",
              "        }\n",
              "        function geo_json_f8d1b711359930c80c08e9e447a65b75_highlighter(feature) {\n",
              "            switch(feature.id) {\n",
              "                default:\n",
              "                    return {&quot;fillOpacity&quot;: 0.75};\n",
              "            }\n",
              "        }\n",
              "        function geo_json_f8d1b711359930c80c08e9e447a65b75_pointToLayer(feature, latlng) {\n",
              "            var opts = {&quot;bubblingMouseEvents&quot;: true, &quot;color&quot;: &quot;#3388ff&quot;, &quot;dashArray&quot;: null, &quot;dashOffset&quot;: null, &quot;fill&quot;: true, &quot;fillColor&quot;: &quot;#3388ff&quot;, &quot;fillOpacity&quot;: 0.2, &quot;fillRule&quot;: &quot;evenodd&quot;, &quot;lineCap&quot;: &quot;round&quot;, &quot;lineJoin&quot;: &quot;round&quot;, &quot;opacity&quot;: 1.0, &quot;radius&quot;: 2, &quot;stroke&quot;: true, &quot;weight&quot;: 3};\n",
              "            \n",
              "            let style = geo_json_f8d1b711359930c80c08e9e447a65b75_styler(feature)\n",
              "            Object.assign(opts, style)\n",
              "            \n",
              "            return new L.CircleMarker(latlng, opts)\n",
              "        }\n",
              "\n",
              "        function geo_json_f8d1b711359930c80c08e9e447a65b75_onEachFeature(feature, layer) {\n",
              "            layer.on({\n",
              "                mouseout: function(e) {\n",
              "                    if(typeof e.target.setStyle === &quot;function&quot;){\n",
              "                            geo_json_f8d1b711359930c80c08e9e447a65b75.resetStyle(e.target);\n",
              "                    }\n",
              "                },\n",
              "                mouseover: function(e) {\n",
              "                    if(typeof e.target.setStyle === &quot;function&quot;){\n",
              "                        const highlightStyle = geo_json_f8d1b711359930c80c08e9e447a65b75_highlighter(e.target.feature)\n",
              "                        e.target.setStyle(highlightStyle);\n",
              "                    }\n",
              "                },\n",
              "            });\n",
              "        };\n",
              "        var geo_json_f8d1b711359930c80c08e9e447a65b75 = L.geoJson(null, {\n",
              "                onEachFeature: geo_json_f8d1b711359930c80c08e9e447a65b75_onEachFeature,\n",
              "            \n",
              "                style: geo_json_f8d1b711359930c80c08e9e447a65b75_styler,\n",
              "                pointToLayer: geo_json_f8d1b711359930c80c08e9e447a65b75_pointToLayer,\n",
              "            ...{\n",
              "}\n",
              "        });\n",
              "\n",
              "        function geo_json_f8d1b711359930c80c08e9e447a65b75_add (data) {\n",
              "            geo_json_f8d1b711359930c80c08e9e447a65b75\n",
              "                .addData(data);\n",
              "        }\n",
              "            geo_json_f8d1b711359930c80c08e9e447a65b75_add({&quot;bbox&quot;: [-117.6039208087929, 47.64278379747941, -117.5769131052728, 47.65062834464262], &quot;features&quot;: [{&quot;bbox&quot;: [-117.6003599345827, 47.648055396959826, -117.60027193452397, 47.64810950584463], &quot;geometry&quot;: {&quot;coordinates&quot;: [[[-117.60032828885328, 47.648109338639976], [-117.60032822699205, 47.6481039402918], [-117.60033621575421, 47.64810389848924], [-117.60033615389217, 47.64809850014106], [-117.6003441426535, 47.64809845833796], [-117.60034408079066, 47.64809305998978], [-117.60035206955115, 47.648093018186145], [-117.60035194582389, 47.64808222148978], [-117.6003599345827, 47.648082179685595], [-117.60035981085385, 47.64807138298924], [-117.60035182209667, 47.6480714247934], [-117.6003517602331, 47.648066026445214], [-117.60033578272035, 47.64806611005187], [-117.60033572085845, 47.64806071170364], [-117.60031974334728, 47.648060795308055], [-117.60031968148702, 47.648055396959826], [-117.60030370397742, 47.64805548056201], [-117.60030376583603, 47.64806087891026], [-117.60029577708038, 47.64806092071052], [-117.60029583893818, 47.64806631905877], [-117.60027986142516, 47.64806640265765], [-117.60027992328133, 47.64807180100592], [-117.60027193452397, 47.64807184280453], [-117.60027212009011, 47.64808803784932], [-117.60028010884993, 47.648087996050684], [-117.60028023256241, 47.64809879274718], [-117.60028822132386, 47.64809875094797], [-117.60028828318097, 47.6481041492962], [-117.60029627194321, 47.64810410749643], [-117.60029633380115, 47.64810950584463], [-117.60032828885328, 47.648109338639976]]], &quot;type&quot;: &quot;Polygon&quot;}, &quot;id&quot;: &quot;0&quot;, &quot;properties&quot;: {&quot;value&quot;: 1}, &quot;type&quot;: &quot;Feature&quot;}, {&quot;bbox&quot;: [-117.60084636072081, 47.64804877061914, -117.60054731735164, 47.648100091429164], &quot;geometry&quot;: {&quot;coordinates&quot;: [[[-117.60054731735164, 47.648050333376155], [-117.60054788775125, 47.648100091429164], [-117.60084636072081, 47.648098528669436], [-117.60084579003777, 47.64804877061914], [-117.60054731735164, 47.648050333376155]]], &quot;type&quot;: &quot;Polygon&quot;}, &quot;id&quot;: &quot;1&quot;, &quot;properties&quot;: {&quot;value&quot;: 1}, &quot;type&quot;: &quot;Feature&quot;}, {&quot;bbox&quot;: [-117.57792242711999, 47.647738512266365, -117.57790639009102, 47.64774399111937], &quot;geometry&quot;: {&quot;coordinates&quot;: [[[-117.57792242711999, 47.64774391063662], [-117.57792236756828, 47.647738512266365], [-117.57790639009102, 47.64773859274909], [-117.57790644964108, 47.64774399111937], [-117.57792242711999, 47.64774391063662]]], &quot;type&quot;: &quot;Polygon&quot;}, &quot;id&quot;: &quot;2&quot;, &quot;properties&quot;: {&quot;value&quot;: 1}, &quot;type&quot;: &quot;Feature&quot;}, {&quot;bbox&quot;: [-117.59374959435138, 47.64734473025275, -117.59104428627903, 47.65062834464262], &quot;geometry&quot;: {&quot;coordinates&quot;: [[[-117.59374959435138, 47.65006819947105], [-117.59371872750998, 47.64734473025275], [-117.59134431938513, 47.64735699332091], [-117.59135787762037, 47.648558127815846], [-117.59104428627903, 47.648559743772715], [-117.59106558500538, 47.65044745910523], [-117.59195177194827, 47.650080189332535], [-117.59288600694646, 47.65062834464262], [-117.59374959435138, 47.65006819947105]]], &quot;type&quot;: &quot;Polygon&quot;}, &quot;id&quot;: &quot;3&quot;, &quot;properties&quot;: {&quot;value&quot;: 1}, &quot;type&quot;: &quot;Feature&quot;}, {&quot;bbox&quot;: [-117.57987357897852, 47.64501313521196, -117.5798575425908, 47.645018614333964], &quot;geometry&quot;: {&quot;coordinates&quot;: [[[-117.57987357897852, 47.645018533582956], [-117.57987351923147, 47.64501313521196], [-117.5798575425908, 47.64501321596295], [-117.57985760233623, 47.645018614333964], [-117.57987357897852, 47.645018533582956]]], &quot;type&quot;: &quot;Polygon&quot;}, &quot;id&quot;: &quot;4&quot;, &quot;properties&quot;: {&quot;value&quot;: 1}, &quot;type&quot;: &quot;Feature&quot;}, {&quot;bbox&quot;: [-117.57829702337666, 47.64400078601037, -117.57826483236026, 47.644049411636104], &quot;geometry&quot;: {&quot;coordinates&quot;: [[[-117.57828909478367, 47.64404937137127], [-117.57828903520189, 47.64404397299785], [-117.57829702337666, 47.64404393273246], [-117.57829672546383, 47.64401694086536], [-117.57828873729315, 47.64401698113072], [-117.57828855854811, 47.64400078601037], [-117.57828057037989, 47.64400082627515], [-117.57828068954159, 47.64401162302207], [-117.5782727013717, 47.6440116632863], [-117.57827282053181, 47.644022460033206], [-117.57826483236026, 47.64402250029689], [-117.57826507067739, 47.644044093790676], [-117.57828104702708, 47.644044013262686], [-117.57828110660806, 47.644049411636104], [-117.57828909478367, 47.64404937137127]]], &quot;type&quot;: &quot;Polygon&quot;}, &quot;id&quot;: &quot;5&quot;, &quot;properties&quot;: {&quot;value&quot;: 1}, &quot;type&quot;: &quot;Feature&quot;}, {&quot;bbox&quot;: [-117.6039208087929, 47.64278379747941, -117.5769131052728, 47.65003680636059], &quot;geometry&quot;: {&quot;coordinates&quot;: [[[-117.59809404862865, 47.64996600425112], [-117.60007780360692, 47.64995564553327], [-117.60007681001873, 47.64986890885539], [-117.60117972546205, 47.64986313485162], [-117.60117951740548, 47.64984500701956], [-117.60089914440917, 47.64842487137878], [-117.60089626734032, 47.6481740423087], [-117.60008540599065, 47.648178286398036], [-117.60008416705924, 47.648070126686655], [-117.60002425205653, 47.64807044005687], [-117.6000251601686, 47.64814972695193], [-117.59960996234867, 47.64815189768176], [-117.59960602730771, 47.64780809049766], [-117.59962578087223, 47.64780798725704], [-117.59962128163508, 47.647414890961066], [-117.5999777126244, 47.64741302756456], [-117.59982328230532, 47.64726438840779], [-117.59952531210487, 47.647265945882786], [-117.5995252755171, 47.64726274466646], [-117.5993383623609, 47.64653000390645], [-117.59917506917809, 47.64653085694875], [-117.59895208498398, 47.6465320212915], [-117.5989532267311, 47.646631890574845], [-117.59874961505238, 47.64663295338442], [-117.59875131168394, 47.646781408194904], [-117.59857035797695, 47.646782352433604], [-117.59856711213877, 47.64649825555773], [-117.5984899638819, 47.64649865803823], [-117.59848711348076, 47.64624913661375], [-117.59872514557792, 47.6462478946443], [-117.5987230695492, 47.64606623117317], [-117.59891878568948, 47.646065209626705], [-117.5989177674481, 47.645976136591194], [-117.59880992556783, 47.64597669951574], [-117.59880915431953, 47.645909220338886], [-117.5988371127113, 47.64590907440858], [-117.5988361871766, 47.645828099636866], [-117.59893204772384, 47.64582759923657], [-117.598930512037, 47.64569326314338], [-117.59921809463297, 47.64569176146004], [-117.59921660571297, 47.64556157792637], [-117.59926853084811, 47.64556130671021], [-117.59926772815032, 47.64549112862935], [-117.5993356290498, 47.64549077393326], [-117.59933493464668, 47.64543007047645], [-117.59988134646538, 47.645427214707354], [-117.5998839576036, 47.645655266716155], [-117.60008445768064, 47.645654218165205], [-117.60008587980282, 47.64577838101584], [-117.60000599530065, 47.64577879882891], [-117.60000759902, 47.64591883423007], [-117.59951231647531, 47.64592142342809], [-117.59951404554414, 47.646072527770784], [-117.60154311237872, 47.64606190678971], [-117.60154167275849, 47.64593652196779], [-117.6016295455338, 47.6459360611952], [-117.60162908312728, 47.64589579324891], [-117.6039208087929, 47.64588375251935], [-117.60391599371148, 47.64546602464201], [-117.6035814338383, 47.64546778526236], [-117.60358015082173, 47.645356415067674], [-117.60337106731212, 47.64535751487168], [-117.60336983267153, 47.645250306106185], [-117.60390918302448, 47.645247468287884], [-117.60388078744946, 47.64278379747941], [-117.60180916260315, 47.6427946831766], [-117.60180916260295, 47.64279468316057], [-117.59989438694018, 47.642804711398234], [-117.5998943869404, 47.64280471141788], [-117.59579379619687, 47.64282607989426], [-117.59579388827693, 47.64283417796553], [-117.5956864858982, 47.64283473567735], [-117.59568639383465, 47.642826637598716], [-117.59166958037851, 47.642847423628574], [-117.5916695952258, 47.642848738488595], [-117.58963789238918, 47.642859198493845], [-117.58963788721675, 47.64285873885008], [-117.58553767809968, 47.642879738755376], [-117.58553775903182, 47.64288698107725], [-117.585473856094, 47.64288730720704], [-117.58547403705316, 47.64290350233775], [-117.58356429075775, 47.64291323233654], [-117.5835642607027, 47.64291053372543], [-117.58339713019483, 47.64291138372856], [-117.58339746076992, 47.64294107418564], [-117.5816114606178, 47.64295014234083], [-117.58161172692095, 47.642974133649986], [-117.58134880364693, 47.64297546625703], [-117.58135006477694, 47.64308913269246], [-117.58143053118441, 47.6430887249177], [-117.58143688105604, 47.643660952964254], [-117.58148528786927, 47.64366070762658], [-117.58149873816866, 47.644872641631686], [-117.58138583844536, 47.644873213814535], [-117.58138544908233, 47.64483812471731], [-117.5812616304519, 47.644838752109756], [-117.5812609082213, 47.644773651201696], [-117.58094936502997, 47.64477522920694], [-117.58095284034015, 47.64508865492545], [-117.58076910827867, 47.64508958515931], [-117.58077012555309, 47.645181357494266], [-117.58067027263529, 47.64518186292605], [-117.58067075126955, 47.645225049677805], [-117.58052080585914, 47.64522580850317], [-117.5805230054374, 47.64542433574919], [-117.58032881214834, 47.64533475250079], [-117.58032839359872, 47.64529696503397], [-117.58023216801612, 47.645297451735864], [-117.58023330392722, 47.645400020806186], [-117.58012970299333, 47.645400544722655], [-117.58013179510137, 47.6455894875033], [-117.57999174880997, 47.64559019557964], [-117.57999190319357, 47.64560414158212], [-117.57984336938095, 47.64560489238487], [-117.57983586650077, 47.64492694541898], [-117.5797806977697, 47.64492722423171], [-117.57977942085962, 47.64481183143645], [-117.57993734181831, 47.64481103320953], [-117.57956681621468, 47.64473018991084], [-117.57868339914238, 47.64467019348303], [-117.57868194649754, 47.64453866956771], [-117.57847425261286, 47.64453971698896], [-117.57847338535777, 47.64446116620673], [-117.57799052199047, 47.644463599879145], [-117.5779885598192, 47.644285728433026], [-117.5780472605929, 47.64428543268548], [-117.5780454143193, 47.64411808282691], [-117.57810611112558, 47.64411777699212], [-117.57810402642906, 47.6439288340248], [-117.57835964748993, 47.64392754567086], [-117.57835772916866, 47.6437537569767], [-117.5786093557889, 47.643752488202296], [-117.57860899802323, 47.643720090639775], [-117.57947539421056, 47.64371571779922], [-117.57947124673238, 47.64334069918446], [-117.5769131052728, 47.64335359159597], [-117.57692891548264, 47.64478946208166], [-117.5770708007164, 47.644788748492665], [-117.57708324297289, 47.645918387722766], [-117.57706510787308, 47.64591847894176], [-117.57706816563262, 47.64619609271768], [-117.57724510092156, 47.64619520261247], [-117.57725857329497, 47.647417933779344], [-117.57763120170807, 47.64741605827557], [-117.57763450419175, 47.64771558072058], [-117.57800198659712, 47.64771372992341], [-117.57800237469534, 47.64774890622866], [-117.57797441371874, 47.647749047093434], [-117.57797577902333, 47.64787280052205], [-117.57836722806269, 47.64787082781443], [-117.57836851393782, 47.647987301985715], [-117.57858421112407, 47.64798621440686], [-117.57858564202208, 47.648115775524424], [-117.57886125479791, 47.64811438524881], [-117.57886294720136, 47.64826755032531], [-117.57913856186096, 47.648266159374664], [-117.57914015094444, 47.648409904240324], [-117.57948399576786, 47.648408168018705], [-117.57949973514312, 47.649831010727944], [-117.58100057975189, 47.64982342007624], [-117.58099903615476, 47.649684243882035], [-117.58238590503991, 47.64967721223274], [-117.58238233732591, 47.649356296477265], [-117.58250217233648, 47.64935568811052], [-117.58250452899647, 47.64956762661463], [-117.58490123159848, 47.649555432939586], [-117.58490426941768, 47.649827506281625], [-117.58616653862698, 47.64982106409216], [-117.58616469626404, 47.64965641407056], [-117.58924446196887, 47.64964063775927], [-117.58924891132504, 47.6500361913077], [-117.59068988332737, 47.65002878139143], [-117.5906671321965, 47.64801102138531], [-117.59061768603524, 47.64801127594431], [-117.59061424745069, 47.64770626883923], [-117.5904285378104, 47.6477072247157], [-117.59041392517328, 47.64641060001088], [-117.58925146235192, 47.64641657643553], [-117.58925162206052, 47.64643077632592], [-117.58896312160847, 47.64643225773304], [-117.5889628983161, 47.646412394801146], [-117.5886888861289, 47.64641380114092], [-117.58868793001756, 47.64632871060749], [-117.5888077573426, 47.64632809568725], [-117.58880770796885, 47.64632370248329], [-117.58798968683844, 47.64632789784889], [-117.58798160332239, 47.64560762335574], [-117.58902328759737, 47.64560227993931], [-117.58902209974575, 47.64549662228528], [-117.58931501365552, 47.64549511805479], [-117.58931484743798, 47.64548034054841], [-117.58951721318803, 47.64547930088246], [-117.58951876175713, 47.64561692809376], [-117.58948680785663, 47.6456170922829], [-117.58949048585622, 47.64594398366221], [-117.58967843548596, 47.645943017600764], [-117.58982759418598, 47.64572900327836], [-117.59186117749624, 47.64571853031285], [-117.59187939639602, 47.647331222004794], [-117.59382047598046, 47.647321191553246], [-117.59383245483156, 47.64837798720795], [-117.59388424422586, 47.64837771913402], [-117.59390305311908, 47.65003680636059], [-117.59809460839587, 47.650015031809765], [-117.59809404862865, 47.64996600425112]]], &quot;type&quot;: &quot;Polygon&quot;}, &quot;id&quot;: &quot;6&quot;, &quot;properties&quot;: {&quot;value&quot;: 1}, &quot;type&quot;: &quot;Feature&quot;}], &quot;type&quot;: &quot;FeatureCollection&quot;});\n",
              "\n",
              "        \n",
              "    \n",
              "    geo_json_f8d1b711359930c80c08e9e447a65b75.bindTooltip(\n",
              "    function(layer){\n",
              "    let div = L.DomUtil.create(&#x27;div&#x27;);\n",
              "    \n",
              "    let handleObject = feature=&gt;typeof(feature)==&#x27;object&#x27; ? JSON.stringify(feature) : feature;\n",
              "    let fields = [&quot;value&quot;];\n",
              "    let aliases = [&quot;value&quot;];\n",
              "    let table = &#x27;&lt;table&gt;&#x27; +\n",
              "        String(\n",
              "        fields.map(\n",
              "        (v,i)=&gt;\n",
              "        `&lt;tr&gt;\n",
              "            &lt;th&gt;${aliases[i]}&lt;/th&gt;\n",
              "            \n",
              "            &lt;td&gt;${handleObject(layer.feature.properties[v])}&lt;/td&gt;\n",
              "        &lt;/tr&gt;`).join(&#x27;&#x27;))\n",
              "    +&#x27;&lt;/table&gt;&#x27;;\n",
              "    div.innerHTML=table;\n",
              "    \n",
              "    return div\n",
              "    }\n",
              "    ,{\n",
              "  &quot;sticky&quot;: true,\n",
              "  &quot;className&quot;: &quot;foliumtooltip&quot;,\n",
              "});\n",
              "                     \n",
              "    \n",
              "            geo_json_f8d1b711359930c80c08e9e447a65b75.addTo(map_1d4635f8e08fe1cc75d550d53584f429);\n",
              "        \n",
              "    \n",
              "            var layer_control_0fa1cf2bce6f1a42ab6499e25c8d3080_layers = {\n",
              "                base_layers : {\n",
              "                    &quot;Remote Raster&quot; : tile_layer_43f2c62279db9c12e6943e457344f8a9,\n",
              "                },\n",
              "                overlays :  {\n",
              "                    &quot;Vector Layer&quot; : geo_json_f8d1b711359930c80c08e9e447a65b75,\n",
              "                },\n",
              "            };\n",
              "            let layer_control_0fa1cf2bce6f1a42ab6499e25c8d3080 = L.control.layers(\n",
              "                layer_control_0fa1cf2bce6f1a42ab6499e25c8d3080_layers.base_layers,\n",
              "                layer_control_0fa1cf2bce6f1a42ab6499e25c8d3080_layers.overlays,\n",
              "                {\n",
              "  &quot;position&quot;: &quot;topright&quot;,\n",
              "  &quot;collapsed&quot;: true,\n",
              "  &quot;autoZIndex&quot;: true,\n",
              "}\n",
              "            ).addTo(map_1d4635f8e08fe1cc75d550d53584f429);\n",
              "\n",
              "        \n",
              "    \n",
              "            L.control.fullscreen(\n",
              "                {\n",
              "  &quot;position&quot;: &quot;topleft&quot;,\n",
              "  &quot;title&quot;: &quot;Full Screen&quot;,\n",
              "  &quot;titleCancel&quot;: &quot;Exit Full Screen&quot;,\n",
              "  &quot;forceSeparateButton&quot;: false,\n",
              "}\n",
              "            ).addTo(map_1d4635f8e08fe1cc75d550d53584f429);\n",
              "        \n",
              "&lt;/script&gt;\n",
              "&lt;/html&gt;\" style=\"position:absolute;width:100%;height:100%;left:0;top:0;border:none !important;\" allowfullscreen webkitallowfullscreen mozallowfullscreen></iframe></div></div>"
            ]
          },
          "metadata": {},
          "execution_count": 13
        }
      ]
    },
    {
      "cell_type": "markdown",
      "source": [
        "# Create a split map for comparison"
      ],
      "metadata": {
        "id": "mt0QyDZhkFid"
      }
    },
    {
      "cell_type": "code",
      "execution_count": 14,
      "metadata": {
        "id": "tNMe0Z_NnXi9",
        "colab": {
          "base_uri": "https://localhost:8080/",
          "height": 621,
          "referenced_widgets": [
            "d6daef490b6f4bc3a57ada2ac1fc7b14",
            "70d805506ff24636ab7b00ced45e1bce",
            "dde3e02cc41045849ffc092590329382",
            "3fb4d6e0c7834792bef67d87b76a60ec",
            "15a7192a17f843bfa5596b5ec624dec4",
            "c6839cf3c8154afdbf551eb9c1c5bc50",
            "dfbeb08fdd2142aea00bd89737b5094f",
            "2340531a0d46444a9f6bde53c1c2b625",
            "68b50155e32842ba9d0110f2a108fe46",
            "5b12909a924e45528a3410e920a9fe88",
            "288587b2d87f4b1b8d56dc7252724cd7",
            "2d1086a11b934fe18da4153ab50affe2",
            "7cc9a72cebec4ae5b58a7d4914a1590d",
            "448ca99c8d814702b7f83b86901c13f4",
            "6c1f2b40a5594ad6bd6dabc2ca85a0f0",
            "cdaf9f3dcf6945528ed346500d860d25",
            "70b3673323614a89aee0629881c5b9bb",
            "809df18fdced4b6a9a0e01ac422a752e",
            "2d9424c6326d452494bed761cb71c5d3",
            "be74df26b8c44b33bbd205768b3521d2",
            "5f5bc229e25940468fa91a5d1a0f680c",
            "51a0aba076c040c59cfd2d72e77b3ba9",
            "fce627b4e9db436cba7769bef57fb22f",
            "3e3f12ab0f474d53bbe2af8f9d3eaf82",
            "b0b8af60ab774c658be735c85a20595c",
            "e769fcd1ea0142ddbc0bbae810fd572d",
            "ce5b3896f9e84ea3a6c9ffee4f5d601b",
            "c3a46759627349d1861e0afab94932f7",
            "d8b89ec91f8e4dd592468d1bf3d86f81",
            "0cae30be81274622a66f88ab8c8432b6",
            "4f37a760aeff4a00a13a4bfebac73006",
            "a0fbf93032c841e2aade6ff4de550e44",
            "b316a6d9ee4947e7ad0787dc567d887e",
            "d00bc39f55834e42988d679dd4cbe7f5",
            "8d9dd9f61327447a84cac86672ee08d2",
            "197f898476d24e408089d5103d623b94",
            "4db3df6baa4547049233d93379d1ed18",
            "cc130b3e7e254bdc92bf66f55ef2f029",
            "b4099f244b3742a889a478cd9bbe3873",
            "bf77c680d29842d1ba21d49763019822"
          ]
        },
        "outputId": "4bfa6e4f-b8df-4a77-d45f-a59e63ced51e"
      },
      "outputs": [
        {
          "output_type": "display_data",
          "data": {
            "text/plain": [
              "Map(center=[20, 0], controls=(ZoomControl(options=['position', 'zoom_in_text', 'zoom_in_title', 'zoom_out_text…"
            ],
            "application/vnd.jupyter.widget-view+json": {
              "version_major": 2,
              "version_minor": 0,
              "model_id": "0cae30be81274622a66f88ab8c8432b6"
            }
          },
          "metadata": {
            "application/vnd.jupyter.widget-view+json": {
              "colab": {
                "custom_widget_manager": {
                  "url": "https://ssl.gstatic.com/colaboratory-static/widgets/colab-cdn-widget-manager/2b70e893a8ba7c0f/manager.min.js"
                }
              }
            }
          }
        }
      ],
      "source": [
        "geoai.create_split_map(\n",
        "    left_layer=output_path,\n",
        "    right_layer=test_raster_url,\n",
        "    left_args={\"style\": {\"color\": \"red\", \"fillOpacity\": 0.2}},\n",
        "    basemap=test_raster_url,\n",
        ")"
      ]
    }
  ],
  "metadata": {
    "colab": {
      "provenance": [],
      "gpuType": "T4",
      "mount_file_id": "https://github.com/ombuijabali/Coconut_Pedcition_Model/blob/main/Model_with_multiple_images.ipynb",
      "authorship_tag": "ABX9TyMVt4uX4jDtyXSWszbvpG5k",
      "include_colab_link": true
    },
    "kernelspec": {
      "display_name": "Python 3",
      "name": "python3"
    },
    "language_info": {
      "name": "python"
    },
    "accelerator": "GPU",
    "widgets": {
      "application/vnd.jupyter.widget-state+json": {
        "d6daef490b6f4bc3a57ada2ac1fc7b14": {
          "model_module": "@jupyter-widgets/controls",
          "model_name": "CheckboxModel",
          "model_module_version": "1.5.0",
          "state": {
            "_dom_classes": [],
            "_model_module": "@jupyter-widgets/controls",
            "_model_module_version": "1.5.0",
            "_model_name": "CheckboxModel",
            "_view_count": null,
            "_view_module": "@jupyter-widgets/controls",
            "_view_module_version": "1.5.0",
            "_view_name": "CheckboxView",
            "description": "OpenStreetMap.Mapnik",
            "description_tooltip": null,
            "disabled": false,
            "indent": false,
            "layout": "IPY_MODEL_c6839cf3c8154afdbf551eb9c1c5bc50",
            "style": "IPY_MODEL_dfbeb08fdd2142aea00bd89737b5094f",
            "value": true
          }
        },
        "70d805506ff24636ab7b00ced45e1bce": {
          "model_module": "jupyter-leaflet",
          "model_name": "LeafletTileLayerModel",
          "model_module_version": "^0.19",
          "state": {
            "_model_module": "jupyter-leaflet",
            "_model_module_version": "^0.19",
            "_model_name": "LeafletTileLayerModel",
            "_view_count": null,
            "_view_module": "jupyter-leaflet",
            "_view_module_version": "^0.19",
            "_view_name": "LeafletTileLayerView",
            "attribution": "&copy; <a href=\"https://www.openstreetmap.org/copyright\">OpenStreetMap</a> contributors",
            "base": true,
            "bottom": true,
            "bounds": null,
            "detect_retina": false,
            "loading": false,
            "max_native_zoom": null,
            "max_zoom": 19,
            "min_native_zoom": null,
            "min_zoom": 1,
            "name": "OpenStreetMap",
            "no_wrap": false,
            "opacity": 1,
            "options": [
              "attribution",
              "bounds",
              "detect_retina",
              "max_native_zoom",
              "max_zoom",
              "min_native_zoom",
              "min_zoom",
              "no_wrap",
              "tile_size",
              "tms",
              "zoom_offset"
            ],
            "pane": "",
            "popup": null,
            "popup_max_height": null,
            "popup_max_width": 300,
            "popup_min_width": 50,
            "show_loading": false,
            "subitems": [],
            "tile_size": 256,
            "tms": false,
            "url": "https://tile.openstreetmap.org/{z}/{x}/{y}.png",
            "visible": true,
            "zoom_offset": 0
          }
        },
        "dde3e02cc41045849ffc092590329382": {
          "model_module": "@jupyter-widgets/controls",
          "model_name": "CheckboxModel",
          "model_module_version": "1.5.0",
          "state": {
            "_dom_classes": [],
            "_model_module": "@jupyter-widgets/controls",
            "_model_module_version": "1.5.0",
            "_model_name": "CheckboxModel",
            "_view_count": null,
            "_view_module": "@jupyter-widgets/controls",
            "_view_module_version": "1.5.0",
            "_view_name": "CheckboxView",
            "description": "OpenStreetMap.Mapnik",
            "description_tooltip": null,
            "disabled": false,
            "indent": false,
            "layout": "IPY_MODEL_2340531a0d46444a9f6bde53c1c2b625",
            "style": "IPY_MODEL_68b50155e32842ba9d0110f2a108fe46",
            "value": true
          }
        },
        "3fb4d6e0c7834792bef67d87b76a60ec": {
          "model_module": "@jupyter-widgets/controls",
          "model_name": "CheckboxModel",
          "model_module_version": "1.5.0",
          "state": {
            "_dom_classes": [],
            "_model_module": "@jupyter-widgets/controls",
            "_model_module_version": "1.5.0",
            "_model_name": "CheckboxModel",
            "_view_count": null,
            "_view_module": "@jupyter-widgets/controls",
            "_view_module_version": "1.5.0",
            "_view_name": "CheckboxView",
            "description": "OpenStreetMap.Mapnik",
            "description_tooltip": null,
            "disabled": false,
            "indent": false,
            "layout": "IPY_MODEL_5b12909a924e45528a3410e920a9fe88",
            "style": "IPY_MODEL_288587b2d87f4b1b8d56dc7252724cd7",
            "value": true
          }
        },
        "15a7192a17f843bfa5596b5ec624dec4": {
          "model_module": "@jupyter-widgets/controls",
          "model_name": "CheckboxModel",
          "model_module_version": "1.5.0",
          "state": {
            "_dom_classes": [],
            "_model_module": "@jupyter-widgets/controls",
            "_model_module_version": "1.5.0",
            "_model_name": "CheckboxModel",
            "_view_count": null,
            "_view_module": "@jupyter-widgets/controls",
            "_view_module_version": "1.5.0",
            "_view_name": "CheckboxView",
            "description": "OpenStreetMap",
            "description_tooltip": null,
            "disabled": false,
            "indent": false,
            "layout": "IPY_MODEL_2d1086a11b934fe18da4153ab50affe2",
            "style": "IPY_MODEL_7cc9a72cebec4ae5b58a7d4914a1590d",
            "value": true
          }
        },
        "c6839cf3c8154afdbf551eb9c1c5bc50": {
          "model_module": "@jupyter-widgets/base",
          "model_name": "LayoutModel",
          "model_module_version": "1.2.0",
          "state": {
            "_model_module": "@jupyter-widgets/base",
            "_model_module_version": "1.2.0",
            "_model_name": "LayoutModel",
            "_view_count": null,
            "_view_module": "@jupyter-widgets/base",
            "_view_module_version": "1.2.0",
            "_view_name": "LayoutView",
            "align_content": null,
            "align_items": null,
            "align_self": null,
            "border": null,
            "bottom": null,
            "display": null,
            "flex": null,
            "flex_flow": null,
            "grid_area": null,
            "grid_auto_columns": null,
            "grid_auto_flow": null,
            "grid_auto_rows": null,
            "grid_column": null,
            "grid_gap": null,
            "grid_row": null,
            "grid_template_areas": null,
            "grid_template_columns": null,
            "grid_template_rows": null,
            "height": "18px",
            "justify_content": null,
            "justify_items": null,
            "left": null,
            "margin": null,
            "max_height": null,
            "max_width": null,
            "min_height": null,
            "min_width": null,
            "object_fit": null,
            "object_position": null,
            "order": null,
            "overflow": null,
            "overflow_x": null,
            "overflow_y": null,
            "padding": null,
            "right": null,
            "top": null,
            "visibility": null,
            "width": "25ex"
          }
        },
        "dfbeb08fdd2142aea00bd89737b5094f": {
          "model_module": "@jupyter-widgets/controls",
          "model_name": "DescriptionStyleModel",
          "model_module_version": "1.5.0",
          "state": {
            "_model_module": "@jupyter-widgets/controls",
            "_model_module_version": "1.5.0",
            "_model_name": "DescriptionStyleModel",
            "_view_count": null,
            "_view_module": "@jupyter-widgets/base",
            "_view_module_version": "1.2.0",
            "_view_name": "StyleView",
            "description_width": ""
          }
        },
        "2340531a0d46444a9f6bde53c1c2b625": {
          "model_module": "@jupyter-widgets/base",
          "model_name": "LayoutModel",
          "model_module_version": "1.2.0",
          "state": {
            "_model_module": "@jupyter-widgets/base",
            "_model_module_version": "1.2.0",
            "_model_name": "LayoutModel",
            "_view_count": null,
            "_view_module": "@jupyter-widgets/base",
            "_view_module_version": "1.2.0",
            "_view_name": "LayoutView",
            "align_content": null,
            "align_items": null,
            "align_self": null,
            "border": null,
            "bottom": null,
            "display": null,
            "flex": null,
            "flex_flow": null,
            "grid_area": null,
            "grid_auto_columns": null,
            "grid_auto_flow": null,
            "grid_auto_rows": null,
            "grid_column": null,
            "grid_gap": null,
            "grid_row": null,
            "grid_template_areas": null,
            "grid_template_columns": null,
            "grid_template_rows": null,
            "height": "18px",
            "justify_content": null,
            "justify_items": null,
            "left": null,
            "margin": null,
            "max_height": null,
            "max_width": null,
            "min_height": null,
            "min_width": null,
            "object_fit": null,
            "object_position": null,
            "order": null,
            "overflow": null,
            "overflow_x": null,
            "overflow_y": null,
            "padding": null,
            "right": null,
            "top": null,
            "visibility": null,
            "width": "25ex"
          }
        },
        "68b50155e32842ba9d0110f2a108fe46": {
          "model_module": "@jupyter-widgets/controls",
          "model_name": "DescriptionStyleModel",
          "model_module_version": "1.5.0",
          "state": {
            "_model_module": "@jupyter-widgets/controls",
            "_model_module_version": "1.5.0",
            "_model_name": "DescriptionStyleModel",
            "_view_count": null,
            "_view_module": "@jupyter-widgets/base",
            "_view_module_version": "1.2.0",
            "_view_name": "StyleView",
            "description_width": ""
          }
        },
        "5b12909a924e45528a3410e920a9fe88": {
          "model_module": "@jupyter-widgets/base",
          "model_name": "LayoutModel",
          "model_module_version": "1.2.0",
          "state": {
            "_model_module": "@jupyter-widgets/base",
            "_model_module_version": "1.2.0",
            "_model_name": "LayoutModel",
            "_view_count": null,
            "_view_module": "@jupyter-widgets/base",
            "_view_module_version": "1.2.0",
            "_view_name": "LayoutView",
            "align_content": null,
            "align_items": null,
            "align_self": null,
            "border": null,
            "bottom": null,
            "display": null,
            "flex": null,
            "flex_flow": null,
            "grid_area": null,
            "grid_auto_columns": null,
            "grid_auto_flow": null,
            "grid_auto_rows": null,
            "grid_column": null,
            "grid_gap": null,
            "grid_row": null,
            "grid_template_areas": null,
            "grid_template_columns": null,
            "grid_template_rows": null,
            "height": "18px",
            "justify_content": null,
            "justify_items": null,
            "left": null,
            "margin": null,
            "max_height": null,
            "max_width": null,
            "min_height": null,
            "min_width": null,
            "object_fit": null,
            "object_position": null,
            "order": null,
            "overflow": null,
            "overflow_x": null,
            "overflow_y": null,
            "padding": null,
            "right": null,
            "top": null,
            "visibility": null,
            "width": "25ex"
          }
        },
        "288587b2d87f4b1b8d56dc7252724cd7": {
          "model_module": "@jupyter-widgets/controls",
          "model_name": "DescriptionStyleModel",
          "model_module_version": "1.5.0",
          "state": {
            "_model_module": "@jupyter-widgets/controls",
            "_model_module_version": "1.5.0",
            "_model_name": "DescriptionStyleModel",
            "_view_count": null,
            "_view_module": "@jupyter-widgets/base",
            "_view_module_version": "1.2.0",
            "_view_name": "StyleView",
            "description_width": ""
          }
        },
        "2d1086a11b934fe18da4153ab50affe2": {
          "model_module": "@jupyter-widgets/base",
          "model_name": "LayoutModel",
          "model_module_version": "1.2.0",
          "state": {
            "_model_module": "@jupyter-widgets/base",
            "_model_module_version": "1.2.0",
            "_model_name": "LayoutModel",
            "_view_count": null,
            "_view_module": "@jupyter-widgets/base",
            "_view_module_version": "1.2.0",
            "_view_name": "LayoutView",
            "align_content": null,
            "align_items": null,
            "align_self": null,
            "border": null,
            "bottom": null,
            "display": null,
            "flex": null,
            "flex_flow": null,
            "grid_area": null,
            "grid_auto_columns": null,
            "grid_auto_flow": null,
            "grid_auto_rows": null,
            "grid_column": null,
            "grid_gap": null,
            "grid_row": null,
            "grid_template_areas": null,
            "grid_template_columns": null,
            "grid_template_rows": null,
            "height": "18px",
            "justify_content": null,
            "justify_items": null,
            "left": null,
            "margin": null,
            "max_height": null,
            "max_width": null,
            "min_height": null,
            "min_width": null,
            "object_fit": null,
            "object_position": null,
            "order": null,
            "overflow": null,
            "overflow_x": null,
            "overflow_y": null,
            "padding": null,
            "right": null,
            "top": null,
            "visibility": null,
            "width": "25ex"
          }
        },
        "7cc9a72cebec4ae5b58a7d4914a1590d": {
          "model_module": "@jupyter-widgets/controls",
          "model_name": "DescriptionStyleModel",
          "model_module_version": "1.5.0",
          "state": {
            "_model_module": "@jupyter-widgets/controls",
            "_model_module_version": "1.5.0",
            "_model_name": "DescriptionStyleModel",
            "_view_count": null,
            "_view_module": "@jupyter-widgets/base",
            "_view_module_version": "1.2.0",
            "_view_name": "StyleView",
            "description_width": ""
          }
        },
        "448ca99c8d814702b7f83b86901c13f4": {
          "model_module": "@jupyter-widgets/controls",
          "model_name": "CheckboxModel",
          "model_module_version": "1.5.0",
          "state": {
            "_dom_classes": [],
            "_model_module": "@jupyter-widgets/controls",
            "_model_module_version": "1.5.0",
            "_model_name": "CheckboxModel",
            "_view_count": null,
            "_view_module": "@jupyter-widgets/controls",
            "_view_module_version": "1.5.0",
            "_view_name": "CheckboxView",
            "description": "Basemap",
            "description_tooltip": null,
            "disabled": false,
            "indent": false,
            "layout": "IPY_MODEL_cdaf9f3dcf6945528ed346500d860d25",
            "style": "IPY_MODEL_70b3673323614a89aee0629881c5b9bb",
            "value": true
          }
        },
        "6c1f2b40a5594ad6bd6dabc2ca85a0f0": {
          "model_module": "jupyter-leaflet",
          "model_name": "LeafletTileLayerModel",
          "model_module_version": "^0.19",
          "state": {
            "_model_module": "jupyter-leaflet",
            "_model_module_version": "^0.19",
            "_model_name": "LeafletTileLayerModel",
            "_view_count": null,
            "_view_module": "jupyter-leaflet",
            "_view_module_version": "^0.19",
            "_view_name": "LeafletTileLayerView",
            "attribution": "",
            "base": false,
            "bottom": true,
            "bounds": null,
            "detect_retina": false,
            "loading": false,
            "max_native_zoom": 30,
            "max_zoom": 30,
            "min_native_zoom": null,
            "min_zoom": 0,
            "name": "Basemap",
            "no_wrap": false,
            "opacity": 1,
            "options": [
              "attribution",
              "bounds",
              "detect_retina",
              "max_native_zoom",
              "max_zoom",
              "min_native_zoom",
              "min_zoom",
              "no_wrap",
              "tile_size",
              "tms",
              "zoom_offset"
            ],
            "pane": "",
            "popup": null,
            "popup_max_height": null,
            "popup_max_width": 300,
            "popup_min_width": 50,
            "show_loading": false,
            "subitems": [],
            "tile_size": 256,
            "tms": false,
            "url": "https://titiler.xyz/cog/tiles/WebMercatorQuad/{z}/{x}/{y}@1x?bidx=1&bidx=2&bidx=3&url=https%3A%2F%2Fhuggingface.co%2Fdatasets%2Fgiswqs%2Fgeospatial%2Fresolve%2Fmain%2Fnaip_test.tif",
            "visible": true,
            "zoom_offset": 0
          }
        },
        "cdaf9f3dcf6945528ed346500d860d25": {
          "model_module": "@jupyter-widgets/base",
          "model_name": "LayoutModel",
          "model_module_version": "1.2.0",
          "state": {
            "_model_module": "@jupyter-widgets/base",
            "_model_module_version": "1.2.0",
            "_model_name": "LayoutModel",
            "_view_count": null,
            "_view_module": "@jupyter-widgets/base",
            "_view_module_version": "1.2.0",
            "_view_name": "LayoutView",
            "align_content": null,
            "align_items": null,
            "align_self": null,
            "border": null,
            "bottom": null,
            "display": null,
            "flex": null,
            "flex_flow": null,
            "grid_area": null,
            "grid_auto_columns": null,
            "grid_auto_flow": null,
            "grid_auto_rows": null,
            "grid_column": null,
            "grid_gap": null,
            "grid_row": null,
            "grid_template_areas": null,
            "grid_template_columns": null,
            "grid_template_rows": null,
            "height": "18px",
            "justify_content": null,
            "justify_items": null,
            "left": null,
            "margin": null,
            "max_height": null,
            "max_width": null,
            "min_height": null,
            "min_width": null,
            "object_fit": null,
            "object_position": null,
            "order": null,
            "overflow": null,
            "overflow_x": null,
            "overflow_y": null,
            "padding": null,
            "right": null,
            "top": null,
            "visibility": null,
            "width": "25ex"
          }
        },
        "70b3673323614a89aee0629881c5b9bb": {
          "model_module": "@jupyter-widgets/controls",
          "model_name": "DescriptionStyleModel",
          "model_module_version": "1.5.0",
          "state": {
            "_model_module": "@jupyter-widgets/controls",
            "_model_module_version": "1.5.0",
            "_model_name": "DescriptionStyleModel",
            "_view_count": null,
            "_view_module": "@jupyter-widgets/base",
            "_view_module_version": "1.2.0",
            "_view_name": "StyleView",
            "description_width": ""
          }
        },
        "809df18fdced4b6a9a0e01ac422a752e": {
          "model_module": "@jupyter-widgets/controls",
          "model_name": "CheckboxModel",
          "model_module_version": "1.5.0",
          "state": {
            "_dom_classes": [],
            "_model_module": "@jupyter-widgets/controls",
            "_model_module_version": "1.5.0",
            "_model_name": "CheckboxModel",
            "_view_count": null,
            "_view_module": "@jupyter-widgets/controls",
            "_view_module_version": "1.5.0",
            "_view_name": "CheckboxView",
            "description": "Basemap",
            "description_tooltip": null,
            "disabled": false,
            "indent": false,
            "layout": "IPY_MODEL_5f5bc229e25940468fa91a5d1a0f680c",
            "style": "IPY_MODEL_51a0aba076c040c59cfd2d72e77b3ba9",
            "value": true
          }
        },
        "2d9424c6326d452494bed761cb71c5d3": {
          "model_module": "@jupyter-widgets/controls",
          "model_name": "CheckboxModel",
          "model_module_version": "1.5.0",
          "state": {
            "_dom_classes": [],
            "_model_module": "@jupyter-widgets/controls",
            "_model_module_version": "1.5.0",
            "_model_name": "CheckboxModel",
            "_view_count": null,
            "_view_module": "@jupyter-widgets/controls",
            "_view_module_version": "1.5.0",
            "_view_name": "CheckboxView",
            "description": "Basemap",
            "description_tooltip": null,
            "disabled": false,
            "indent": false,
            "layout": "IPY_MODEL_3e3f12ab0f474d53bbe2af8f9d3eaf82",
            "style": "IPY_MODEL_b0b8af60ab774c658be735c85a20595c",
            "value": true
          }
        },
        "be74df26b8c44b33bbd205768b3521d2": {
          "model_module": "@jupyter-widgets/controls",
          "model_name": "CheckboxModel",
          "model_module_version": "1.5.0",
          "state": {
            "_dom_classes": [],
            "_model_module": "@jupyter-widgets/controls",
            "_model_module_version": "1.5.0",
            "_model_name": "CheckboxModel",
            "_view_count": null,
            "_view_module": "@jupyter-widgets/controls",
            "_view_module_version": "1.5.0",
            "_view_name": "CheckboxView",
            "description": "Basemap",
            "description_tooltip": null,
            "disabled": false,
            "indent": false,
            "layout": "IPY_MODEL_e769fcd1ea0142ddbc0bbae810fd572d",
            "style": "IPY_MODEL_ce5b3896f9e84ea3a6c9ffee4f5d601b",
            "value": true
          }
        },
        "5f5bc229e25940468fa91a5d1a0f680c": {
          "model_module": "@jupyter-widgets/base",
          "model_name": "LayoutModel",
          "model_module_version": "1.2.0",
          "state": {
            "_model_module": "@jupyter-widgets/base",
            "_model_module_version": "1.2.0",
            "_model_name": "LayoutModel",
            "_view_count": null,
            "_view_module": "@jupyter-widgets/base",
            "_view_module_version": "1.2.0",
            "_view_name": "LayoutView",
            "align_content": null,
            "align_items": null,
            "align_self": null,
            "border": null,
            "bottom": null,
            "display": null,
            "flex": null,
            "flex_flow": null,
            "grid_area": null,
            "grid_auto_columns": null,
            "grid_auto_flow": null,
            "grid_auto_rows": null,
            "grid_column": null,
            "grid_gap": null,
            "grid_row": null,
            "grid_template_areas": null,
            "grid_template_columns": null,
            "grid_template_rows": null,
            "height": "18px",
            "justify_content": null,
            "justify_items": null,
            "left": null,
            "margin": null,
            "max_height": null,
            "max_width": null,
            "min_height": null,
            "min_width": null,
            "object_fit": null,
            "object_position": null,
            "order": null,
            "overflow": null,
            "overflow_x": null,
            "overflow_y": null,
            "padding": null,
            "right": null,
            "top": null,
            "visibility": null,
            "width": "25ex"
          }
        },
        "51a0aba076c040c59cfd2d72e77b3ba9": {
          "model_module": "@jupyter-widgets/controls",
          "model_name": "DescriptionStyleModel",
          "model_module_version": "1.5.0",
          "state": {
            "_model_module": "@jupyter-widgets/controls",
            "_model_module_version": "1.5.0",
            "_model_name": "DescriptionStyleModel",
            "_view_count": null,
            "_view_module": "@jupyter-widgets/base",
            "_view_module_version": "1.2.0",
            "_view_name": "StyleView",
            "description_width": ""
          }
        },
        "fce627b4e9db436cba7769bef57fb22f": {
          "model_module": "@jupyter-widgets/controls",
          "model_name": "CheckboxModel",
          "model_module_version": "1.5.0",
          "state": {
            "_dom_classes": [],
            "_model_module": "@jupyter-widgets/controls",
            "_model_module_version": "1.5.0",
            "_model_name": "CheckboxModel",
            "_view_count": null,
            "_view_module": "@jupyter-widgets/controls",
            "_view_module_version": "1.5.0",
            "_view_name": "CheckboxView",
            "description": "Basemap",
            "description_tooltip": null,
            "disabled": false,
            "indent": false,
            "layout": "IPY_MODEL_c3a46759627349d1861e0afab94932f7",
            "style": "IPY_MODEL_d8b89ec91f8e4dd592468d1bf3d86f81",
            "value": true
          }
        },
        "3e3f12ab0f474d53bbe2af8f9d3eaf82": {
          "model_module": "@jupyter-widgets/base",
          "model_name": "LayoutModel",
          "model_module_version": "1.2.0",
          "state": {
            "_model_module": "@jupyter-widgets/base",
            "_model_module_version": "1.2.0",
            "_model_name": "LayoutModel",
            "_view_count": null,
            "_view_module": "@jupyter-widgets/base",
            "_view_module_version": "1.2.0",
            "_view_name": "LayoutView",
            "align_content": null,
            "align_items": null,
            "align_self": null,
            "border": null,
            "bottom": null,
            "display": null,
            "flex": null,
            "flex_flow": null,
            "grid_area": null,
            "grid_auto_columns": null,
            "grid_auto_flow": null,
            "grid_auto_rows": null,
            "grid_column": null,
            "grid_gap": null,
            "grid_row": null,
            "grid_template_areas": null,
            "grid_template_columns": null,
            "grid_template_rows": null,
            "height": "18px",
            "justify_content": null,
            "justify_items": null,
            "left": null,
            "margin": null,
            "max_height": null,
            "max_width": null,
            "min_height": null,
            "min_width": null,
            "object_fit": null,
            "object_position": null,
            "order": null,
            "overflow": null,
            "overflow_x": null,
            "overflow_y": null,
            "padding": null,
            "right": null,
            "top": null,
            "visibility": null,
            "width": "25ex"
          }
        },
        "b0b8af60ab774c658be735c85a20595c": {
          "model_module": "@jupyter-widgets/controls",
          "model_name": "DescriptionStyleModel",
          "model_module_version": "1.5.0",
          "state": {
            "_model_module": "@jupyter-widgets/controls",
            "_model_module_version": "1.5.0",
            "_model_name": "DescriptionStyleModel",
            "_view_count": null,
            "_view_module": "@jupyter-widgets/base",
            "_view_module_version": "1.2.0",
            "_view_name": "StyleView",
            "description_width": ""
          }
        },
        "e769fcd1ea0142ddbc0bbae810fd572d": {
          "model_module": "@jupyter-widgets/base",
          "model_name": "LayoutModel",
          "model_module_version": "1.2.0",
          "state": {
            "_model_module": "@jupyter-widgets/base",
            "_model_module_version": "1.2.0",
            "_model_name": "LayoutModel",
            "_view_count": null,
            "_view_module": "@jupyter-widgets/base",
            "_view_module_version": "1.2.0",
            "_view_name": "LayoutView",
            "align_content": null,
            "align_items": null,
            "align_self": null,
            "border": null,
            "bottom": null,
            "display": null,
            "flex": null,
            "flex_flow": null,
            "grid_area": null,
            "grid_auto_columns": null,
            "grid_auto_flow": null,
            "grid_auto_rows": null,
            "grid_column": null,
            "grid_gap": null,
            "grid_row": null,
            "grid_template_areas": null,
            "grid_template_columns": null,
            "grid_template_rows": null,
            "height": "18px",
            "justify_content": null,
            "justify_items": null,
            "left": null,
            "margin": null,
            "max_height": null,
            "max_width": null,
            "min_height": null,
            "min_width": null,
            "object_fit": null,
            "object_position": null,
            "order": null,
            "overflow": null,
            "overflow_x": null,
            "overflow_y": null,
            "padding": null,
            "right": null,
            "top": null,
            "visibility": null,
            "width": "25ex"
          }
        },
        "ce5b3896f9e84ea3a6c9ffee4f5d601b": {
          "model_module": "@jupyter-widgets/controls",
          "model_name": "DescriptionStyleModel",
          "model_module_version": "1.5.0",
          "state": {
            "_model_module": "@jupyter-widgets/controls",
            "_model_module_version": "1.5.0",
            "_model_name": "DescriptionStyleModel",
            "_view_count": null,
            "_view_module": "@jupyter-widgets/base",
            "_view_module_version": "1.2.0",
            "_view_name": "StyleView",
            "description_width": ""
          }
        },
        "c3a46759627349d1861e0afab94932f7": {
          "model_module": "@jupyter-widgets/base",
          "model_name": "LayoutModel",
          "model_module_version": "1.2.0",
          "state": {
            "_model_module": "@jupyter-widgets/base",
            "_model_module_version": "1.2.0",
            "_model_name": "LayoutModel",
            "_view_count": null,
            "_view_module": "@jupyter-widgets/base",
            "_view_module_version": "1.2.0",
            "_view_name": "LayoutView",
            "align_content": null,
            "align_items": null,
            "align_self": null,
            "border": null,
            "bottom": null,
            "display": null,
            "flex": null,
            "flex_flow": null,
            "grid_area": null,
            "grid_auto_columns": null,
            "grid_auto_flow": null,
            "grid_auto_rows": null,
            "grid_column": null,
            "grid_gap": null,
            "grid_row": null,
            "grid_template_areas": null,
            "grid_template_columns": null,
            "grid_template_rows": null,
            "height": "18px",
            "justify_content": null,
            "justify_items": null,
            "left": null,
            "margin": null,
            "max_height": null,
            "max_width": null,
            "min_height": null,
            "min_width": null,
            "object_fit": null,
            "object_position": null,
            "order": null,
            "overflow": null,
            "overflow_x": null,
            "overflow_y": null,
            "padding": null,
            "right": null,
            "top": null,
            "visibility": null,
            "width": "25ex"
          }
        },
        "d8b89ec91f8e4dd592468d1bf3d86f81": {
          "model_module": "@jupyter-widgets/controls",
          "model_name": "DescriptionStyleModel",
          "model_module_version": "1.5.0",
          "state": {
            "_model_module": "@jupyter-widgets/controls",
            "_model_module_version": "1.5.0",
            "_model_name": "DescriptionStyleModel",
            "_view_count": null,
            "_view_module": "@jupyter-widgets/base",
            "_view_module_version": "1.2.0",
            "_view_name": "StyleView",
            "description_width": ""
          }
        },
        "0cae30be81274622a66f88ab8c8432b6": {
          "model_module": "jupyter-leaflet",
          "model_name": "LeafletMapModel",
          "model_module_version": "^0.19",
          "state": {
            "_dom_classes": [],
            "_model_module": "jupyter-leaflet",
            "_model_module_version": "^0.19",
            "_model_name": "LeafletMapModel",
            "_view_count": null,
            "_view_module": "jupyter-leaflet",
            "_view_module_version": "^0.19",
            "_view_name": "LeafletMapView",
            "bottom": 657,
            "bounce_at_zoom_limits": true,
            "box_zoom": true,
            "center": [
              47.646483603441276,
              -117.59043618885747
            ],
            "close_popup_on_click": true,
            "controls": [
              "IPY_MODEL_4f37a760aeff4a00a13a4bfebac73006",
              "IPY_MODEL_a0fbf93032c841e2aade6ff4de550e44",
              "IPY_MODEL_b316a6d9ee4947e7ad0787dc567d887e",
              "IPY_MODEL_d00bc39f55834e42988d679dd4cbe7f5"
            ],
            "crs": {
              "name": "EPSG3857",
              "custom": false
            },
            "default_style": "IPY_MODEL_8d9dd9f61327447a84cac86672ee08d2",
            "double_click_zoom": true,
            "dragging": true,
            "dragging_style": "IPY_MODEL_197f898476d24e408089d5103d623b94",
            "east": 77.34375000000001,
            "fullscreen": false,
            "inertia": true,
            "inertia_deceleration": 3000,
            "inertia_max_speed": 1500,
            "interpolation": "bilinear",
            "keyboard": true,
            "keyboard_pan_offset": 80,
            "keyboard_zoom_offset": 1,
            "layers": [
              "IPY_MODEL_6c1f2b40a5594ad6bd6dabc2ca85a0f0"
            ],
            "layout": "IPY_MODEL_4db3df6baa4547049233d93379d1ed18",
            "left": -377,
            "max_zoom": 24,
            "min_zoom": null,
            "modisdate": "2025-04-09",
            "north": 82.98340359715496,
            "options": [
              "bounce_at_zoom_limits",
              "box_zoom",
              "center",
              "close_popup_on_click",
              "double_click_zoom",
              "dragging",
              "fullscreen",
              "inertia",
              "inertia_deceleration",
              "inertia_max_speed",
              "interpolation",
              "keyboard",
              "keyboard_pan_offset",
              "keyboard_zoom_offset",
              "max_zoom",
              "min_zoom",
              "prefer_canvas",
              "scroll_wheel_zoom",
              "tap",
              "tap_tolerance",
              "touch_zoom",
              "world_copy_jump",
              "zoom",
              "zoom_animation_threshold",
              "zoom_delta",
              "zoom_snap"
            ],
            "panes": {},
            "prefer_canvas": false,
            "right": 732,
            "scroll_wheel_zoom": true,
            "south": -45.33670190996811,
            "style": "IPY_MODEL_cc130b3e7e254bdc92bf66f55ef2f029",
            "tap": true,
            "tap_tolerance": 15,
            "top": 57,
            "touch_zoom": true,
            "west": -312.53906250000006,
            "window_url": "https://h4x80untmaf-496ff2e9c6d22116-0-colab.googleusercontent.com/outputframe.html?vrz=colab_20250409-060101_RC00_745534781",
            "world_copy_jump": false,
            "zoom": 4,
            "zoom_animation_threshold": 4,
            "zoom_delta": 1,
            "zoom_snap": 1
          }
        },
        "4f37a760aeff4a00a13a4bfebac73006": {
          "model_module": "jupyter-leaflet",
          "model_name": "LeafletZoomControlModel",
          "model_module_version": "^0.19",
          "state": {
            "_model_module": "jupyter-leaflet",
            "_model_module_version": "^0.19",
            "_model_name": "LeafletZoomControlModel",
            "_view_count": null,
            "_view_module": "jupyter-leaflet",
            "_view_module_version": "^0.19",
            "_view_name": "LeafletZoomControlView",
            "options": [
              "position",
              "zoom_in_text",
              "zoom_in_title",
              "zoom_out_text",
              "zoom_out_title"
            ],
            "position": "topleft",
            "zoom_in_text": "+",
            "zoom_in_title": "Zoom in",
            "zoom_out_text": "-",
            "zoom_out_title": "Zoom out"
          }
        },
        "a0fbf93032c841e2aade6ff4de550e44": {
          "model_module": "jupyter-leaflet",
          "model_name": "LeafletFullScreenControlModel",
          "model_module_version": "^0.19",
          "state": {
            "_model_module": "jupyter-leaflet",
            "_model_module_version": "^0.19",
            "_model_name": "LeafletFullScreenControlModel",
            "_view_count": null,
            "_view_module": "jupyter-leaflet",
            "_view_module_version": "^0.19",
            "_view_name": "LeafletFullScreenControlView",
            "options": [
              "position"
            ],
            "position": "topleft"
          }
        },
        "b316a6d9ee4947e7ad0787dc567d887e": {
          "model_module": "jupyter-leaflet",
          "model_name": "LeafletSplitMapControlModel",
          "model_module_version": "^0.19",
          "state": {
            "_model_module": "jupyter-leaflet",
            "_model_module_version": "^0.19",
            "_model_name": "LeafletSplitMapControlModel",
            "_view_count": null,
            "_view_module": "jupyter-leaflet",
            "_view_module_version": "^0.19",
            "_view_name": "LeafletSplitMapControlView",
            "left_layer": "IPY_MODEL_b4099f244b3742a889a478cd9bbe3873",
            "options": [
              "position"
            ],
            "position": "topleft",
            "right_layer": "IPY_MODEL_bf77c680d29842d1ba21d49763019822"
          }
        },
        "d00bc39f55834e42988d679dd4cbe7f5": {
          "model_module": "jupyter-leaflet",
          "model_name": "LeafletLayersControlModel",
          "model_module_version": "^0.19",
          "state": {
            "_model_module": "jupyter-leaflet",
            "_model_module_version": "^0.19",
            "_model_name": "LeafletLayersControlModel",
            "_view_count": null,
            "_view_module": "jupyter-leaflet",
            "_view_module_version": "^0.19",
            "_view_name": "LeafletLayersControlView",
            "collapsed": true,
            "options": [
              "collapsed",
              "position"
            ],
            "position": "topright"
          }
        },
        "8d9dd9f61327447a84cac86672ee08d2": {
          "model_module": "jupyter-leaflet",
          "model_name": "LeafletMapStyleModel",
          "model_module_version": "^0.19",
          "state": {
            "_model_module": "jupyter-leaflet",
            "_model_module_version": "^0.19",
            "_model_name": "LeafletMapStyleModel",
            "_view_count": null,
            "_view_module": "@jupyter-widgets/base",
            "_view_module_version": "1.2.0",
            "_view_name": "StyleView",
            "cursor": "grab"
          }
        },
        "197f898476d24e408089d5103d623b94": {
          "model_module": "jupyter-leaflet",
          "model_name": "LeafletMapStyleModel",
          "model_module_version": "^0.19",
          "state": {
            "_model_module": "jupyter-leaflet",
            "_model_module_version": "^0.19",
            "_model_name": "LeafletMapStyleModel",
            "_view_count": null,
            "_view_module": "@jupyter-widgets/base",
            "_view_module_version": "1.2.0",
            "_view_name": "StyleView",
            "cursor": "move"
          }
        },
        "4db3df6baa4547049233d93379d1ed18": {
          "model_module": "@jupyter-widgets/base",
          "model_name": "LayoutModel",
          "model_module_version": "1.2.0",
          "state": {
            "_model_module": "@jupyter-widgets/base",
            "_model_module_version": "1.2.0",
            "_model_name": "LayoutModel",
            "_view_count": null,
            "_view_module": "@jupyter-widgets/base",
            "_view_module_version": "1.2.0",
            "_view_name": "LayoutView",
            "align_content": null,
            "align_items": null,
            "align_self": null,
            "border": null,
            "bottom": null,
            "display": null,
            "flex": null,
            "flex_flow": null,
            "grid_area": null,
            "grid_auto_columns": null,
            "grid_auto_flow": null,
            "grid_auto_rows": null,
            "grid_column": null,
            "grid_gap": null,
            "grid_row": null,
            "grid_template_areas": null,
            "grid_template_columns": null,
            "grid_template_rows": null,
            "height": "600px",
            "justify_content": null,
            "justify_items": null,
            "left": null,
            "margin": null,
            "max_height": null,
            "max_width": null,
            "min_height": null,
            "min_width": null,
            "object_fit": null,
            "object_position": null,
            "order": null,
            "overflow": null,
            "overflow_x": null,
            "overflow_y": null,
            "padding": null,
            "right": null,
            "top": null,
            "visibility": null,
            "width": null
          }
        },
        "cc130b3e7e254bdc92bf66f55ef2f029": {
          "model_module": "jupyter-leaflet",
          "model_name": "LeafletMapStyleModel",
          "model_module_version": "^0.19",
          "state": {
            "_model_module": "jupyter-leaflet",
            "_model_module_version": "^0.19",
            "_model_name": "LeafletMapStyleModel",
            "_view_count": null,
            "_view_module": "@jupyter-widgets/base",
            "_view_module_version": "1.2.0",
            "_view_name": "StyleView",
            "cursor": "grab"
          }
        },
        "b4099f244b3742a889a478cd9bbe3873": {
          "model_module": "jupyter-leaflet",
          "model_name": "LeafletGeoJSONModel",
          "model_module_version": "^0.19",
          "state": {
            "_model_module": "jupyter-leaflet",
            "_model_module_version": "^0.19",
            "_model_name": "LeafletGeoJSONModel",
            "_view_count": null,
            "_view_module": "jupyter-leaflet",
            "_view_module_version": "^0.19",
            "_view_name": "LeafletGeoJSONView",
            "base": false,
            "bottom": false,
            "data": {
              "type": "FeatureCollection",
              "features": [
                {
                  "id": "0",
                  "type": "Feature",
                  "properties": {
                    "value": 1,
                    "style": {
                      "color": "red",
                      "fillOpacity": 0.2,
                      "weight": 1
                    }
                  },
                  "geometry": {
                    "type": "Polygon",
                    "coordinates": [
                      [
                        [
                          -117.60032828885328,
                          47.648109338639976
                        ],
                        [
                          -117.60032822699205,
                          47.6481039402918
                        ],
                        [
                          -117.60033621575421,
                          47.64810389848924
                        ],
                        [
                          -117.60033615389217,
                          47.64809850014106
                        ],
                        [
                          -117.6003441426535,
                          47.64809845833796
                        ],
                        [
                          -117.60034408079066,
                          47.64809305998978
                        ],
                        [
                          -117.60035206955115,
                          47.648093018186145
                        ],
                        [
                          -117.60035194582389,
                          47.64808222148978
                        ],
                        [
                          -117.6003599345827,
                          47.648082179685595
                        ],
                        [
                          -117.60035981085385,
                          47.64807138298924
                        ],
                        [
                          -117.60035182209667,
                          47.6480714247934
                        ],
                        [
                          -117.6003517602331,
                          47.648066026445214
                        ],
                        [
                          -117.60033578272035,
                          47.64806611005187
                        ],
                        [
                          -117.60033572085845,
                          47.64806071170364
                        ],
                        [
                          -117.60031974334728,
                          47.648060795308055
                        ],
                        [
                          -117.60031968148702,
                          47.648055396959826
                        ],
                        [
                          -117.60030370397742,
                          47.64805548056201
                        ],
                        [
                          -117.60030376583603,
                          47.64806087891026
                        ],
                        [
                          -117.60029577708038,
                          47.64806092071052
                        ],
                        [
                          -117.60029583893818,
                          47.64806631905877
                        ],
                        [
                          -117.60027986142516,
                          47.64806640265765
                        ],
                        [
                          -117.60027992328133,
                          47.64807180100592
                        ],
                        [
                          -117.60027193452397,
                          47.64807184280453
                        ],
                        [
                          -117.60027212009011,
                          47.64808803784932
                        ],
                        [
                          -117.60028010884993,
                          47.648087996050684
                        ],
                        [
                          -117.60028023256241,
                          47.64809879274718
                        ],
                        [
                          -117.60028822132386,
                          47.64809875094797
                        ],
                        [
                          -117.60028828318097,
                          47.6481041492962
                        ],
                        [
                          -117.60029627194321,
                          47.64810410749643
                        ],
                        [
                          -117.60029633380115,
                          47.64810950584463
                        ],
                        [
                          -117.60032828885328,
                          47.648109338639976
                        ]
                      ]
                    ]
                  },
                  "bbox": [
                    -117.6003599345827,
                    47.648055396959826,
                    -117.60027193452397,
                    47.64810950584463
                  ]
                },
                {
                  "id": "1",
                  "type": "Feature",
                  "properties": {
                    "value": 1,
                    "style": {
                      "color": "red",
                      "fillOpacity": 0.2,
                      "weight": 1
                    }
                  },
                  "geometry": {
                    "type": "Polygon",
                    "coordinates": [
                      [
                        [
                          -117.60054731735164,
                          47.648050333376155
                        ],
                        [
                          -117.60054788775125,
                          47.648100091429164
                        ],
                        [
                          -117.60084636072081,
                          47.648098528669436
                        ],
                        [
                          -117.60084579003777,
                          47.64804877061914
                        ],
                        [
                          -117.60054731735164,
                          47.648050333376155
                        ]
                      ]
                    ]
                  },
                  "bbox": [
                    -117.60084636072081,
                    47.64804877061914,
                    -117.60054731735164,
                    47.648100091429164
                  ]
                },
                {
                  "id": "2",
                  "type": "Feature",
                  "properties": {
                    "value": 1,
                    "style": {
                      "color": "red",
                      "fillOpacity": 0.2,
                      "weight": 1
                    }
                  },
                  "geometry": {
                    "type": "Polygon",
                    "coordinates": [
                      [
                        [
                          -117.57792242711999,
                          47.64774391063662
                        ],
                        [
                          -117.57792236756828,
                          47.647738512266365
                        ],
                        [
                          -117.57790639009102,
                          47.64773859274909
                        ],
                        [
                          -117.57790644964108,
                          47.64774399111937
                        ],
                        [
                          -117.57792242711999,
                          47.64774391063662
                        ]
                      ]
                    ]
                  },
                  "bbox": [
                    -117.57792242711999,
                    47.647738512266365,
                    -117.57790639009102,
                    47.64774399111937
                  ]
                },
                {
                  "id": "3",
                  "type": "Feature",
                  "properties": {
                    "value": 1,
                    "style": {
                      "color": "red",
                      "fillOpacity": 0.2,
                      "weight": 1
                    }
                  },
                  "geometry": {
                    "type": "Polygon",
                    "coordinates": [
                      [
                        [
                          -117.59374959435138,
                          47.65006819947105
                        ],
                        [
                          -117.59371872750998,
                          47.64734473025275
                        ],
                        [
                          -117.59134431938513,
                          47.64735699332091
                        ],
                        [
                          -117.59135787762037,
                          47.648558127815846
                        ],
                        [
                          -117.59104428627903,
                          47.648559743772715
                        ],
                        [
                          -117.59106558500538,
                          47.65044745910523
                        ],
                        [
                          -117.59195177194827,
                          47.650080189332535
                        ],
                        [
                          -117.59288600694646,
                          47.65062834464262
                        ],
                        [
                          -117.59374959435138,
                          47.65006819947105
                        ]
                      ]
                    ]
                  },
                  "bbox": [
                    -117.59374959435138,
                    47.64734473025275,
                    -117.59104428627903,
                    47.65062834464262
                  ]
                },
                {
                  "id": "4",
                  "type": "Feature",
                  "properties": {
                    "value": 1,
                    "style": {
                      "color": "red",
                      "fillOpacity": 0.2,
                      "weight": 1
                    }
                  },
                  "geometry": {
                    "type": "Polygon",
                    "coordinates": [
                      [
                        [
                          -117.57987357897852,
                          47.645018533582956
                        ],
                        [
                          -117.57987351923147,
                          47.64501313521196
                        ],
                        [
                          -117.5798575425908,
                          47.64501321596295
                        ],
                        [
                          -117.57985760233623,
                          47.645018614333964
                        ],
                        [
                          -117.57987357897852,
                          47.645018533582956
                        ]
                      ]
                    ]
                  },
                  "bbox": [
                    -117.57987357897852,
                    47.64501313521196,
                    -117.5798575425908,
                    47.645018614333964
                  ]
                },
                {
                  "id": "5",
                  "type": "Feature",
                  "properties": {
                    "value": 1,
                    "style": {
                      "color": "red",
                      "fillOpacity": 0.2,
                      "weight": 1
                    }
                  },
                  "geometry": {
                    "type": "Polygon",
                    "coordinates": [
                      [
                        [
                          -117.57828909478367,
                          47.64404937137127
                        ],
                        [
                          -117.57828903520189,
                          47.64404397299785
                        ],
                        [
                          -117.57829702337666,
                          47.64404393273246
                        ],
                        [
                          -117.57829672546383,
                          47.64401694086536
                        ],
                        [
                          -117.57828873729315,
                          47.64401698113072
                        ],
                        [
                          -117.57828855854811,
                          47.64400078601037
                        ],
                        [
                          -117.57828057037989,
                          47.64400082627515
                        ],
                        [
                          -117.57828068954159,
                          47.64401162302207
                        ],
                        [
                          -117.5782727013717,
                          47.6440116632863
                        ],
                        [
                          -117.57827282053181,
                          47.644022460033206
                        ],
                        [
                          -117.57826483236026,
                          47.64402250029689
                        ],
                        [
                          -117.57826507067739,
                          47.644044093790676
                        ],
                        [
                          -117.57828104702708,
                          47.644044013262686
                        ],
                        [
                          -117.57828110660806,
                          47.644049411636104
                        ],
                        [
                          -117.57828909478367,
                          47.64404937137127
                        ]
                      ]
                    ]
                  },
                  "bbox": [
                    -117.57829702337666,
                    47.64400078601037,
                    -117.57826483236026,
                    47.644049411636104
                  ]
                },
                {
                  "id": "6",
                  "type": "Feature",
                  "properties": {
                    "value": 1,
                    "style": {
                      "color": "red",
                      "fillOpacity": 0.2,
                      "weight": 1
                    }
                  },
                  "geometry": {
                    "type": "Polygon",
                    "coordinates": [
                      [
                        [
                          -117.59809404862865,
                          47.64996600425112
                        ],
                        [
                          -117.60007780360692,
                          47.64995564553327
                        ],
                        [
                          -117.60007681001873,
                          47.64986890885539
                        ],
                        [
                          -117.60117972546205,
                          47.64986313485162
                        ],
                        [
                          -117.60117951740548,
                          47.64984500701956
                        ],
                        [
                          -117.60089914440917,
                          47.64842487137878
                        ],
                        [
                          -117.60089626734032,
                          47.6481740423087
                        ],
                        [
                          -117.60008540599065,
                          47.648178286398036
                        ],
                        [
                          -117.60008416705924,
                          47.648070126686655
                        ],
                        [
                          -117.60002425205653,
                          47.64807044005687
                        ],
                        [
                          -117.6000251601686,
                          47.64814972695193
                        ],
                        [
                          -117.59960996234867,
                          47.64815189768176
                        ],
                        [
                          -117.59960602730771,
                          47.64780809049766
                        ],
                        [
                          -117.59962578087223,
                          47.64780798725704
                        ],
                        [
                          -117.59962128163508,
                          47.647414890961066
                        ],
                        [
                          -117.5999777126244,
                          47.64741302756456
                        ],
                        [
                          -117.59982328230532,
                          47.64726438840779
                        ],
                        [
                          -117.59952531210487,
                          47.647265945882786
                        ],
                        [
                          -117.5995252755171,
                          47.64726274466646
                        ],
                        [
                          -117.5993383623609,
                          47.64653000390645
                        ],
                        [
                          -117.59917506917809,
                          47.64653085694875
                        ],
                        [
                          -117.59895208498398,
                          47.6465320212915
                        ],
                        [
                          -117.5989532267311,
                          47.646631890574845
                        ],
                        [
                          -117.59874961505238,
                          47.64663295338442
                        ],
                        [
                          -117.59875131168394,
                          47.646781408194904
                        ],
                        [
                          -117.59857035797695,
                          47.646782352433604
                        ],
                        [
                          -117.59856711213877,
                          47.64649825555773
                        ],
                        [
                          -117.5984899638819,
                          47.64649865803823
                        ],
                        [
                          -117.59848711348076,
                          47.64624913661375
                        ],
                        [
                          -117.59872514557792,
                          47.6462478946443
                        ],
                        [
                          -117.5987230695492,
                          47.64606623117317
                        ],
                        [
                          -117.59891878568948,
                          47.646065209626705
                        ],
                        [
                          -117.5989177674481,
                          47.645976136591194
                        ],
                        [
                          -117.59880992556783,
                          47.64597669951574
                        ],
                        [
                          -117.59880915431953,
                          47.645909220338886
                        ],
                        [
                          -117.5988371127113,
                          47.64590907440858
                        ],
                        [
                          -117.5988361871766,
                          47.645828099636866
                        ],
                        [
                          -117.59893204772384,
                          47.64582759923657
                        ],
                        [
                          -117.598930512037,
                          47.64569326314338
                        ],
                        [
                          -117.59921809463297,
                          47.64569176146004
                        ],
                        [
                          -117.59921660571297,
                          47.64556157792637
                        ],
                        [
                          -117.59926853084811,
                          47.64556130671021
                        ],
                        [
                          -117.59926772815032,
                          47.64549112862935
                        ],
                        [
                          -117.5993356290498,
                          47.64549077393326
                        ],
                        [
                          -117.59933493464668,
                          47.64543007047645
                        ],
                        [
                          -117.59988134646538,
                          47.645427214707354
                        ],
                        [
                          -117.5998839576036,
                          47.645655266716155
                        ],
                        [
                          -117.60008445768064,
                          47.645654218165205
                        ],
                        [
                          -117.60008587980282,
                          47.64577838101584
                        ],
                        [
                          -117.60000599530065,
                          47.64577879882891
                        ],
                        [
                          -117.60000759902,
                          47.64591883423007
                        ],
                        [
                          -117.59951231647531,
                          47.64592142342809
                        ],
                        [
                          -117.59951404554414,
                          47.646072527770784
                        ],
                        [
                          -117.60154311237872,
                          47.64606190678971
                        ],
                        [
                          -117.60154167275849,
                          47.64593652196779
                        ],
                        [
                          -117.6016295455338,
                          47.6459360611952
                        ],
                        [
                          -117.60162908312728,
                          47.64589579324891
                        ],
                        [
                          -117.6039208087929,
                          47.64588375251935
                        ],
                        [
                          -117.60391599371148,
                          47.64546602464201
                        ],
                        [
                          -117.6035814338383,
                          47.64546778526236
                        ],
                        [
                          -117.60358015082173,
                          47.645356415067674
                        ],
                        [
                          -117.60337106731212,
                          47.64535751487168
                        ],
                        [
                          -117.60336983267153,
                          47.645250306106185
                        ],
                        [
                          -117.60390918302448,
                          47.645247468287884
                        ],
                        [
                          -117.60388078744946,
                          47.64278379747941
                        ],
                        [
                          -117.60180916260315,
                          47.6427946831766
                        ],
                        [
                          -117.60180916260295,
                          47.64279468316057
                        ],
                        [
                          -117.59989438694018,
                          47.642804711398234
                        ],
                        [
                          -117.5998943869404,
                          47.64280471141788
                        ],
                        [
                          -117.59579379619687,
                          47.64282607989426
                        ],
                        [
                          -117.59579388827693,
                          47.64283417796553
                        ],
                        [
                          -117.5956864858982,
                          47.64283473567735
                        ],
                        [
                          -117.59568639383465,
                          47.642826637598716
                        ],
                        [
                          -117.59166958037851,
                          47.642847423628574
                        ],
                        [
                          -117.5916695952258,
                          47.642848738488595
                        ],
                        [
                          -117.58963789238918,
                          47.642859198493845
                        ],
                        [
                          -117.58963788721675,
                          47.64285873885008
                        ],
                        [
                          -117.58553767809968,
                          47.642879738755376
                        ],
                        [
                          -117.58553775903182,
                          47.64288698107725
                        ],
                        [
                          -117.585473856094,
                          47.64288730720704
                        ],
                        [
                          -117.58547403705316,
                          47.64290350233775
                        ],
                        [
                          -117.58356429075775,
                          47.64291323233654
                        ],
                        [
                          -117.5835642607027,
                          47.64291053372543
                        ],
                        [
                          -117.58339713019483,
                          47.64291138372856
                        ],
                        [
                          -117.58339746076992,
                          47.64294107418564
                        ],
                        [
                          -117.5816114606178,
                          47.64295014234083
                        ],
                        [
                          -117.58161172692095,
                          47.642974133649986
                        ],
                        [
                          -117.58134880364693,
                          47.64297546625703
                        ],
                        [
                          -117.58135006477694,
                          47.64308913269246
                        ],
                        [
                          -117.58143053118441,
                          47.6430887249177
                        ],
                        [
                          -117.58143688105604,
                          47.643660952964254
                        ],
                        [
                          -117.58148528786927,
                          47.64366070762658
                        ],
                        [
                          -117.58149873816866,
                          47.644872641631686
                        ],
                        [
                          -117.58138583844536,
                          47.644873213814535
                        ],
                        [
                          -117.58138544908233,
                          47.64483812471731
                        ],
                        [
                          -117.5812616304519,
                          47.644838752109756
                        ],
                        [
                          -117.5812609082213,
                          47.644773651201696
                        ],
                        [
                          -117.58094936502997,
                          47.64477522920694
                        ],
                        [
                          -117.58095284034015,
                          47.64508865492545
                        ],
                        [
                          -117.58076910827867,
                          47.64508958515931
                        ],
                        [
                          -117.58077012555309,
                          47.645181357494266
                        ],
                        [
                          -117.58067027263529,
                          47.64518186292605
                        ],
                        [
                          -117.58067075126955,
                          47.645225049677805
                        ],
                        [
                          -117.58052080585914,
                          47.64522580850317
                        ],
                        [
                          -117.5805230054374,
                          47.64542433574919
                        ],
                        [
                          -117.58032881214834,
                          47.64533475250079
                        ],
                        [
                          -117.58032839359872,
                          47.64529696503397
                        ],
                        [
                          -117.58023216801612,
                          47.645297451735864
                        ],
                        [
                          -117.58023330392722,
                          47.645400020806186
                        ],
                        [
                          -117.58012970299333,
                          47.645400544722655
                        ],
                        [
                          -117.58013179510137,
                          47.6455894875033
                        ],
                        [
                          -117.57999174880997,
                          47.64559019557964
                        ],
                        [
                          -117.57999190319357,
                          47.64560414158212
                        ],
                        [
                          -117.57984336938095,
                          47.64560489238487
                        ],
                        [
                          -117.57983586650077,
                          47.64492694541898
                        ],
                        [
                          -117.5797806977697,
                          47.64492722423171
                        ],
                        [
                          -117.57977942085962,
                          47.64481183143645
                        ],
                        [
                          -117.57993734181831,
                          47.64481103320953
                        ],
                        [
                          -117.57956681621468,
                          47.64473018991084
                        ],
                        [
                          -117.57868339914238,
                          47.64467019348303
                        ],
                        [
                          -117.57868194649754,
                          47.64453866956771
                        ],
                        [
                          -117.57847425261286,
                          47.64453971698896
                        ],
                        [
                          -117.57847338535777,
                          47.64446116620673
                        ],
                        [
                          -117.57799052199047,
                          47.644463599879145
                        ],
                        [
                          -117.5779885598192,
                          47.644285728433026
                        ],
                        [
                          -117.5780472605929,
                          47.64428543268548
                        ],
                        [
                          -117.5780454143193,
                          47.64411808282691
                        ],
                        [
                          -117.57810611112558,
                          47.64411777699212
                        ],
                        [
                          -117.57810402642906,
                          47.6439288340248
                        ],
                        [
                          -117.57835964748993,
                          47.64392754567086
                        ],
                        [
                          -117.57835772916866,
                          47.6437537569767
                        ],
                        [
                          -117.5786093557889,
                          47.643752488202296
                        ],
                        [
                          -117.57860899802323,
                          47.643720090639775
                        ],
                        [
                          -117.57947539421056,
                          47.64371571779922
                        ],
                        [
                          -117.57947124673238,
                          47.64334069918446
                        ],
                        [
                          -117.5769131052728,
                          47.64335359159597
                        ],
                        [
                          -117.57692891548264,
                          47.64478946208166
                        ],
                        [
                          -117.5770708007164,
                          47.644788748492665
                        ],
                        [
                          -117.57708324297289,
                          47.645918387722766
                        ],
                        [
                          -117.57706510787308,
                          47.64591847894176
                        ],
                        [
                          -117.57706816563262,
                          47.64619609271768
                        ],
                        [
                          -117.57724510092156,
                          47.64619520261247
                        ],
                        [
                          -117.57725857329497,
                          47.647417933779344
                        ],
                        [
                          -117.57763120170807,
                          47.64741605827557
                        ],
                        [
                          -117.57763450419175,
                          47.64771558072058
                        ],
                        [
                          -117.57800198659712,
                          47.64771372992341
                        ],
                        [
                          -117.57800237469534,
                          47.64774890622866
                        ],
                        [
                          -117.57797441371874,
                          47.647749047093434
                        ],
                        [
                          -117.57797577902333,
                          47.64787280052205
                        ],
                        [
                          -117.57836722806269,
                          47.64787082781443
                        ],
                        [
                          -117.57836851393782,
                          47.647987301985715
                        ],
                        [
                          -117.57858421112407,
                          47.64798621440686
                        ],
                        [
                          -117.57858564202208,
                          47.648115775524424
                        ],
                        [
                          -117.57886125479791,
                          47.64811438524881
                        ],
                        [
                          -117.57886294720136,
                          47.64826755032531
                        ],
                        [
                          -117.57913856186096,
                          47.648266159374664
                        ],
                        [
                          -117.57914015094444,
                          47.648409904240324
                        ],
                        [
                          -117.57948399576786,
                          47.648408168018705
                        ],
                        [
                          -117.57949973514312,
                          47.649831010727944
                        ],
                        [
                          -117.58100057975189,
                          47.64982342007624
                        ],
                        [
                          -117.58099903615476,
                          47.649684243882035
                        ],
                        [
                          -117.58238590503991,
                          47.64967721223274
                        ],
                        [
                          -117.58238233732591,
                          47.649356296477265
                        ],
                        [
                          -117.58250217233648,
                          47.64935568811052
                        ],
                        [
                          -117.58250452899647,
                          47.64956762661463
                        ],
                        [
                          -117.58490123159848,
                          47.649555432939586
                        ],
                        [
                          -117.58490426941768,
                          47.649827506281625
                        ],
                        [
                          -117.58616653862698,
                          47.64982106409216
                        ],
                        [
                          -117.58616469626404,
                          47.64965641407056
                        ],
                        [
                          -117.58924446196887,
                          47.64964063775927
                        ],
                        [
                          -117.58924891132504,
                          47.6500361913077
                        ],
                        [
                          -117.59068988332737,
                          47.65002878139143
                        ],
                        [
                          -117.5906671321965,
                          47.64801102138531
                        ],
                        [
                          -117.59061768603524,
                          47.64801127594431
                        ],
                        [
                          -117.59061424745069,
                          47.64770626883923
                        ],
                        [
                          -117.5904285378104,
                          47.6477072247157
                        ],
                        [
                          -117.59041392517328,
                          47.64641060001088
                        ],
                        [
                          -117.58925146235192,
                          47.64641657643553
                        ],
                        [
                          -117.58925162206052,
                          47.64643077632592
                        ],
                        [
                          -117.58896312160847,
                          47.64643225773304
                        ],
                        [
                          -117.5889628983161,
                          47.646412394801146
                        ],
                        [
                          -117.5886888861289,
                          47.64641380114092
                        ],
                        [
                          -117.58868793001756,
                          47.64632871060749
                        ],
                        [
                          -117.5888077573426,
                          47.64632809568725
                        ],
                        [
                          -117.58880770796885,
                          47.64632370248329
                        ],
                        [
                          -117.58798968683844,
                          47.64632789784889
                        ],
                        [
                          -117.58798160332239,
                          47.64560762335574
                        ],
                        [
                          -117.58902328759737,
                          47.64560227993931
                        ],
                        [
                          -117.58902209974575,
                          47.64549662228528
                        ],
                        [
                          -117.58931501365552,
                          47.64549511805479
                        ],
                        [
                          -117.58931484743798,
                          47.64548034054841
                        ],
                        [
                          -117.58951721318803,
                          47.64547930088246
                        ],
                        [
                          -117.58951876175713,
                          47.64561692809376
                        ],
                        [
                          -117.58948680785663,
                          47.6456170922829
                        ],
                        [
                          -117.58949048585622,
                          47.64594398366221
                        ],
                        [
                          -117.58967843548596,
                          47.645943017600764
                        ],
                        [
                          -117.58982759418598,
                          47.64572900327836
                        ],
                        [
                          -117.59186117749624,
                          47.64571853031285
                        ],
                        [
                          -117.59187939639602,
                          47.647331222004794
                        ],
                        [
                          -117.59382047598046,
                          47.647321191553246
                        ],
                        [
                          -117.59383245483156,
                          47.64837798720795
                        ],
                        [
                          -117.59388424422586,
                          47.64837771913402
                        ],
                        [
                          -117.59390305311908,
                          47.65003680636059
                        ],
                        [
                          -117.59809460839587,
                          47.650015031809765
                        ],
                        [
                          -117.59809404862865,
                          47.64996600425112
                        ]
                      ]
                    ]
                  },
                  "bbox": [
                    -117.6039208087929,
                    47.64278379747941,
                    -117.5769131052728,
                    47.65003680636059
                  ]
                }
              ],
              "bbox": [
                -117.6039208087929,
                47.64278379747941,
                -117.5769131052728,
                47.65062834464262
              ]
            },
            "hover_style": {
              "weight": 3,
              "fillOpacity": 0,
              "color": "yellow"
            },
            "layers": [],
            "name": "Left Layer",
            "options": [],
            "pane": "",
            "point_style": {},
            "popup": null,
            "popup_max_height": null,
            "popup_max_width": 300,
            "popup_min_width": 50,
            "style": {
              "color": "red",
              "fillOpacity": 0.2,
              "weight": 1
            },
            "subitems": [],
            "visible": true
          }
        },
        "bf77c680d29842d1ba21d49763019822": {
          "model_module": "jupyter-leaflet",
          "model_name": "LeafletTileLayerModel",
          "model_module_version": "^0.19",
          "state": {
            "_model_module": "jupyter-leaflet",
            "_model_module_version": "^0.19",
            "_model_name": "LeafletTileLayerModel",
            "_view_count": null,
            "_view_module": "jupyter-leaflet",
            "_view_module_version": "^0.19",
            "_view_name": "LeafletTileLayerView",
            "attribution": " ",
            "base": false,
            "bottom": true,
            "bounds": null,
            "detect_retina": false,
            "loading": false,
            "max_native_zoom": 30,
            "max_zoom": 30,
            "min_native_zoom": null,
            "min_zoom": 0,
            "name": "Right Layer",
            "no_wrap": false,
            "opacity": 1,
            "options": [
              "attribution",
              "bounds",
              "detect_retina",
              "max_native_zoom",
              "max_zoom",
              "min_native_zoom",
              "min_zoom",
              "no_wrap",
              "tile_size",
              "tms",
              "zoom_offset"
            ],
            "pane": "",
            "popup": null,
            "popup_max_height": null,
            "popup_max_width": 300,
            "popup_min_width": 50,
            "show_loading": false,
            "subitems": [],
            "tile_size": 256,
            "tms": false,
            "url": "https://titiler.xyz/cog/tiles/WebMercatorQuad/{z}/{x}/{y}@1x?max_zoom=30&max_native_zoom=30&layer_name=Right+Layer&url=https%3A%2F%2Fhuggingface.co%2Fdatasets%2Fgiswqs%2Fgeospatial%2Fresolve%2Fmain%2Fnaip_test.tif&bidx=1&bidx=2&bidx=3",
            "visible": true,
            "zoom_offset": 0
          }
        }
      }
    }
  },
  "nbformat": 4,
  "nbformat_minor": 0
}