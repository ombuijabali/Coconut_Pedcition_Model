{
  "cells": [
    {
      "cell_type": "markdown",
      "metadata": {
        "id": "qYuTQXP3BTiP"
      },
      "source": [
        "# Solar Panel Detection\n",
        "\n",
        "This notebook demonstrates how to use the geoai package for solar panel detection using a pre-trained model.\n",
        "\n",
        "[![image](https://colab.research.google.com/assets/colab-badge.svg)](https://colab.research.google.com/github/opengeos/geoai/blob/main/docs/examples/solar_panel_detection.ipynb)\n",
        "\n",
        "## Install package\n",
        "To use the `geoai-py` package, ensure it is installed in your environment. Uncomment the command below if needed."
      ]
    },
    {
      "cell_type": "code",
      "execution_count": null,
      "metadata": {
        "id": "iYWPITcrBTiU"
      },
      "outputs": [],
      "source": [
        "# %pip install geoai-py"
      ]
    },
    {
      "cell_type": "markdown",
      "metadata": {
        "id": "rbdwIMwnBTiV"
      },
      "source": [
        "## Import libraries"
      ]
    },
    {
      "cell_type": "code",
      "execution_count": null,
      "metadata": {
        "id": "wtISQXzdBTiW"
      },
      "outputs": [],
      "source": [
        "import geoai"
      ]
    },
    {
      "cell_type": "markdown",
      "metadata": {
        "id": "d0aU9JmYBTiW"
      },
      "source": [
        "## Download sample data"
      ]
    },
    {
      "cell_type": "code",
      "execution_count": null,
      "metadata": {
        "id": "nRNz3uYHBTiX"
      },
      "outputs": [],
      "source": [
        "raster_url = \"https://huggingface.co/datasets/giswqs/geospatial/resolve/main/solar_panels_davis_ca.tif\"\n",
        "raster_path = geoai.download_file(raster_url)"
      ]
    },
    {
      "cell_type": "code",
      "execution_count": null,
      "metadata": {
        "id": "hZ-2tUYyBTiY"
      },
      "outputs": [],
      "source": [
        "geoai.print_raster_info(raster_path)"
      ]
    },
    {
      "cell_type": "markdown",
      "metadata": {
        "id": "_PZkzY9wBTia"
      },
      "source": [
        "## Visualize data"
      ]
    },
    {
      "cell_type": "code",
      "execution_count": null,
      "metadata": {
        "id": "pnHueayZBTib"
      },
      "outputs": [],
      "source": [
        "geoai.view_raster(raster_url)"
      ]
    },
    {
      "cell_type": "markdown",
      "metadata": {
        "id": "iQZ8AsQjBTib"
      },
      "source": [
        "## Initialize model"
      ]
    },
    {
      "cell_type": "code",
      "execution_count": null,
      "metadata": {
        "id": "nCYa5-7lBTic"
      },
      "outputs": [],
      "source": [
        "detector = geoai.SolarPanelDetector()"
      ]
    },
    {
      "cell_type": "markdown",
      "metadata": {
        "id": "nqfvo7IpBTic"
      },
      "source": [
        "## Generate masks"
      ]
    },
    {
      "cell_type": "code",
      "execution_count": null,
      "metadata": {
        "id": "wp_TYEslBTid"
      },
      "outputs": [],
      "source": [
        "output_path = \"solar_panel_masks.tif\""
      ]
    },
    {
      "cell_type": "code",
      "execution_count": null,
      "metadata": {
        "id": "tZa_gCHWBTid"
      },
      "outputs": [],
      "source": [
        "masks_path = detector.generate_masks(\n",
        "    raster_path,\n",
        "    output_path=output_path,\n",
        "    confidence_threshold=0.4,\n",
        "    mask_threshold=0.5,\n",
        "    min_object_area=100,\n",
        "    overlap=0.25,\n",
        "    chip_size=(400, 400),\n",
        "    batch_size=4,\n",
        "    verbose=False,\n",
        ")"
      ]
    },
    {
      "cell_type": "markdown",
      "metadata": {
        "id": "AVSdNo3JBTid"
      },
      "source": [
        "## Visualize masks"
      ]
    },
    {
      "cell_type": "code",
      "execution_count": null,
      "metadata": {
        "id": "UgH6kduyBTid"
      },
      "outputs": [],
      "source": [
        "geoai.view_raster(\n",
        "    output_path,\n",
        "    indexes=[2],\n",
        "    colormap=\"autumn\",\n",
        "    layer_name=\"Solar Panels\",\n",
        "    basemap=raster_url,\n",
        ")"
      ]
    },
    {
      "cell_type": "markdown",
      "metadata": {
        "id": "fW8CBsJUBTie"
      },
      "source": [
        "## Vectorize masks"
      ]
    },
    {
      "cell_type": "code",
      "execution_count": null,
      "metadata": {
        "id": "4JpqOoN6BTie"
      },
      "outputs": [],
      "source": [
        "gdf = geoai.orthogonalize(\n",
        "    input_path=masks_path, output_path=\"solar_panel_masks.geojson\", epsilon=0.2\n",
        ")"
      ]
    },
    {
      "cell_type": "markdown",
      "metadata": {
        "id": "d2gZvSQlBTie"
      },
      "source": [
        "## Visualize initial results"
      ]
    },
    {
      "cell_type": "code",
      "execution_count": null,
      "metadata": {
        "id": "b4E6c7rTBTie"
      },
      "outputs": [],
      "source": [
        "geoai.view_vector_interactive(gdf, tiles=raster_url)"
      ]
    },
    {
      "cell_type": "markdown",
      "metadata": {
        "id": "mgaVCHWzBTif"
      },
      "source": [
        "## Calculate geometric properties"
      ]
    },
    {
      "cell_type": "code",
      "execution_count": null,
      "metadata": {
        "id": "1VdMIWAwBTif"
      },
      "outputs": [],
      "source": [
        "gdf = geoai.add_geometric_properties(gdf)\n",
        "gdf.head()"
      ]
    },
    {
      "cell_type": "code",
      "execution_count": null,
      "metadata": {
        "id": "rf3aw1iNBTif"
      },
      "outputs": [],
      "source": [
        "print(len(gdf))"
      ]
    },
    {
      "cell_type": "code",
      "execution_count": null,
      "metadata": {
        "id": "UTZ7bTveBTif"
      },
      "outputs": [],
      "source": [
        "geoai.view_vector_interactive(gdf, column=\"elongation\", tiles=raster_url)"
      ]
    },
    {
      "cell_type": "markdown",
      "metadata": {
        "id": "YvzlfwWgBTif"
      },
      "source": [
        "## Filter results"
      ]
    },
    {
      "cell_type": "code",
      "execution_count": null,
      "metadata": {
        "id": "C9WmoeMbBTig"
      },
      "outputs": [],
      "source": [
        "gdf_filter = gdf[(gdf[\"elongation\"] < 10) & (gdf[\"area_m2\"] > 5)]\n",
        "print(len(gdf_filter))"
      ]
    },
    {
      "cell_type": "markdown",
      "metadata": {
        "id": "I6Jxw7JvBTig"
      },
      "source": [
        "## Visualize final results"
      ]
    },
    {
      "cell_type": "code",
      "execution_count": null,
      "metadata": {
        "id": "TrbyWV2RBTig"
      },
      "outputs": [],
      "source": [
        "geoai.view_vector_interactive(gdf_filter, column=\"area_m2\", tiles=raster_url)"
      ]
    },
    {
      "cell_type": "code",
      "execution_count": null,
      "metadata": {
        "id": "gr-UpzysBTih"
      },
      "outputs": [],
      "source": [
        "geoai.view_vector_interactive(\n",
        "    gdf_filter, style_kwds={\"color\": \"red\", \"fillOpacity\": 0}, tiles=raster_url\n",
        ")"
      ]
    },
    {
      "cell_type": "code",
      "execution_count": null,
      "metadata": {
        "id": "aIeId7_rBTii"
      },
      "outputs": [],
      "source": [
        "gdf_filter[\"area_m2\"].hist()"
      ]
    },
    {
      "cell_type": "code",
      "execution_count": null,
      "metadata": {
        "id": "Ixe9GTfVBTii"
      },
      "outputs": [],
      "source": [
        "gdf_filter[\"area_m2\"].describe()"
      ]
    },
    {
      "cell_type": "code",
      "execution_count": null,
      "metadata": {
        "id": "kPGOFaOzBTii"
      },
      "outputs": [],
      "source": [
        "gdf_filter[\"area_m2\"].sum()"
      ]
    },
    {
      "cell_type": "markdown",
      "metadata": {
        "id": "tDWPK6dWBTij"
      },
      "source": [
        "## Save results"
      ]
    },
    {
      "cell_type": "code",
      "execution_count": null,
      "metadata": {
        "id": "0K_o3pgsBTij"
      },
      "outputs": [],
      "source": [
        "gdf_filter.to_file(\"solar_panels.geojson\")"
      ]
    },
    {
      "cell_type": "markdown",
      "metadata": {
        "id": "U6VaxS2fBTij"
      },
      "source": [
        "![image](https://github.com/user-attachments/assets/a38925dc-b840-42b0-a926-326ef99b181c)"
      ]
    }
  ],
  "metadata": {
    "kernelspec": {
      "display_name": "geo",
      "language": "python",
      "name": "python3"
    },
    "language_info": {
      "codemirror_mode": {
        "name": "ipython",
        "version": 3
      },
      "file_extension": ".py",
      "mimetype": "text/x-python",
      "name": "python",
      "nbconvert_exporter": "python",
      "pygments_lexer": "ipython3",
      "version": "3.12.9"
    },
    "colab": {
      "provenance": []
    }
  },
  "nbformat": 4,
  "nbformat_minor": 0
}