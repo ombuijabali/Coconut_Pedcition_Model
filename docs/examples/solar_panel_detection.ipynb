{
  "cells": [
    {
      "cell_type": "markdown",
      "metadata": {
        "id": "p0MVoOd2Cs_x"
      },
      "source": [
        "# Solar Panel Detection\n",
        "\n",
        "This notebook demonstrates how to use the geoai package for solar panel detection using a pre-trained model.\n",
        "\n",
        "[![image](https://colab.research.google.com/assets/colab-badge.svg)](https://colab.research.google.com/github/opengeos/geoai/blob/main/docs/examples/solar_panel_detection.ipynb)\n",
        "\n",
        "## Install package\n",
        "To use the `geoai-py` package, ensure it is installed in your environment. Uncomment the command below if needed."
      ]
    },
    {
      "cell_type": "code",
      "execution_count": null,
      "metadata": {
        "id": "WTN4yI5RCs_0"
      },
      "outputs": [],
      "source": [
        "!pip install geoai-py"
      ]
    },
    {
      "cell_type": "markdown",
      "metadata": {
        "id": "9eiQzyIpCs_1"
      },
      "source": [
        "## Import libraries"
      ]
    },
    {
      "cell_type": "code",
      "execution_count": null,
      "metadata": {
        "id": "saCz3HnACs_1"
      },
      "outputs": [],
      "source": [
        "import geoai"
      ]
    },
    {
      "cell_type": "markdown",
      "metadata": {
        "id": "U7rNTyMjCs_1"
      },
      "source": [
        "##sample data"
      ]
    },
    {
      "cell_type": "code",
      "execution_count": null,
      "metadata": {
        "id": "BSeJKSMvCs_2"
      },
      "outputs": [],
      "source": [
        "raster_url = \"https://huggingface.co/datasets/giswqs/geospatial/resolve/main/solar_panels_davis_ca.tif\"\n",
        "raster_path = geoai.download_file(raster_url)"
      ]
    },
    {
      "cell_type": "code",
      "execution_count": null,
      "metadata": {
        "id": "ZLR1HE1PCs_2"
      },
      "outputs": [],
      "source": [
        "geoai.print_raster_info(raster_path)"
      ]
    },
    {
      "cell_type": "markdown",
      "metadata": {
        "id": "ysscUBEuCs_2"
      },
      "source": [
        "## Visualize data"
      ]
    },
    {
      "cell_type": "code",
      "execution_count": null,
      "metadata": {
        "id": "UUYuB6pQCs_3"
      },
      "outputs": [],
      "source": [
        "geoai.view_raster(raster_url)"
      ]
    },
    {
      "cell_type": "markdown",
      "metadata": {
        "id": "9Ni1fFgtCs_3"
      },
      "source": [
        "## Initialize model"
      ]
    },
    {
      "cell_type": "code",
      "execution_count": null,
      "metadata": {
        "id": "DZetgTqZCs_4"
      },
      "outputs": [],
      "source": [
        "detector = geoai.SolarPanelDetector()"
      ]
    },
    {
      "cell_type": "markdown",
      "metadata": {
        "id": "aKQU_biPCs_4"
      },
      "source": [
        "## Generate masks"
      ]
    },
    {
      "cell_type": "code",
      "execution_count": null,
      "metadata": {
        "id": "6mm703bDCs_4"
      },
      "outputs": [],
      "source": [
        "output_path = \"solar_panel_masks.tif\""
      ]
    },
    {
      "cell_type": "code",
      "execution_count": null,
      "metadata": {
        "id": "u0blhZJoCs_5"
      },
      "outputs": [],
      "source": [
        "masks_path = detector.generate_masks(\n",
        "    raster_path,\n",
        "    output_path=output_path,\n",
        "    confidence_threshold=0.4,\n",
        "    mask_threshold=0.5,\n",
        "    min_object_area=100,\n",
        "    overlap=0.25,\n",
        "    chip_size=(400, 400),\n",
        "    batch_size=4,\n",
        "    verbose=False,\n",
        ")"
      ]
    },
    {
      "cell_type": "markdown",
      "metadata": {
        "id": "ZmcRZRA_Cs_7"
      },
      "source": [
        "## Visualize masks"
      ]
    },
    {
      "cell_type": "code",
      "execution_count": null,
      "metadata": {
        "id": "04FVxTRBCs_7"
      },
      "outputs": [],
      "source": [
        "geoai.view_raster(\n",
        "    output_path,\n",
        "    indexes=[2],\n",
        "    colormap=\"autumn\",\n",
        "    layer_name=\"Solar Panels\",\n",
        "    basemap=raster_url,\n",
        ")"
      ]
    },
    {
      "cell_type": "markdown",
      "metadata": {
        "id": "FltRG7T1Cs_8"
      },
      "source": [
        "## Vectorize masks"
      ]
    },
    {
      "cell_type": "code",
      "execution_count": null,
      "metadata": {
        "id": "aqS3SxXXCs_8"
      },
      "outputs": [],
      "source": [
        "gdf = geoai.orthogonalize(\n",
        "    input_path=masks_path, output_path=\"solar_panel_masks.geojson\", epsilon=0.2\n",
        ")"
      ]
    },
    {
      "cell_type": "markdown",
      "metadata": {
        "id": "knKnuR-RCs_8"
      },
      "source": [
        "## Visualize initial results"
      ]
    },
    {
      "cell_type": "code",
      "execution_count": null,
      "metadata": {
        "id": "e5vSEJCZCs_9"
      },
      "outputs": [],
      "source": [
        "geoai.view_vector_interactive(gdf, tiles=raster_url)"
      ]
    },
    {
      "cell_type": "markdown",
      "metadata": {
        "id": "tS5UuNriCs_9"
      },
      "source": [
        "## Calculate geometric properties"
      ]
    },
    {
      "cell_type": "code",
      "execution_count": null,
      "metadata": {
        "id": "Jd3AIjTMCs_9"
      },
      "outputs": [],
      "source": [
        "gdf = geoai.add_geometric_properties(gdf)\n",
        "gdf.head()"
      ]
    },
    {
      "cell_type": "code",
      "execution_count": null,
      "metadata": {
        "id": "CrlEI74VCs_9"
      },
      "outputs": [],
      "source": [
        "print(len(gdf))"
      ]
    },
    {
      "cell_type": "code",
      "execution_count": null,
      "metadata": {
        "id": "PeDHqxO7Cs_-"
      },
      "outputs": [],
      "source": [
        "geoai.view_vector_interactive(gdf, column=\"elongation\", tiles=raster_url)"
      ]
    },
    {
      "cell_type": "markdown",
      "metadata": {
        "id": "mEhWVl4NCs_-"
      },
      "source": [
        "## Filter results"
      ]
    },
    {
      "cell_type": "code",
      "execution_count": null,
      "metadata": {
        "id": "5EfO8_EOCs_-"
      },
      "outputs": [],
      "source": [
        "gdf_filter = gdf[(gdf[\"elongation\"] < 10) & (gdf[\"area_m2\"] > 5)]\n",
        "print(len(gdf_filter))"
      ]
    },
    {
      "cell_type": "markdown",
      "metadata": {
        "id": "cuflRyhECs_-"
      },
      "source": [
        "## Visualize final results"
      ]
    },
    {
      "cell_type": "code",
      "execution_count": null,
      "metadata": {
        "id": "ZxhChC1WCs_-"
      },
      "outputs": [],
      "source": [
        "geoai.view_vector_interactive(gdf_filter, column=\"area_m2\", tiles=raster_url)"
      ]
    },
    {
      "cell_type": "code",
      "execution_count": null,
      "metadata": {
        "id": "iJKP1YkICs__"
      },
      "outputs": [],
      "source": [
        "geoai.view_vector_interactive(\n",
        "    gdf_filter, style_kwds={\"color\": \"red\", \"fillOpacity\": 0}, tiles=raster_url\n",
        ")"
      ]
    },
    {
      "cell_type": "code",
      "execution_count": null,
      "metadata": {
        "id": "qdDVmJ2PCs__"
      },
      "outputs": [],
      "source": [
        "gdf_filter[\"area_m2\"].hist()"
      ]
    },
    {
      "cell_type": "code",
      "execution_count": null,
      "metadata": {
        "id": "g7eq8yA6Cs__"
      },
      "outputs": [],
      "source": [
        "gdf_filter[\"area_m2\"].describe()"
      ]
    },
    {
      "cell_type": "code",
      "execution_count": null,
      "metadata": {
        "id": "VLoaCMIECs__"
      },
      "outputs": [],
      "source": [
        "gdf_filter[\"area_m2\"].sum()"
      ]
    },
    {
      "cell_type": "markdown",
      "metadata": {
        "id": "rcn8vcHOCtAA"
      },
      "source": [
        "## Save results"
      ]
    },
    {
      "cell_type": "code",
      "execution_count": null,
      "metadata": {
        "id": "FGMUbUx2CtAA"
      },
      "outputs": [],
      "source": [
        "gdf_filter.to_file(\"solar_panels.geojson\")"
      ]
    },
    {
      "cell_type": "markdown",
      "metadata": {
        "id": "8beStvL9CtAA"
      },
      "source": [
        "![image](https://github.com/user-attachments/assets/a38925dc-b840-42b0-a926-326ef99b181c)"
      ]
    }
  ],
  "metadata": {
    "kernelspec": {
      "display_name": "geo",
      "language": "python",
      "name": "python3"
    },
    "language_info": {
      "codemirror_mode": {
        "name": "ipython",
        "version": 3
      },
      "file_extension": ".py",
      "mimetype": "text/x-python",
      "name": "python",
      "nbconvert_exporter": "python",
      "pygments_lexer": "ipython3",
      "version": "3.12.9"
    },
    "colab": {
      "provenance": []
    }
  },
  "nbformat": 4,
  "nbformat_minor": 0
}