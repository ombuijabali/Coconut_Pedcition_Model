{
  "cells": [
    {
      "cell_type": "markdown",
      "metadata": {
        "id": "EjE8c2lJBcb7"
      },
      "source": [
        "# Ship Detection\n",
        "\n",
        "This notebook demonstrates how to use the geoai package for ship detection using a pre-trained model.\n",
        "\n",
        "[![image](https://colab.research.google.com/assets/colab-badge.svg)](https://colab.research.google.com/github/opengeos/geoai/blob/main/docs/examples/ship_detection.ipynb)\n",
        "\n",
        "## Install package\n",
        "To use the `geoai-py` package, ensure it is installed in your environment. Uncomment the command below if needed."
      ]
    },
    {
      "cell_type": "code",
      "execution_count": null,
      "metadata": {
        "id": "xxNDTqTlBcb-"
      },
      "outputs": [],
      "source": [
        "# %pip install geoai-py"
      ]
    },
    {
      "cell_type": "markdown",
      "metadata": {
        "id": "A3UJ-kx-BccA"
      },
      "source": [
        "## Import libraries"
      ]
    },
    {
      "cell_type": "code",
      "execution_count": null,
      "metadata": {
        "id": "HiQJVwEQBccB"
      },
      "outputs": [],
      "source": [
        "import geoai"
      ]
    },
    {
      "cell_type": "markdown",
      "metadata": {
        "id": "ZEj3K-uZBccB"
      },
      "source": [
        "## Download sample data"
      ]
    },
    {
      "cell_type": "code",
      "execution_count": null,
      "metadata": {
        "id": "7OGmGRiBBccB"
      },
      "outputs": [],
      "source": [
        "raster_url = (\n",
        "    \"https://huggingface.co/datasets/giswqs/geospatial/resolve/main/ships_dubai.tif\"\n",
        ")\n",
        "raster_path = geoai.download_file(raster_url, \"ships_dubai.tif\")"
      ]
    },
    {
      "cell_type": "markdown",
      "metadata": {
        "id": "6dwFEwNpBccC"
      },
      "source": [
        "## Visualize data"
      ]
    },
    {
      "cell_type": "code",
      "execution_count": null,
      "metadata": {
        "id": "aNN2G94pBccC"
      },
      "outputs": [],
      "source": [
        "geoai.view_raster(raster_url)"
      ]
    },
    {
      "cell_type": "markdown",
      "metadata": {
        "id": "vhEHmTQGBccC"
      },
      "source": [
        "## Initialize model"
      ]
    },
    {
      "cell_type": "code",
      "execution_count": null,
      "metadata": {
        "id": "3xysoiPEBccD"
      },
      "outputs": [],
      "source": [
        "detector = geoai.ShipDetector()"
      ]
    },
    {
      "cell_type": "markdown",
      "metadata": {
        "id": "kkjdhivXBccD"
      },
      "source": [
        "## Generate masks"
      ]
    },
    {
      "cell_type": "code",
      "execution_count": null,
      "metadata": {
        "id": "ZvNA9xkKBccD"
      },
      "outputs": [],
      "source": [
        "output_path = \"ships_dubai_masks.tif\""
      ]
    },
    {
      "cell_type": "code",
      "execution_count": null,
      "metadata": {
        "id": "bbp9-VwPBccE"
      },
      "outputs": [],
      "source": [
        "masks_path = detector.generate_masks(\n",
        "    raster_path,\n",
        "    output_path=output_path,\n",
        "    confidence_threshold=0.9,\n",
        "    mask_threshold=0.7,\n",
        "    overlap=0.25,\n",
        "    chip_size=(256, 256),\n",
        "    batch_size=4,\n",
        ")"
      ]
    },
    {
      "cell_type": "markdown",
      "metadata": {
        "id": "qzx1buOaBccE"
      },
      "source": [
        "## Vectorize masks"
      ]
    },
    {
      "cell_type": "code",
      "execution_count": null,
      "metadata": {
        "id": "5ieXRCYaBccE"
      },
      "outputs": [],
      "source": [
        "gdf = detector.vectorize_masks(\n",
        "    output_path,\n",
        "    output_path=\"ships_dubai_masks.geojson\",\n",
        "    confidence_threshold=0.8,\n",
        "    min_object_area=100,\n",
        "    max_object_size=10000,\n",
        ")"
      ]
    },
    {
      "cell_type": "markdown",
      "metadata": {
        "id": "rWteplESBccF"
      },
      "source": [
        "## Visualize initial results"
      ]
    },
    {
      "cell_type": "code",
      "execution_count": null,
      "metadata": {
        "id": "UJa_RLuPBccF"
      },
      "outputs": [],
      "source": [
        "geoai.view_vector_interactive(gdf, column=\"confidence\", tiles=raster_url)"
      ]
    },
    {
      "cell_type": "markdown",
      "metadata": {
        "id": "-DmrFKtJBccI"
      },
      "source": [
        "## Calculate geometric properties"
      ]
    },
    {
      "cell_type": "code",
      "execution_count": null,
      "metadata": {
        "id": "qTg_cryoBccI"
      },
      "outputs": [],
      "source": [
        "gdf = geoai.add_geometric_properties(gdf)\n",
        "gdf.head()"
      ]
    },
    {
      "cell_type": "code",
      "execution_count": null,
      "metadata": {
        "id": "rYKmPumLBccJ"
      },
      "outputs": [],
      "source": [
        "geoai.view_vector_interactive(gdf, column=\"confidence\", tiles=raster_url)"
      ]
    },
    {
      "cell_type": "markdown",
      "metadata": {
        "id": "47Q58b9EBccJ"
      },
      "source": [
        "## Filter results"
      ]
    },
    {
      "cell_type": "code",
      "execution_count": null,
      "metadata": {
        "id": "KCvZlm-NBccJ"
      },
      "outputs": [],
      "source": [
        "m = geoai.view_raster(raster_url, backend=\"ipyleaflet\")\n",
        "m"
      ]
    },
    {
      "cell_type": "markdown",
      "metadata": {
        "id": "4UB-FVgnBccJ"
      },
      "source": [
        "Use the drawing tool to select the area of interest."
      ]
    },
    {
      "cell_type": "code",
      "execution_count": null,
      "metadata": {
        "id": "5ASIWDwvBccJ"
      },
      "outputs": [],
      "source": [
        "aoi = m.user_rois\n",
        "\n",
        "if aoi is None:\n",
        "\n",
        "    aoi = {\n",
        "        \"type\": \"FeatureCollection\",\n",
        "        \"features\": [\n",
        "            {\n",
        "                \"type\": \"Feature\",\n",
        "                \"properties\": {},\n",
        "                \"geometry\": {\n",
        "                    \"type\": \"Polygon\",\n",
        "                    \"coordinates\": [\n",
        "                        [\n",
        "                            [55.133729, 25.110277],\n",
        "                            [55.134072, 25.11393],\n",
        "                            [55.134823, 25.115601],\n",
        "                            [55.136025, 25.117116],\n",
        "                            [55.137677, 25.118127],\n",
        "                            [55.140145, 25.118787],\n",
        "                            [55.142248, 25.11902],\n",
        "                            [55.142012, 25.118243],\n",
        "                            [55.140831, 25.116728],\n",
        "                            [55.13948, 25.116903],\n",
        "                            [55.137956, 25.116825],\n",
        "                            [55.136132, 25.115543],\n",
        "                            [55.13566, 25.114416],\n",
        "                            [55.135467, 25.1136],\n",
        "                            [55.135939, 25.112609],\n",
        "                            [55.136218, 25.111657],\n",
        "                            [55.13551, 25.110685],\n",
        "                            [55.134373, 25.110102],\n",
        "                            [55.133729, 25.110277],\n",
        "                        ]\n",
        "                    ],\n",
        "                },\n",
        "            }\n",
        "        ],\n",
        "    }"
      ]
    },
    {
      "cell_type": "code",
      "execution_count": null,
      "metadata": {
        "id": "IocAU-OYBccK"
      },
      "outputs": [],
      "source": [
        "import geopandas as gpd"
      ]
    },
    {
      "cell_type": "code",
      "execution_count": null,
      "metadata": {
        "id": "gQ4gdb9ABccK"
      },
      "outputs": [],
      "source": [
        "aoi_gdf = gpd.GeoDataFrame.from_features(aoi[\"features\"], crs=\"EPSG:4326\").to_crs(\n",
        "    gdf.crs\n",
        ")"
      ]
    },
    {
      "cell_type": "markdown",
      "metadata": {
        "id": "f9sjKR1XBccK"
      },
      "source": [
        "Intersect the selected area with the vectorized masks to filter the results."
      ]
    },
    {
      "cell_type": "code",
      "execution_count": null,
      "metadata": {
        "id": "Bjt6GGMhBccL"
      },
      "outputs": [],
      "source": [
        "gdf_filter = gdf[gdf.intersects(aoi_gdf.geometry[0])]\n",
        "gdf_filter.head()"
      ]
    },
    {
      "cell_type": "markdown",
      "metadata": {
        "id": "unYGAQLnBccL"
      },
      "source": [
        "## Visualize final results"
      ]
    },
    {
      "cell_type": "code",
      "execution_count": null,
      "metadata": {
        "id": "xk3QeOI2BccL"
      },
      "outputs": [],
      "source": [
        "geoai.view_vector_interactive(gdf_filter, column=\"confidence\", tiles=raster_url)"
      ]
    },
    {
      "cell_type": "markdown",
      "metadata": {
        "id": "rdoHhCYXBccL"
      },
      "source": [
        "## Save results"
      ]
    },
    {
      "cell_type": "code",
      "execution_count": null,
      "metadata": {
        "id": "arwJlsONBccL"
      },
      "outputs": [],
      "source": [
        "gdf_filter.to_file(\"ships_dubai.geojson\")"
      ]
    },
    {
      "cell_type": "markdown",
      "metadata": {
        "id": "DwIbbaM1BccM"
      },
      "source": [
        "![image](https://github.com/user-attachments/assets/80df3827-8453-45b2-af89-21662fdf95a6)"
      ]
    }
  ],
  "metadata": {
    "kernelspec": {
      "display_name": "geo",
      "language": "python",
      "name": "python3"
    },
    "language_info": {
      "codemirror_mode": {
        "name": "ipython",
        "version": 3
      },
      "file_extension": ".py",
      "mimetype": "text/x-python",
      "name": "python",
      "nbconvert_exporter": "python",
      "pygments_lexer": "ipython3",
      "version": "3.12.9"
    },
    "colab": {
      "provenance": []
    }
  },
  "nbformat": 4,
  "nbformat_minor": 0
}