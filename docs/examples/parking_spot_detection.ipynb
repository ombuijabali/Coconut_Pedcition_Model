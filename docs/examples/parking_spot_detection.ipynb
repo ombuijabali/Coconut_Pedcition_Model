{
  "cells": [
    {
      "cell_type": "markdown",
      "metadata": {
        "id": "1KoRziL-BpN3"
      },
      "source": [
        "# Parking Spot Detection\n",
        "\n",
        "[![image](https://colab.research.google.com/assets/colab-badge.svg)](https://colab.research.google.com/github/opengeos/geoai/blob/main/docs/examples/parking_spot_detection.ipynb)\n",
        "\n",
        "## Install package\n",
        "To use the `geoai-py` package, ensure it is installed in your environment. Uncomment the command below if needed."
      ]
    },
    {
      "cell_type": "code",
      "execution_count": null,
      "metadata": {
        "id": "AWZPA6EsBpN6"
      },
      "outputs": [],
      "source": [
        "# %pip install geoai-py"
      ]
    },
    {
      "cell_type": "markdown",
      "metadata": {
        "id": "2s76PNhgBpN7"
      },
      "source": [
        "## Import libraries"
      ]
    },
    {
      "cell_type": "code",
      "execution_count": null,
      "metadata": {
        "id": "OTEZChFOBpN7"
      },
      "outputs": [],
      "source": [
        "import geoai"
      ]
    },
    {
      "cell_type": "markdown",
      "metadata": {
        "id": "tJ9nFgQ1BpN8"
      },
      "source": [
        "##sample data"
      ]
    },
    {
      "cell_type": "code",
      "execution_count": null,
      "metadata": {
        "id": "mi875E6gBpN8"
      },
      "outputs": [],
      "source": [
        "raster_url = (\n",
        "    \"https://huggingface.co/datasets/giswqs/geospatial/resolve/main/parking_spots.tif\"\n",
        ")"
      ]
    },
    {
      "cell_type": "code",
      "execution_count": null,
      "metadata": {
        "id": "tn6DJU8VBpN8"
      },
      "outputs": [],
      "source": [
        "raster_path = geoai.download_file(raster_url)"
      ]
    },
    {
      "cell_type": "markdown",
      "metadata": {
        "id": "hsWDy7PiBpN9"
      },
      "source": [
        "## Visualize the image"
      ]
    },
    {
      "cell_type": "code",
      "execution_count": null,
      "metadata": {
        "id": "-2hkmrOsBpN9"
      },
      "outputs": [],
      "source": [
        "geoai.view_raster(raster_url)"
      ]
    },
    {
      "cell_type": "markdown",
      "metadata": {
        "id": "NVpBQAdCBpN9"
      },
      "source": [
        "## Initialize the model"
      ]
    },
    {
      "cell_type": "code",
      "execution_count": null,
      "metadata": {
        "id": "lRycOdxnBpN-"
      },
      "outputs": [],
      "source": [
        "detector = geoai.ParkingSplotDetector()"
      ]
    },
    {
      "cell_type": "markdown",
      "metadata": {
        "id": "4K9G3BddBpN-"
      },
      "source": [
        "## Extract parking spots\n",
        "\n",
        "Extract parking spots from the image using the model and save the output image."
      ]
    },
    {
      "cell_type": "code",
      "execution_count": null,
      "metadata": {
        "id": "7JgJc78nBpN-"
      },
      "outputs": [],
      "source": [
        "mask_path = detector.generate_masks(\n",
        "    raster_path=raster_path,\n",
        "    output_path=\"parking_masks.tif\",\n",
        "    confidence_threshold=0.5,\n",
        "    mask_threshold=0.5,\n",
        "    overlap=0.25,\n",
        "    chip_size=(256, 256),\n",
        "    min_object_area=10,\n",
        "    # max_object_area=5000,\n",
        ")"
      ]
    },
    {
      "cell_type": "markdown",
      "metadata": {
        "id": "bq4HK0yjBpN_"
      },
      "source": [
        "Convert the image masks to polygons and save the output GeoJSON file."
      ]
    },
    {
      "cell_type": "code",
      "execution_count": null,
      "metadata": {
        "id": "8RF5SBuJBpN_"
      },
      "outputs": [],
      "source": [
        "gdf = detector.vectorize_masks(\n",
        "    masks_path=\"parking_masks.tif\",\n",
        "    output_path=\"parking.geojson\",\n",
        "    min_object_area=300,\n",
        "    # max_object_area=5000,\n",
        ")"
      ]
    },
    {
      "cell_type": "markdown",
      "metadata": {
        "id": "BYdKEwiIBpOA"
      },
      "source": [
        "## Add geometric properties"
      ]
    },
    {
      "cell_type": "code",
      "execution_count": null,
      "metadata": {
        "id": "A7YHvtTPBpOC"
      },
      "outputs": [],
      "source": [
        "gdf = geoai.add_geometric_properties(gdf)"
      ]
    },
    {
      "cell_type": "markdown",
      "metadata": {
        "id": "_i59opLlBpOC"
      },
      "source": [
        "## Visualize results"
      ]
    },
    {
      "cell_type": "code",
      "execution_count": null,
      "metadata": {
        "id": "ktvXgEGOBpOD"
      },
      "outputs": [],
      "source": [
        "geoai.view_vector_interactive(gdf, column=\"confidence\", tiles=raster_url)"
      ]
    }
  ],
  "metadata": {
    "kernelspec": {
      "display_name": "geo",
      "language": "python",
      "name": "python3"
    },
    "language_info": {
      "codemirror_mode": {
        "name": "ipython",
        "version": 3
      },
      "file_extension": ".py",
      "mimetype": "text/x-python",
      "name": "python",
      "nbconvert_exporter": "python",
      "pygments_lexer": "ipython3",
      "version": "3.12.9"
    },
    "colab": {
      "provenance": []
    }
  },
  "nbformat": 4,
  "nbformat_minor": 0
}