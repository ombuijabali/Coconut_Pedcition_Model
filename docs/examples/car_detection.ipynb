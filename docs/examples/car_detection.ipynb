{
  "cells": [
    {
      "cell_type": "markdown",
      "metadata": {
        "id": "ZWpAWaaSAUfZ"
      },
      "source": [
        "# Car Detection\n",
        "\n",
        "[![image](https://colab.research.google.com/assets/colab-badge.svg)](https://colab.research.google.com/github/opengeos/geoai/blob/main/docs/examples/car_detection.ipynb)\n",
        "\n",
        "## Install package\n",
        "To use the `geoai-py` package, ensure it is installed in your environment. Uncomment the command below if needed."
      ]
    },
    {
      "cell_type": "code",
      "execution_count": null,
      "metadata": {
        "id": "yoM5CP0rAUfc"
      },
      "outputs": [],
      "source": [
        "# %pip install geoai-py"
      ]
    },
    {
      "cell_type": "markdown",
      "metadata": {
        "id": "wCfhDTImAUfd"
      },
      "source": [
        "## Import libraries"
      ]
    },
    {
      "cell_type": "code",
      "execution_count": null,
      "metadata": {
        "id": "yY06nG7-AUfe"
      },
      "outputs": [],
      "source": [
        "import geoai"
      ]
    },
    {
      "cell_type": "markdown",
      "metadata": {
        "id": "oWJwMKOGAUfe"
      },
      "source": [
        "##sample data\n"
      ]
    },
    {
      "cell_type": "code",
      "execution_count": null,
      "metadata": {
        "id": "SnBGq_WOAUff"
      },
      "outputs": [],
      "source": [
        "raster_url = (\n",
        "    \"https://huggingface.co/datasets/giswqs/geospatial/resolve/main/cars_7cm.tif\"\n",
        ")"
      ]
    },
    {
      "cell_type": "code",
      "execution_count": null,
      "metadata": {
        "id": "0NDWMdwzAUff"
      },
      "outputs": [],
      "source": [
        "raster_path = geoai.download_file(raster_url)"
      ]
    },
    {
      "cell_type": "markdown",
      "metadata": {
        "id": "p5bHB10DAUff"
      },
      "source": [
        "## Visualize the image"
      ]
    },
    {
      "cell_type": "code",
      "execution_count": null,
      "metadata": {
        "id": "3PSFDhNTAUfg"
      },
      "outputs": [],
      "source": [
        "geoai.view_raster(raster_url)"
      ]
    },
    {
      "cell_type": "markdown",
      "metadata": {
        "id": "j9Gi8lgzAUfg"
      },
      "source": [
        "## Initialize the model"
      ]
    },
    {
      "cell_type": "code",
      "execution_count": null,
      "metadata": {
        "id": "C8By9ZUuAUfh"
      },
      "outputs": [],
      "source": [
        "detector = geoai.CarDetector()"
      ]
    },
    {
      "cell_type": "markdown",
      "metadata": {
        "id": "6LE2xXFsAUfh"
      },
      "source": [
        "## Extract cars\n",
        "\n",
        "Extract cars from the image using the model and save the output image."
      ]
    },
    {
      "cell_type": "code",
      "execution_count": null,
      "metadata": {
        "id": "0npOU3qDAUfh"
      },
      "outputs": [],
      "source": [
        "mask_path = detector.generate_masks(\n",
        "    raster_path=raster_path,\n",
        "    output_path=\"cars_masks.tif\",\n",
        "    confidence_threshold=0.3,\n",
        "    mask_threshold=0.5,\n",
        "    overlap=0.25,\n",
        "    chip_size=(400, 400),\n",
        ")"
      ]
    },
    {
      "cell_type": "markdown",
      "metadata": {
        "id": "LDKLFb1uAUfi"
      },
      "source": [
        "Convert the image masks to polygons and save the output GeoJSON file."
      ]
    },
    {
      "cell_type": "code",
      "execution_count": null,
      "metadata": {
        "id": "oQp18ss_AUfi"
      },
      "outputs": [],
      "source": [
        "gdf = detector.vectorize_masks(\n",
        "    masks_path=\"cars_masks.tif\",\n",
        "    output_path=\"cars.geojson\",\n",
        "    min_object_area=100,\n",
        "    max_object_area=2000,\n",
        ")"
      ]
    },
    {
      "cell_type": "markdown",
      "metadata": {
        "id": "8HfiaMy7AUfi"
      },
      "source": [
        "## Add geometric properties"
      ]
    },
    {
      "cell_type": "code",
      "execution_count": null,
      "metadata": {
        "id": "LTPFUYfmAUfi"
      },
      "outputs": [],
      "source": [
        "gdf = geoai.add_geometric_properties(gdf)"
      ]
    },
    {
      "cell_type": "markdown",
      "metadata": {
        "id": "mDj0DE8xAUfj"
      },
      "source": [
        "## Visualize initial results"
      ]
    },
    {
      "cell_type": "code",
      "execution_count": null,
      "metadata": {
        "id": "McngrKO4AUfj"
      },
      "outputs": [],
      "source": [
        "geoai.view_vector_interactive(gdf, column=\"confidence\", tiles=raster_url)"
      ]
    },
    {
      "cell_type": "markdown",
      "metadata": {
        "id": "9aeWIUJ4AUfj"
      },
      "source": [
        "## Filter cars by area"
      ]
    },
    {
      "cell_type": "code",
      "execution_count": null,
      "metadata": {
        "id": "_qV_ltMfAUfj"
      },
      "outputs": [],
      "source": [
        "gdf_filter = gdf[\n",
        "    (gdf[\"area_m2\"] > 8) & (gdf[\"area_m2\"] < 60) & (gdf[\"minor_length_m\"] > 1)\n",
        "]"
      ]
    },
    {
      "cell_type": "code",
      "execution_count": null,
      "metadata": {
        "id": "oJvEif3QAUfk"
      },
      "outputs": [],
      "source": [
        "len(gdf_filter)"
      ]
    },
    {
      "cell_type": "markdown",
      "metadata": {
        "id": "tQoHtwt1AUfk"
      },
      "source": [
        "## Visualiza final results"
      ]
    },
    {
      "cell_type": "code",
      "execution_count": null,
      "metadata": {
        "id": "XXKfGC0ZAUfk"
      },
      "outputs": [],
      "source": [
        "geoai.view_vector_interactive(gdf_filter, column=\"confidence\", tiles=raster_url)"
      ]
    },
    {
      "cell_type": "code",
      "execution_count": null,
      "metadata": {
        "id": "2A9eOnwHAUfl"
      },
      "outputs": [],
      "source": [
        "geoai.view_vector_interactive(gdf_filter, tiles=raster_url)"
      ]
    },
    {
      "cell_type": "markdown",
      "metadata": {
        "id": "9ZOLU1UqAUfl"
      },
      "source": [
        "![image](https://github.com/user-attachments/assets/a1e4c871-b152-466a-b902-7c00e62e5444)"
      ]
    }
  ],
  "metadata": {
    "kernelspec": {
      "display_name": "torch",
      "language": "python",
      "name": "python3"
    },
    "language_info": {
      "codemirror_mode": {
        "name": "ipython",
        "version": 3
      },
      "file_extension": ".py",
      "mimetype": "text/x-python",
      "name": "python",
      "nbconvert_exporter": "python",
      "pygments_lexer": "ipython3",
      "version": "3.11.8"
    },
    "colab": {
      "provenance": []
    }
  },
  "nbformat": 4,
  "nbformat_minor": 0
}