{
  "cells": [
    {
      "cell_type": "markdown",
      "metadata": {
        "id": "-npxGJi2CUY5"
      },
      "source": [
        "# Car Detection\n",
        "\n",
        "[![image](https://colab.research.google.com/assets/colab-badge.svg)](https://colab.research.google.com/github/opengeos/geoai/blob/main/docs/examples/car_detection.ipynb)\n",
        "\n",
        "## Install package\n",
        "To use the `geoai-py` package, ensure it is installed in your environment. Uncomment the command below if needed."
      ]
    },
    {
      "cell_type": "code",
      "execution_count": null,
      "metadata": {
        "id": "3K1v-9WRCUY8"
      },
      "outputs": [],
      "source": [
        "!pip install geoai-py"
      ]
    },
    {
      "cell_type": "markdown",
      "metadata": {
        "id": "xOYTB-1lCUY9"
      },
      "source": [
        "## Import libraries"
      ]
    },
    {
      "cell_type": "code",
      "execution_count": null,
      "metadata": {
        "id": "PmOKYpouCUY-"
      },
      "outputs": [],
      "source": [
        "import geoai"
      ]
    },
    {
      "cell_type": "markdown",
      "metadata": {
        "id": "DT_r3sscCUY_"
      },
      "source": [
        "## Download sample data\n",
        "\n",
        "We will download a sample image from Hugging Face Hub to use for car detection. You can find more high-resolution images from [OpenAerialMap](https://openaerialmap.org)."
      ]
    },
    {
      "cell_type": "code",
      "execution_count": null,
      "metadata": {
        "id": "oEskEU23CUY_"
      },
      "outputs": [],
      "source": [
        "raster_url = (\n",
        "    \"https://huggingface.co/datasets/giswqs/geospatial/resolve/main/cars_7cm.tif\"\n",
        ")"
      ]
    },
    {
      "cell_type": "code",
      "execution_count": null,
      "metadata": {
        "id": "zCcolnaBCUZA"
      },
      "outputs": [],
      "source": [
        "raster_path = geoai.download_file(raster_url)"
      ]
    },
    {
      "cell_type": "markdown",
      "metadata": {
        "id": "b43TYQVHCUZA"
      },
      "source": [
        "## Visualize the image"
      ]
    },
    {
      "cell_type": "code",
      "execution_count": null,
      "metadata": {
        "id": "lAN2KCctCUZA"
      },
      "outputs": [],
      "source": [
        "geoai.view_raster(raster_url)"
      ]
    },
    {
      "cell_type": "markdown",
      "metadata": {
        "id": "WHT6EET0CUZB"
      },
      "source": [
        "## Initialize the model"
      ]
    },
    {
      "cell_type": "code",
      "execution_count": null,
      "metadata": {
        "id": "47bPPJ00CUZB"
      },
      "outputs": [],
      "source": [
        "detector = geoai.CarDetector()"
      ]
    },
    {
      "cell_type": "markdown",
      "metadata": {
        "id": "mzdDSnVHCUZC"
      },
      "source": [
        "## Extract cars\n",
        "\n",
        "Extract cars from the image using the model and save the output image."
      ]
    },
    {
      "cell_type": "code",
      "execution_count": null,
      "metadata": {
        "id": "1llM20cDCUZC"
      },
      "outputs": [],
      "source": [
        "mask_path = detector.generate_masks(\n",
        "    raster_path=raster_path,\n",
        "    output_path=\"cars_masks.tif\",\n",
        "    confidence_threshold=0.3,\n",
        "    mask_threshold=0.5,\n",
        "    overlap=0.25,\n",
        "    chip_size=(400, 400),\n",
        ")"
      ]
    },
    {
      "cell_type": "markdown",
      "metadata": {
        "id": "UPnTOX6zCUZC"
      },
      "source": [
        "Convert the image masks to polygons and save the output GeoJSON file."
      ]
    },
    {
      "cell_type": "code",
      "execution_count": null,
      "metadata": {
        "id": "o0DAbytZCUZC"
      },
      "outputs": [],
      "source": [
        "gdf = detector.vectorize_masks(\n",
        "    masks_path=\"cars_masks.tif\",\n",
        "    output_path=\"cars.geojson\",\n",
        "    min_object_area=100,\n",
        "    max_object_area=2000,\n",
        ")"
      ]
    },
    {
      "cell_type": "markdown",
      "metadata": {
        "id": "BWWLuGAmCUZD"
      },
      "source": [
        "## Add geometric properties"
      ]
    },
    {
      "cell_type": "code",
      "execution_count": null,
      "metadata": {
        "id": "bIX4AhoeCUZD"
      },
      "outputs": [],
      "source": [
        "gdf = geoai.add_geometric_properties(gdf)"
      ]
    },
    {
      "cell_type": "markdown",
      "metadata": {
        "id": "lVRMtv19CUZD"
      },
      "source": [
        "## Visualize initial results"
      ]
    },
    {
      "cell_type": "code",
      "execution_count": null,
      "metadata": {
        "id": "NwogjIJyCUZD"
      },
      "outputs": [],
      "source": [
        "geoai.view_vector_interactive(gdf, column=\"confidence\", tiles=raster_url)"
      ]
    },
    {
      "cell_type": "markdown",
      "metadata": {
        "id": "UNya1udRCUZE"
      },
      "source": [
        "## Filter cars by area"
      ]
    },
    {
      "cell_type": "code",
      "execution_count": null,
      "metadata": {
        "id": "LHzapxSdCUZE"
      },
      "outputs": [],
      "source": [
        "gdf_filter = gdf[\n",
        "    (gdf[\"area_m2\"] > 8) & (gdf[\"area_m2\"] < 60) & (gdf[\"minor_length_m\"] > 1)\n",
        "]"
      ]
    },
    {
      "cell_type": "code",
      "execution_count": null,
      "metadata": {
        "id": "Q08BG6JcCUZE"
      },
      "outputs": [],
      "source": [
        "len(gdf_filter)"
      ]
    },
    {
      "cell_type": "markdown",
      "metadata": {
        "id": "CLirYvU8CUZF"
      },
      "source": [
        "## Visualiza final results"
      ]
    },
    {
      "cell_type": "code",
      "execution_count": null,
      "metadata": {
        "id": "D-SNg6dACUZF"
      },
      "outputs": [],
      "source": [
        "geoai.view_vector_interactive(gdf_filter, column=\"confidence\", tiles=raster_url)"
      ]
    },
    {
      "cell_type": "code",
      "execution_count": null,
      "metadata": {
        "id": "lUOqEMOOCUZF"
      },
      "outputs": [],
      "source": [
        "geoai.view_vector_interactive(gdf_filter, tiles=raster_url)"
      ]
    },
    {
      "cell_type": "markdown",
      "metadata": {
        "id": "s1cAZohoCUZG"
      },
      "source": [
        "![image](https://github.com/user-attachments/assets/a1e4c871-b152-466a-b902-7c00e62e5444)"
      ]
    }
  ],
  "metadata": {
    "kernelspec": {
      "display_name": "torch",
      "language": "python",
      "name": "python3"
    },
    "language_info": {
      "codemirror_mode": {
        "name": "ipython",
        "version": 3
      },
      "file_extension": ".py",
      "mimetype": "text/x-python",
      "name": "python",
      "nbconvert_exporter": "python",
      "pygments_lexer": "ipython3",
      "version": "3.11.8"
    },
    "colab": {
      "provenance": []
    }
  },
  "nbformat": 4,
  "nbformat_minor": 0
}